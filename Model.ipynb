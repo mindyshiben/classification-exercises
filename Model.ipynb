{
 "cells": [
  {
   "cell_type": "markdown",
   "id": "6516a385",
   "metadata": {},
   "source": [
    "Using the titanic data, in your classification-exercises repository, create a notebook, model.ipynb where you will do the following:\n",
    "\n",
    "What is your baseline prediction? What is your baseline accuracy? remember: your baseline prediction for a classification problem is predicting the most prevelant class in the training dataset (the mode). When you make those predictions, what is your accuracy? This is your baseline accuracy.\n",
    "\n",
    "Fit the decision tree classifier to your training sample and transform (i.e. make predictions on the training sample)\n",
    "\n",
    "Evaluate your in-sample results using the model score, confusion matrix, and classification report.\n",
    "\n",
    "Compute: Accuracy, true positive rate, false positive rate, true negative rate, false negative rate, precision, recall, f1-score, and support.\n",
    "\n",
    "Run through steps 2-4 using a different max_depth value.\n",
    "\n",
    "Which model performs better on your in-sample data?\n",
    "\n",
    "Which model performs best on your out-of-sample data, the validate set?\n",
    "\n"
   ]
  },
  {
   "cell_type": "code",
   "execution_count": 71,
   "id": "4e0cb054",
   "metadata": {},
   "outputs": [],
   "source": [
    "import pandas as pd\n",
    "import warnings\n",
    "warnings.filterwarnings(\"ignore\")\n",
    "\n",
    "import numpy as np\n",
    "\n",
    "from pydataset import data\n",
    "\n",
    "from sklearn.model_selection import train_test_split\n",
    "from sklearn.tree import DecisionTreeClassifier, plot_tree\n",
    "from sklearn.metrics import classification_report\n",
    "from sklearn.metrics import confusion_matrix\n",
    "\n",
    "import matplotlib.pyplot as plt\n",
    "import seaborn as sns\n",
    "import acquire"
   ]
  },
  {
   "cell_type": "code",
   "execution_count": 73,
   "id": "98f2ef4a",
   "metadata": {},
   "outputs": [
    {
     "data": {
      "text/html": [
       "<div>\n",
       "<style scoped>\n",
       "    .dataframe tbody tr th:only-of-type {\n",
       "        vertical-align: middle;\n",
       "    }\n",
       "\n",
       "    .dataframe tbody tr th {\n",
       "        vertical-align: top;\n",
       "    }\n",
       "\n",
       "    .dataframe thead th {\n",
       "        text-align: right;\n",
       "    }\n",
       "</style>\n",
       "<table border=\"1\" class=\"dataframe\">\n",
       "  <thead>\n",
       "    <tr style=\"text-align: right;\">\n",
       "      <th></th>\n",
       "      <th>Unnamed: 0</th>\n",
       "      <th>passenger_id</th>\n",
       "      <th>survived</th>\n",
       "      <th>pclass</th>\n",
       "      <th>sex</th>\n",
       "      <th>age</th>\n",
       "      <th>sibsp</th>\n",
       "      <th>parch</th>\n",
       "      <th>fare</th>\n",
       "      <th>embarked</th>\n",
       "      <th>class</th>\n",
       "      <th>deck</th>\n",
       "      <th>embark_town</th>\n",
       "      <th>alone</th>\n",
       "    </tr>\n",
       "  </thead>\n",
       "  <tbody>\n",
       "    <tr>\n",
       "      <th>0</th>\n",
       "      <td>0</td>\n",
       "      <td>0</td>\n",
       "      <td>0</td>\n",
       "      <td>3</td>\n",
       "      <td>male</td>\n",
       "      <td>22.0</td>\n",
       "      <td>1</td>\n",
       "      <td>0</td>\n",
       "      <td>7.2500</td>\n",
       "      <td>S</td>\n",
       "      <td>Third</td>\n",
       "      <td>NaN</td>\n",
       "      <td>Southampton</td>\n",
       "      <td>0</td>\n",
       "    </tr>\n",
       "    <tr>\n",
       "      <th>1</th>\n",
       "      <td>1</td>\n",
       "      <td>1</td>\n",
       "      <td>1</td>\n",
       "      <td>1</td>\n",
       "      <td>female</td>\n",
       "      <td>38.0</td>\n",
       "      <td>1</td>\n",
       "      <td>0</td>\n",
       "      <td>71.2833</td>\n",
       "      <td>C</td>\n",
       "      <td>First</td>\n",
       "      <td>C</td>\n",
       "      <td>Cherbourg</td>\n",
       "      <td>0</td>\n",
       "    </tr>\n",
       "    <tr>\n",
       "      <th>2</th>\n",
       "      <td>2</td>\n",
       "      <td>2</td>\n",
       "      <td>1</td>\n",
       "      <td>3</td>\n",
       "      <td>female</td>\n",
       "      <td>26.0</td>\n",
       "      <td>0</td>\n",
       "      <td>0</td>\n",
       "      <td>7.9250</td>\n",
       "      <td>S</td>\n",
       "      <td>Third</td>\n",
       "      <td>NaN</td>\n",
       "      <td>Southampton</td>\n",
       "      <td>1</td>\n",
       "    </tr>\n",
       "    <tr>\n",
       "      <th>3</th>\n",
       "      <td>3</td>\n",
       "      <td>3</td>\n",
       "      <td>1</td>\n",
       "      <td>1</td>\n",
       "      <td>female</td>\n",
       "      <td>35.0</td>\n",
       "      <td>1</td>\n",
       "      <td>0</td>\n",
       "      <td>53.1000</td>\n",
       "      <td>S</td>\n",
       "      <td>First</td>\n",
       "      <td>C</td>\n",
       "      <td>Southampton</td>\n",
       "      <td>0</td>\n",
       "    </tr>\n",
       "    <tr>\n",
       "      <th>4</th>\n",
       "      <td>4</td>\n",
       "      <td>4</td>\n",
       "      <td>0</td>\n",
       "      <td>3</td>\n",
       "      <td>male</td>\n",
       "      <td>35.0</td>\n",
       "      <td>0</td>\n",
       "      <td>0</td>\n",
       "      <td>8.0500</td>\n",
       "      <td>S</td>\n",
       "      <td>Third</td>\n",
       "      <td>NaN</td>\n",
       "      <td>Southampton</td>\n",
       "      <td>1</td>\n",
       "    </tr>\n",
       "  </tbody>\n",
       "</table>\n",
       "</div>"
      ],
      "text/plain": [
       "   Unnamed: 0  passenger_id  survived  pclass     sex   age  sibsp  parch  \\\n",
       "0           0             0         0       3    male  22.0      1      0   \n",
       "1           1             1         1       1  female  38.0      1      0   \n",
       "2           2             2         1       3  female  26.0      0      0   \n",
       "3           3             3         1       1  female  35.0      1      0   \n",
       "4           4             4         0       3    male  35.0      0      0   \n",
       "\n",
       "      fare embarked  class deck  embark_town  alone  \n",
       "0   7.2500        S  Third  NaN  Southampton      0  \n",
       "1  71.2833        C  First    C    Cherbourg      0  \n",
       "2   7.9250        S  Third  NaN  Southampton      1  \n",
       "3  53.1000        S  First    C  Southampton      0  \n",
       "4   8.0500        S  Third  NaN  Southampton      1  "
      ]
     },
     "execution_count": 73,
     "metadata": {},
     "output_type": "execute_result"
    }
   ],
   "source": [
    "df = acquire.get_titanic_data()\n",
    "df.head()"
   ]
  },
  {
   "cell_type": "code",
   "execution_count": 74,
   "id": "40d460f2",
   "metadata": {},
   "outputs": [],
   "source": [
    "df = df.drop(['Unnamed: 0', 'passenger_id','pclass', 'deck', 'embarked'], axis=1)"
   ]
  },
  {
   "cell_type": "code",
   "execution_count": 75,
   "id": "4a09bb41",
   "metadata": {},
   "outputs": [],
   "source": [
    "dummy_df = pd.get_dummies(df[['sex', 'embark_town', 'class']], dummy_na=False, drop_first=[True, True, True])"
   ]
  },
  {
   "cell_type": "code",
   "execution_count": 76,
   "id": "b153b1a2",
   "metadata": {},
   "outputs": [],
   "source": [
    "df = pd.concat([dummy_df, df], axis=1)"
   ]
  },
  {
   "cell_type": "code",
   "execution_count": 77,
   "id": "ce246424",
   "metadata": {},
   "outputs": [
    {
     "name": "stdout",
     "output_type": "stream",
     "text": [
      "<class 'pandas.core.frame.DataFrame'>\n",
      "RangeIndex: 891 entries, 0 to 890\n",
      "Data columns (total 14 columns):\n",
      " #   Column                   Non-Null Count  Dtype  \n",
      "---  ------                   --------------  -----  \n",
      " 0   sex_male                 891 non-null    uint8  \n",
      " 1   embark_town_Queenstown   891 non-null    uint8  \n",
      " 2   embark_town_Southampton  891 non-null    uint8  \n",
      " 3   class_Second             891 non-null    uint8  \n",
      " 4   class_Third              891 non-null    uint8  \n",
      " 5   survived                 891 non-null    int64  \n",
      " 6   sex                      891 non-null    object \n",
      " 7   age                      714 non-null    float64\n",
      " 8   sibsp                    891 non-null    int64  \n",
      " 9   parch                    891 non-null    int64  \n",
      " 10  fare                     891 non-null    float64\n",
      " 11  class                    891 non-null    object \n",
      " 12  embark_town              889 non-null    object \n",
      " 13  alone                    891 non-null    int64  \n",
      "dtypes: float64(2), int64(4), object(3), uint8(5)\n",
      "memory usage: 67.1+ KB\n"
     ]
    }
   ],
   "source": [
    "df.info()"
   ]
  },
  {
   "cell_type": "code",
   "execution_count": 78,
   "id": "c478f577",
   "metadata": {},
   "outputs": [],
   "source": [
    "df = df.drop(['sex', 'class','embark_town'], axis=1)"
   ]
  },
  {
   "cell_type": "code",
   "execution_count": 79,
   "id": "9a6facc1",
   "metadata": {},
   "outputs": [
    {
     "name": "stdout",
     "output_type": "stream",
     "text": [
      "<class 'pandas.core.frame.DataFrame'>\n",
      "RangeIndex: 891 entries, 0 to 890\n",
      "Data columns (total 11 columns):\n",
      " #   Column                   Non-Null Count  Dtype  \n",
      "---  ------                   --------------  -----  \n",
      " 0   sex_male                 891 non-null    uint8  \n",
      " 1   embark_town_Queenstown   891 non-null    uint8  \n",
      " 2   embark_town_Southampton  891 non-null    uint8  \n",
      " 3   class_Second             891 non-null    uint8  \n",
      " 4   class_Third              891 non-null    uint8  \n",
      " 5   survived                 891 non-null    int64  \n",
      " 6   age                      714 non-null    float64\n",
      " 7   sibsp                    891 non-null    int64  \n",
      " 8   parch                    891 non-null    int64  \n",
      " 9   fare                     891 non-null    float64\n",
      " 10  alone                    891 non-null    int64  \n",
      "dtypes: float64(2), int64(4), uint8(5)\n",
      "memory usage: 46.2 KB\n"
     ]
    }
   ],
   "source": [
    "df.info()"
   ]
  },
  {
   "cell_type": "code",
   "execution_count": 80,
   "id": "b734540b",
   "metadata": {},
   "outputs": [],
   "source": [
    "def train_validate_test_split(df, target, seed=123):\n",
    "    train_validate, test = train_test_split(df, test_size=0.2, \n",
    "                                            random_state=seed,\n",
    "                                            stratify=df[target])\n",
    "    train, validate = train_test_split(train_validate, test_size=0.3,\n",
    "                                       random_state=seed,\n",
    "                                       stratify=train_validate[target])\n",
    "        \n",
    "    return train, validate, test"
   ]
  },
  {
   "cell_type": "code",
   "execution_count": 81,
   "id": "9362c0cb",
   "metadata": {},
   "outputs": [],
   "source": [
    "train, validate, test = train_validate_test_split(df, target='survived')"
   ]
  },
  {
   "cell_type": "code",
   "execution_count": 82,
   "id": "5611b9c3",
   "metadata": {},
   "outputs": [
    {
     "name": "stdout",
     "output_type": "stream",
     "text": [
      "<class 'pandas.core.frame.DataFrame'>\n",
      "Int64Index: 498 entries, 583 to 744\n",
      "Data columns (total 11 columns):\n",
      " #   Column                   Non-Null Count  Dtype  \n",
      "---  ------                   --------------  -----  \n",
      " 0   sex_male                 498 non-null    uint8  \n",
      " 1   embark_town_Queenstown   498 non-null    uint8  \n",
      " 2   embark_town_Southampton  498 non-null    uint8  \n",
      " 3   class_Second             498 non-null    uint8  \n",
      " 4   class_Third              498 non-null    uint8  \n",
      " 5   survived                 498 non-null    int64  \n",
      " 6   age                      401 non-null    float64\n",
      " 7   sibsp                    498 non-null    int64  \n",
      " 8   parch                    498 non-null    int64  \n",
      " 9   fare                     498 non-null    float64\n",
      " 10  alone                    498 non-null    int64  \n",
      "dtypes: float64(2), int64(4), uint8(5)\n",
      "memory usage: 29.7 KB\n"
     ]
    }
   ],
   "source": [
    "train.info()"
   ]
  },
  {
   "cell_type": "code",
   "execution_count": 84,
   "id": "6e515734",
   "metadata": {},
   "outputs": [
    {
     "data": {
      "text/html": [
       "<div>\n",
       "<style scoped>\n",
       "    .dataframe tbody tr th:only-of-type {\n",
       "        vertical-align: middle;\n",
       "    }\n",
       "\n",
       "    .dataframe tbody tr th {\n",
       "        vertical-align: top;\n",
       "    }\n",
       "\n",
       "    .dataframe thead th {\n",
       "        text-align: right;\n",
       "    }\n",
       "</style>\n",
       "<table border=\"1\" class=\"dataframe\">\n",
       "  <thead>\n",
       "    <tr style=\"text-align: right;\">\n",
       "      <th></th>\n",
       "      <th>sex_male</th>\n",
       "      <th>embark_town_Queenstown</th>\n",
       "      <th>embark_town_Southampton</th>\n",
       "      <th>class_Second</th>\n",
       "      <th>class_Third</th>\n",
       "      <th>survived</th>\n",
       "      <th>age</th>\n",
       "      <th>sibsp</th>\n",
       "      <th>parch</th>\n",
       "      <th>fare</th>\n",
       "      <th>alone</th>\n",
       "    </tr>\n",
       "  </thead>\n",
       "  <tbody>\n",
       "    <tr>\n",
       "      <th>583</th>\n",
       "      <td>1</td>\n",
       "      <td>0</td>\n",
       "      <td>0</td>\n",
       "      <td>0</td>\n",
       "      <td>0</td>\n",
       "      <td>0</td>\n",
       "      <td>36.0</td>\n",
       "      <td>0</td>\n",
       "      <td>0</td>\n",
       "      <td>40.1250</td>\n",
       "      <td>1</td>\n",
       "    </tr>\n",
       "    <tr>\n",
       "      <th>165</th>\n",
       "      <td>1</td>\n",
       "      <td>0</td>\n",
       "      <td>1</td>\n",
       "      <td>0</td>\n",
       "      <td>1</td>\n",
       "      <td>1</td>\n",
       "      <td>9.0</td>\n",
       "      <td>0</td>\n",
       "      <td>2</td>\n",
       "      <td>20.5250</td>\n",
       "      <td>0</td>\n",
       "    </tr>\n",
       "    <tr>\n",
       "      <th>50</th>\n",
       "      <td>1</td>\n",
       "      <td>0</td>\n",
       "      <td>1</td>\n",
       "      <td>0</td>\n",
       "      <td>1</td>\n",
       "      <td>0</td>\n",
       "      <td>7.0</td>\n",
       "      <td>4</td>\n",
       "      <td>1</td>\n",
       "      <td>39.6875</td>\n",
       "      <td>0</td>\n",
       "    </tr>\n",
       "    <tr>\n",
       "      <th>259</th>\n",
       "      <td>0</td>\n",
       "      <td>0</td>\n",
       "      <td>1</td>\n",
       "      <td>1</td>\n",
       "      <td>0</td>\n",
       "      <td>1</td>\n",
       "      <td>50.0</td>\n",
       "      <td>0</td>\n",
       "      <td>1</td>\n",
       "      <td>26.0000</td>\n",
       "      <td>0</td>\n",
       "    </tr>\n",
       "    <tr>\n",
       "      <th>306</th>\n",
       "      <td>0</td>\n",
       "      <td>0</td>\n",
       "      <td>0</td>\n",
       "      <td>0</td>\n",
       "      <td>0</td>\n",
       "      <td>1</td>\n",
       "      <td>NaN</td>\n",
       "      <td>0</td>\n",
       "      <td>0</td>\n",
       "      <td>110.8833</td>\n",
       "      <td>1</td>\n",
       "    </tr>\n",
       "  </tbody>\n",
       "</table>\n",
       "</div>"
      ],
      "text/plain": [
       "     sex_male  embark_town_Queenstown  embark_town_Southampton  class_Second  \\\n",
       "583         1                       0                        0             0   \n",
       "165         1                       0                        1             0   \n",
       "50          1                       0                        1             0   \n",
       "259         0                       0                        1             1   \n",
       "306         0                       0                        0             0   \n",
       "\n",
       "     class_Third  survived   age  sibsp  parch      fare  alone  \n",
       "583            0         0  36.0      0      0   40.1250      1  \n",
       "165            1         1   9.0      0      2   20.5250      0  \n",
       "50             1         0   7.0      4      1   39.6875      0  \n",
       "259            0         1  50.0      0      1   26.0000      0  \n",
       "306            0         1   NaN      0      0  110.8833      1  "
      ]
     },
     "execution_count": 84,
     "metadata": {},
     "output_type": "execute_result"
    }
   ],
   "source": [
    "train.head()"
   ]
  },
  {
   "cell_type": "code",
   "execution_count": 85,
   "id": "8b028027",
   "metadata": {},
   "outputs": [],
   "source": [
    "from sklearn.impute import SimpleImputer"
   ]
  },
  {
   "cell_type": "code",
   "execution_count": 86,
   "id": "43889d7d",
   "metadata": {},
   "outputs": [],
   "source": [
    "imputer = SimpleImputer(strategy='mean', missing_values=np.nan)\n",
    "type(imputer)\n",
    "\n",
    "imputer = imputer.fit(train[['age']])\n",
    "train[['age']] = imputer.transform(train[['age']])"
   ]
  },
  {
   "cell_type": "code",
   "execution_count": 87,
   "id": "85b93375",
   "metadata": {},
   "outputs": [
    {
     "data": {
      "text/plain": [
       "0"
      ]
     },
     "execution_count": 87,
     "metadata": {},
     "output_type": "execute_result"
    }
   ],
   "source": [
    "train['age'].isna().sum()"
   ]
  },
  {
   "cell_type": "code",
   "execution_count": 88,
   "id": "4354481a",
   "metadata": {},
   "outputs": [],
   "source": [
    "validate[['age']] = imputer.transform(validate[['age']])\n",
    "test[['age']] = imputer.transform(test[['age']])"
   ]
  },
  {
   "cell_type": "code",
   "execution_count": 56,
   "id": "9659b2b4",
   "metadata": {},
   "outputs": [
    {
     "name": "stdout",
     "output_type": "stream",
     "text": [
      "<class 'pandas.core.frame.DataFrame'>\n",
      "Int64Index: 498 entries, 583 to 744\n",
      "Data columns (total 12 columns):\n",
      " #   Column        Non-Null Count  Dtype  \n",
      "---  ------        --------------  -----  \n",
      " 0   sex_male      498 non-null    uint8  \n",
      " 1   class_Second  498 non-null    uint8  \n",
      " 2   class_Third   498 non-null    uint8  \n",
      " 3   survived      498 non-null    int64  \n",
      " 4   sex           498 non-null    object \n",
      " 5   age           498 non-null    float64\n",
      " 6   sibsp         498 non-null    int64  \n",
      " 7   parch         498 non-null    int64  \n",
      " 8   fare          498 non-null    float64\n",
      " 9   class         498 non-null    object \n",
      " 10  embark_town   498 non-null    object \n",
      " 11  alone         498 non-null    int64  \n",
      "dtypes: float64(2), int64(4), object(3), uint8(3)\n",
      "memory usage: 40.4+ KB\n"
     ]
    }
   ],
   "source": [
    "train.info()"
   ]
  },
  {
   "cell_type": "code",
   "execution_count": 29,
   "id": "2010b265",
   "metadata": {},
   "outputs": [],
   "source": [
    "# Baseline prediction is NOT SURVIVED as this is the mode of survived"
   ]
  },
  {
   "cell_type": "code",
   "execution_count": 89,
   "id": "79360ce5",
   "metadata": {},
   "outputs": [
    {
     "data": {
      "text/plain": [
       "0.6164658634538153"
      ]
     },
     "execution_count": 89,
     "metadata": {},
     "output_type": "execute_result"
    }
   ],
   "source": [
    "baseline_accuracy = ((train.survived == False).sum() / len(train.survived))\n",
    "baseline_accuracy"
   ]
  },
  {
   "cell_type": "code",
   "execution_count": 90,
   "id": "6513d152",
   "metadata": {},
   "outputs": [],
   "source": [
    "X_train = train.drop(columns=['survived'])\n",
    "y_train = train.survived\n",
    "\n",
    "X_validate = validate.drop(columns=['survived'])\n",
    "y_validate = validate.survived\n",
    "\n",
    "X_test = test.drop(columns=['survived'])\n",
    "y_test = test.survived"
   ]
  },
  {
   "cell_type": "code",
   "execution_count": 91,
   "id": "667bfb4c",
   "metadata": {},
   "outputs": [
    {
     "name": "stdout",
     "output_type": "stream",
     "text": [
      "<class 'pandas.core.frame.DataFrame'>\n",
      "Int64Index: 498 entries, 583 to 744\n",
      "Data columns (total 10 columns):\n",
      " #   Column                   Non-Null Count  Dtype  \n",
      "---  ------                   --------------  -----  \n",
      " 0   sex_male                 498 non-null    uint8  \n",
      " 1   embark_town_Queenstown   498 non-null    uint8  \n",
      " 2   embark_town_Southampton  498 non-null    uint8  \n",
      " 3   class_Second             498 non-null    uint8  \n",
      " 4   class_Third              498 non-null    uint8  \n",
      " 5   age                      498 non-null    float64\n",
      " 6   sibsp                    498 non-null    int64  \n",
      " 7   parch                    498 non-null    int64  \n",
      " 8   fare                     498 non-null    float64\n",
      " 9   alone                    498 non-null    int64  \n",
      "dtypes: float64(2), int64(3), uint8(5)\n",
      "memory usage: 25.8 KB\n"
     ]
    }
   ],
   "source": [
    "X_train.info()"
   ]
  },
  {
   "cell_type": "code",
   "execution_count": 102,
   "id": "b9448a6f",
   "metadata": {},
   "outputs": [],
   "source": [
    "clf = DecisionTreeClassifier(max_depth=3, random_state=123)"
   ]
  },
  {
   "cell_type": "code",
   "execution_count": 103,
   "id": "9946a80f",
   "metadata": {},
   "outputs": [],
   "source": [
    "clf = clf.fit(X_train, y_train)"
   ]
  },
  {
   "cell_type": "code",
   "execution_count": 109,
   "id": "02767196",
   "metadata": {},
   "outputs": [
    {
     "data": {
      "text/plain": [
       "[Text(558.0, 475.65000000000003, 'sex_male <= 0.5\\ngini = 0.473\\nsamples = 498\\nvalue = [307, 191]'),\n",
       " Text(279.0, 339.75, 'class_Third <= 0.5\\ngini = 0.365\\nsamples = 175\\nvalue = [42, 133]'),\n",
       " Text(139.5, 203.85000000000002, 'age <= 3.0\\ngini = 0.081\\nsamples = 94\\nvalue = [4, 90]'),\n",
       " Text(69.75, 67.94999999999999, 'gini = 0.0\\nsamples = 1\\nvalue = [1, 0]'),\n",
       " Text(209.25, 67.94999999999999, 'gini = 0.062\\nsamples = 93\\nvalue = [3, 90]'),\n",
       " Text(418.5, 203.85000000000002, 'fare <= 23.912\\ngini = 0.498\\nsamples = 81\\nvalue = [38, 43]'),\n",
       " Text(348.75, 67.94999999999999, 'gini = 0.476\\nsamples = 69\\nvalue = [27, 42]'),\n",
       " Text(488.25, 67.94999999999999, 'gini = 0.153\\nsamples = 12\\nvalue = [11, 1]'),\n",
       " Text(837.0, 339.75, 'fare <= 18.275\\ngini = 0.295\\nsamples = 323\\nvalue = [265, 58]'),\n",
       " Text(697.5, 203.85000000000002, 'age <= 7.835\\ngini = 0.184\\nsamples = 205\\nvalue = [184, 21]'),\n",
       " Text(627.75, 67.94999999999999, 'gini = 0.0\\nsamples = 2\\nvalue = [0, 2]'),\n",
       " Text(767.25, 67.94999999999999, 'gini = 0.17\\nsamples = 203\\nvalue = [184, 19]'),\n",
       " Text(976.5, 203.85000000000002, 'age <= 53.0\\ngini = 0.43\\nsamples = 118\\nvalue = [81, 37]'),\n",
       " Text(906.75, 67.94999999999999, 'gini = 0.455\\nsamples = 103\\nvalue = [67, 36]'),\n",
       " Text(1046.25, 67.94999999999999, 'gini = 0.124\\nsamples = 15\\nvalue = [14, 1]')]"
      ]
     },
     "execution_count": 109,
     "metadata": {},
     "output_type": "execute_result"
    },
    {
     "data": {
      "image/png": "[encoded data removed]",
      "text/plain": [
       "<Figure size 1440x720 with 1 Axes>"
      ]
     },
     "metadata": {
      "needs_background": "light"
     },
     "output_type": "display_data"
    }
   ],
   "source": [
    "plt.figure(figsize=(20, 10))\n",
    "plot_tree(clf, feature_names=X_train.columns, rounded=True)"
   ]
  },
  {
   "cell_type": "code",
   "execution_count": 110,
   "id": "cbf3b6b3",
   "metadata": {},
   "outputs": [
    {
     "data": {
      "text/plain": [
       "array([0, 0, 0, 1, 1])"
      ]
     },
     "execution_count": 110,
     "metadata": {},
     "output_type": "execute_result"
    }
   ],
   "source": [
    "y_pred = clf.predict(X_train)\n",
    "y_pred[0:5]"
   ]
  },
  {
   "cell_type": "code",
   "execution_count": 111,
   "id": "571a4df2",
   "metadata": {},
   "outputs": [
    {
     "data": {
      "text/plain": [
       "array([[0.65048544, 0.34951456],\n",
       "       [0.65048544, 0.34951456],\n",
       "       [0.65048544, 0.34951456],\n",
       "       [0.03225806, 0.96774194],\n",
       "       [0.03225806, 0.96774194]])"
      ]
     },
     "execution_count": 111,
     "metadata": {},
     "output_type": "execute_result"
    }
   ],
   "source": [
    "y_pred_proba = clf.predict_proba(X_train)\n",
    "y_pred_proba[0:5]"
   ]
  },
  {
   "cell_type": "code",
   "execution_count": 112,
   "id": "d5297ac8",
   "metadata": {},
   "outputs": [
    {
     "name": "stdout",
     "output_type": "stream",
     "text": [
      "Accuracy of Decision Tree classifier on training set: 0.83\n"
     ]
    }
   ],
   "source": [
    "print('Accuracy of Decision Tree classifier on training set: {:.2f}'\n",
    "      .format(clf.score(X_train, y_train)))"
   ]
  },
  {
   "cell_type": "code",
   "execution_count": 113,
   "id": "17128735",
   "metadata": {},
   "outputs": [
    {
     "data": {
      "text/plain": [
       "array([[277,  30],\n",
       "       [ 57, 134]])"
      ]
     },
     "execution_count": 113,
     "metadata": {},
     "output_type": "execute_result"
    }
   ],
   "source": [
    "confusion_matrix(y_train, y_pred)"
   ]
  },
  {
   "cell_type": "code",
   "execution_count": 114,
   "id": "e1b9ffc0",
   "metadata": {},
   "outputs": [
    {
     "data": {
      "text/plain": [
       "0    307\n",
       "1    191\n",
       "Name: survived, dtype: int64"
      ]
     },
     "execution_count": 114,
     "metadata": {},
     "output_type": "execute_result"
    }
   ],
   "source": [
    "y_train.value_counts()"
   ]
  },
  {
   "cell_type": "code",
   "execution_count": 116,
   "id": "7205b9e8",
   "metadata": {},
   "outputs": [
    {
     "data": {
      "text/html": [
       "<div>\n",
       "<style scoped>\n",
       "    .dataframe tbody tr th:only-of-type {\n",
       "        vertical-align: middle;\n",
       "    }\n",
       "\n",
       "    .dataframe tbody tr th {\n",
       "        vertical-align: top;\n",
       "    }\n",
       "\n",
       "    .dataframe thead th {\n",
       "        text-align: right;\n",
       "    }\n",
       "</style>\n",
       "<table border=\"1\" class=\"dataframe\">\n",
       "  <thead>\n",
       "    <tr style=\"text-align: right;\">\n",
       "      <th></th>\n",
       "      <th>actual_died</th>\n",
       "      <th>actual survived</th>\n",
       "    </tr>\n",
       "  </thead>\n",
       "  <tbody>\n",
       "    <tr>\n",
       "      <th>predict_died</th>\n",
       "      <td>277</td>\n",
       "      <td>30</td>\n",
       "    </tr>\n",
       "    <tr>\n",
       "      <th>predict_survived</th>\n",
       "      <td>57</td>\n",
       "      <td>134</td>\n",
       "    </tr>\n",
       "  </tbody>\n",
       "</table>\n",
       "</div>"
      ],
      "text/plain": [
       "                  actual_died  actual survived\n",
       "predict_died              277               30\n",
       "predict_survived           57              134"
      ]
     },
     "execution_count": 116,
     "metadata": {},
     "output_type": "execute_result"
    }
   ],
   "source": [
    "labels = sorted(y_train.unique())\n",
    "\n",
    "pd.DataFrame(confusion_matrix(y_train, y_pred), index=['predict_died', 'predict_survived'], columns=['actual_died', 'actual survived'])"
   ]
  },
  {
   "cell_type": "code",
   "execution_count": 117,
   "id": "f7be8c2e",
   "metadata": {},
   "outputs": [
    {
     "name": "stdout",
     "output_type": "stream",
     "text": [
      "              precision    recall  f1-score   support\n",
      "\n",
      "           0       0.83      0.90      0.86       307\n",
      "           1       0.82      0.70      0.75       191\n",
      "\n",
      "    accuracy                           0.83       498\n",
      "   macro avg       0.82      0.80      0.81       498\n",
      "weighted avg       0.82      0.83      0.82       498\n",
      "\n"
     ]
    }
   ],
   "source": [
    "print(classification_report(y_train, y_pred))"
   ]
  },
  {
   "cell_type": "code",
   "execution_count": 118,
   "id": "b1c755db",
   "metadata": {},
   "outputs": [
    {
     "name": "stdout",
     "output_type": "stream",
     "text": [
      "Accuracy of Decision Tree classifier on validate set: 0.80\n"
     ]
    }
   ],
   "source": [
    "print('Accuracy of Decision Tree classifier on validate set: {:.2f}'\n",
    "     .format(clf.score(X_validate, y_validate)))"
   ]
  },
  {
   "cell_type": "code",
   "execution_count": 120,
   "id": "97c570ce",
   "metadata": {},
   "outputs": [
    {
     "name": "stdout",
     "output_type": "stream",
     "text": [
      "              precision    recall  f1-score   support\n",
      "\n",
      "           0       0.81      0.88      0.84       132\n",
      "           1       0.77      0.67      0.72        82\n",
      "\n",
      "    accuracy                           0.80       214\n",
      "   macro avg       0.79      0.77      0.78       214\n",
      "weighted avg       0.80      0.80      0.80       214\n",
      "\n"
     ]
    }
   ],
   "source": [
    "y_pred = clf.predict(X_validate)\n",
    "print(classification_report(y_validate, y_pred))"
   ]
  },
  {
   "cell_type": "code",
   "execution_count": 121,
   "id": "45b64a25",
   "metadata": {},
   "outputs": [
    {
     "data": {
      "text/plain": [
       "[Text(523.125, 504.7714285714286, 'sex_male <= 0.5\\ngini = 0.473\\nsamples = 498\\nvalue = [307, 191]'),\n",
       " Text(238.6184210526316, 427.11428571428576, 'class_Third <= 0.5\\ngini = 0.365\\nsamples = 175\\nvalue = [42, 133]'),\n",
       " Text(88.10526315789474, 349.4571428571429, 'age <= 3.0\\ngini = 0.081\\nsamples = 94\\nvalue = [4, 90]'),\n",
       " Text(58.73684210526316, 271.8, 'gini = 0.0\\nsamples = 1\\nvalue = [1, 0]'),\n",
       " Text(117.47368421052632, 271.8, 'fare <= 28.856\\ngini = 0.062\\nsamples = 93\\nvalue = [3, 90]'),\n",
       " Text(88.10526315789474, 194.14285714285717, 'fare <= 28.231\\ngini = 0.133\\nsamples = 42\\nvalue = [3, 39]'),\n",
       " Text(58.73684210526316, 116.48571428571432, 'age <= 27.5\\ngini = 0.093\\nsamples = 41\\nvalue = [2, 39]'),\n",
       " Text(29.36842105263158, 38.82857142857142, 'gini = 0.208\\nsamples = 17\\nvalue = [2, 15]'),\n",
       " Text(88.10526315789474, 38.82857142857142, 'gini = 0.0\\nsamples = 24\\nvalue = [0, 24]'),\n",
       " Text(117.47368421052632, 116.48571428571432, 'gini = 0.0\\nsamples = 1\\nvalue = [1, 0]'),\n",
       " Text(146.8421052631579, 194.14285714285717, 'gini = 0.0\\nsamples = 51\\nvalue = [0, 51]'),\n",
       " Text(389.13157894736844, 349.4571428571429, 'fare <= 23.912\\ngini = 0.498\\nsamples = 81\\nvalue = [38, 43]'),\n",
       " Text(308.36842105263156, 271.8, 'age <= 35.0\\ngini = 0.476\\nsamples = 69\\nvalue = [27, 42]'),\n",
       " Text(234.94736842105263, 194.14285714285717, 'embark_town_Queenstown <= 0.5\\ngini = 0.455\\nsamples = 63\\nvalue = [22, 41]'),\n",
       " Text(176.21052631578948, 116.48571428571432, 'age <= 24.5\\ngini = 0.487\\nsamples = 43\\nvalue = [18, 25]'),\n",
       " Text(146.8421052631579, 38.82857142857142, 'gini = 0.397\\nsamples = 22\\nvalue = [6, 16]'),\n",
       " Text(205.57894736842104, 38.82857142857142, 'gini = 0.49\\nsamples = 21\\nvalue = [12, 9]'),\n",
       " Text(293.6842105263158, 116.48571428571432, 'fare <= 7.681\\ngini = 0.32\\nsamples = 20\\nvalue = [4, 16]'),\n",
       " Text(264.3157894736842, 38.82857142857142, 'gini = 0.0\\nsamples = 2\\nvalue = [2, 0]'),\n",
       " Text(323.05263157894734, 38.82857142857142, 'gini = 0.198\\nsamples = 18\\nvalue = [2, 16]'),\n",
       " Text(381.7894736842105, 194.14285714285717, 'age <= 55.0\\ngini = 0.278\\nsamples = 6\\nvalue = [5, 1]'),\n",
       " Text(352.42105263157896, 116.48571428571432, 'gini = 0.0\\nsamples = 5\\nvalue = [5, 0]'),\n",
       " Text(411.1578947368421, 116.48571428571432, 'gini = 0.0\\nsamples = 1\\nvalue = [0, 1]'),\n",
       " Text(469.89473684210526, 271.8, 'parch <= 4.0\\ngini = 0.153\\nsamples = 12\\nvalue = [11, 1]'),\n",
       " Text(440.5263157894737, 194.14285714285717, 'gini = 0.0\\nsamples = 10\\nvalue = [10, 0]'),\n",
       " Text(499.2631578947368, 194.14285714285717, 'sibsp <= 0.5\\ngini = 0.5\\nsamples = 2\\nvalue = [1, 1]'),\n",
       " Text(469.89473684210526, 116.48571428571432, 'gini = 0.0\\nsamples = 1\\nvalue = [1, 0]'),\n",
       " Text(528.6315789473684, 116.48571428571432, 'gini = 0.0\\nsamples = 1\\nvalue = [0, 1]'),\n",
       " Text(807.6315789473684, 427.11428571428576, 'fare <= 18.275\\ngini = 0.295\\nsamples = 323\\nvalue = [265, 58]'),\n",
       " Text(646.1052631578947, 349.4571428571429, 'age <= 7.835\\ngini = 0.184\\nsamples = 205\\nvalue = [184, 21]'),\n",
       " Text(616.7368421052631, 271.8, 'gini = 0.0\\nsamples = 2\\nvalue = [0, 2]'),\n",
       " Text(675.4736842105264, 271.8, 'fare <= 13.25\\ngini = 0.17\\nsamples = 203\\nvalue = [184, 19]'),\n",
       " Text(646.1052631578947, 194.14285714285717, 'fare <= 12.637\\ngini = 0.183\\nsamples = 187\\nvalue = [168, 19]'),\n",
       " Text(587.3684210526316, 116.48571428571432, 'age <= 32.5\\ngini = 0.163\\nsamples = 168\\nvalue = [153, 15]'),\n",
       " Text(558.0, 38.82857142857142, 'gini = 0.188\\nsamples = 133\\nvalue = [119, 14]'),\n",
       " Text(616.7368421052631, 38.82857142857142, 'gini = 0.056\\nsamples = 35\\nvalue = [34, 1]'),\n",
       " Text(704.8421052631579, 116.48571428571432, 'age <= 28.839\\ngini = 0.332\\nsamples = 19\\nvalue = [15, 4]'),\n",
       " Text(675.4736842105264, 38.82857142857142, 'gini = 0.0\\nsamples = 9\\nvalue = [9, 0]'),\n",
       " Text(734.2105263157895, 38.82857142857142, 'gini = 0.48\\nsamples = 10\\nvalue = [6, 4]'),\n",
       " Text(704.8421052631579, 194.14285714285717, 'gini = 0.0\\nsamples = 16\\nvalue = [16, 0]'),\n",
       " Text(969.1578947368421, 349.4571428571429, 'age <= 53.0\\ngini = 0.43\\nsamples = 118\\nvalue = [81, 37]'),\n",
       " Text(881.0526315789474, 271.8, 'sibsp <= 2.5\\ngini = 0.455\\nsamples = 103\\nvalue = [67, 36]'),\n",
       " Text(792.9473684210526, 194.14285714285717, 'age <= 12.5\\ngini = 0.477\\nsamples = 89\\nvalue = [54, 35]'),\n",
       " Text(763.578947368421, 116.48571428571432, 'gini = 0.0\\nsamples = 6\\nvalue = [0, 6]'),\n",
       " Text(822.3157894736842, 116.48571428571432, 'class_Second <= 0.5\\ngini = 0.455\\nsamples = 83\\nvalue = [54, 29]'),\n",
       " Text(792.9473684210526, 38.82857142857142, 'gini = 0.494\\nsamples = 63\\nvalue = [35, 28]'),\n",
       " Text(851.6842105263158, 38.82857142857142, 'gini = 0.095\\nsamples = 20\\nvalue = [19, 1]'),\n",
       " Text(969.1578947368421, 194.14285714285717, 'age <= 3.5\\ngini = 0.133\\nsamples = 14\\nvalue = [13, 1]'),\n",
       " Text(939.7894736842105, 116.48571428571432, 'parch <= 1.5\\ngini = 0.32\\nsamples = 5\\nvalue = [4, 1]'),\n",
       " Text(910.421052631579, 38.82857142857142, 'gini = 0.0\\nsamples = 4\\nvalue = [4, 0]'),\n",
       " Text(969.1578947368421, 38.82857142857142, 'gini = 0.0\\nsamples = 1\\nvalue = [0, 1]'),\n",
       " Text(998.5263157894736, 116.48571428571432, 'gini = 0.0\\nsamples = 9\\nvalue = [9, 0]'),\n",
       " Text(1057.2631578947369, 271.8, 'age <= 75.5\\ngini = 0.124\\nsamples = 15\\nvalue = [14, 1]'),\n",
       " Text(1027.8947368421052, 194.14285714285717, 'gini = 0.0\\nsamples = 14\\nvalue = [14, 0]'),\n",
       " Text(1086.6315789473683, 194.14285714285717, 'gini = 0.0\\nsamples = 1\\nvalue = [0, 1]')]"
      ]
     },
     "execution_count": 121,
     "metadata": {},
     "output_type": "execute_result"
    },
    {
     "data": {
      "image/png": "[encoded data removed]",
      "text/plain": [
       "<Figure size 1440x720 with 1 Axes>"
      ]
     },
     "metadata": {
      "needs_background": "light"
     },
     "output_type": "display_data"
    }
   ],
   "source": [
    "clf = DecisionTreeClassifier(max_depth=6, random_state=123)\n",
    "clf = clf.fit(X_train, y_train)\n",
    "plt.figure(figsize=(20, 10))\n",
    "plot_tree(clf, feature_names=X_train.columns, rounded=True)"
   ]
  },
  {
   "cell_type": "code",
   "execution_count": 122,
   "id": "9f99c753",
   "metadata": {},
   "outputs": [
    {
     "data": {
      "text/plain": [
       "array([0, 1, 0, 1, 1])"
      ]
     },
     "execution_count": 122,
     "metadata": {},
     "output_type": "execute_result"
    }
   ],
   "source": [
    "y_pred = clf.predict(X_train)\n",
    "y_pred[0:5]"
   ]
  },
  {
   "cell_type": "code",
   "execution_count": 123,
   "id": "275f7bf3",
   "metadata": {},
   "outputs": [
    {
     "data": {
      "text/plain": [
       "array([[0.55555556, 0.44444444],\n",
       "       [0.        , 1.        ],\n",
       "       [1.        , 0.        ],\n",
       "       [0.        , 1.        ],\n",
       "       [0.        , 1.        ]])"
      ]
     },
     "execution_count": 123,
     "metadata": {},
     "output_type": "execute_result"
    }
   ],
   "source": [
    "y_pred_proba = clf.predict_proba(X_train)\n",
    "y_pred_proba[0:5]"
   ]
  },
  {
   "cell_type": "code",
   "execution_count": 124,
   "id": "b440923e",
   "metadata": {},
   "outputs": [
    {
     "name": "stdout",
     "output_type": "stream",
     "text": [
      "Accuracy of Decision Tree classifier on training set: 0.87\n"
     ]
    }
   ],
   "source": [
    "print('Accuracy of Decision Tree classifier on training set: {:.2f}'\n",
    "      .format(clf.score(X_train, y_train)))"
   ]
  },
  {
   "cell_type": "code",
   "execution_count": 125,
   "id": "cfb6a9ae",
   "metadata": {},
   "outputs": [
    {
     "data": {
      "text/plain": [
       "array([[297,  10],\n",
       "       [ 57, 134]])"
      ]
     },
     "execution_count": 125,
     "metadata": {},
     "output_type": "execute_result"
    }
   ],
   "source": [
    "confusion_matrix(y_train, y_pred)"
   ]
  },
  {
   "cell_type": "code",
   "execution_count": 126,
   "id": "0bc88a73",
   "metadata": {},
   "outputs": [
    {
     "data": {
      "text/html": [
       "<div>\n",
       "<style scoped>\n",
       "    .dataframe tbody tr th:only-of-type {\n",
       "        vertical-align: middle;\n",
       "    }\n",
       "\n",
       "    .dataframe tbody tr th {\n",
       "        vertical-align: top;\n",
       "    }\n",
       "\n",
       "    .dataframe thead th {\n",
       "        text-align: right;\n",
       "    }\n",
       "</style>\n",
       "<table border=\"1\" class=\"dataframe\">\n",
       "  <thead>\n",
       "    <tr style=\"text-align: right;\">\n",
       "      <th></th>\n",
       "      <th>actual_died</th>\n",
       "      <th>actual survived</th>\n",
       "    </tr>\n",
       "  </thead>\n",
       "  <tbody>\n",
       "    <tr>\n",
       "      <th>predict_died</th>\n",
       "      <td>297</td>\n",
       "      <td>10</td>\n",
       "    </tr>\n",
       "    <tr>\n",
       "      <th>predict_survived</th>\n",
       "      <td>57</td>\n",
       "      <td>134</td>\n",
       "    </tr>\n",
       "  </tbody>\n",
       "</table>\n",
       "</div>"
      ],
      "text/plain": [
       "                  actual_died  actual survived\n",
       "predict_died              297               10\n",
       "predict_survived           57              134"
      ]
     },
     "execution_count": 126,
     "metadata": {},
     "output_type": "execute_result"
    }
   ],
   "source": [
    "labels = sorted(y_train.unique())\n",
    "\n",
    "pd.DataFrame(confusion_matrix(y_train, y_pred), index=['predict_died', 'predict_survived'], columns=['actual_died', 'actual survived'])"
   ]
  },
  {
   "cell_type": "code",
   "execution_count": 127,
   "id": "f265210a",
   "metadata": {},
   "outputs": [
    {
     "name": "stdout",
     "output_type": "stream",
     "text": [
      "              precision    recall  f1-score   support\n",
      "\n",
      "           0       0.84      0.97      0.90       307\n",
      "           1       0.93      0.70      0.80       191\n",
      "\n",
      "    accuracy                           0.87       498\n",
      "   macro avg       0.88      0.83      0.85       498\n",
      "weighted avg       0.87      0.87      0.86       498\n",
      "\n"
     ]
    }
   ],
   "source": [
    "print(classification_report(y_train, y_pred))"
   ]
  },
  {
   "cell_type": "code",
   "execution_count": 128,
   "id": "e62c3f16",
   "metadata": {},
   "outputs": [
    {
     "name": "stdout",
     "output_type": "stream",
     "text": [
      "Accuracy of Decision Tree classifier on validate set: 0.79\n"
     ]
    }
   ],
   "source": [
    "print('Accuracy of Decision Tree classifier on validate set: {:.2f}'\n",
    "     .format(clf.score(X_validate, y_validate)))"
   ]
  },
  {
   "cell_type": "code",
   "execution_count": 129,
   "id": "6142906a",
   "metadata": {},
   "outputs": [
    {
     "name": "stdout",
     "output_type": "stream",
     "text": [
      "              precision    recall  f1-score   support\n",
      "\n",
      "           0       0.79      0.88      0.83       132\n",
      "           1       0.76      0.63      0.69        82\n",
      "\n",
      "    accuracy                           0.79       214\n",
      "   macro avg       0.78      0.76      0.76       214\n",
      "weighted avg       0.78      0.79      0.78       214\n",
      "\n"
     ]
    }
   ],
   "source": [
    "y_pred = clf.predict(X_validate)\n",
    "print(classification_report(y_validate, y_pred))"
   ]
  },
  {
   "cell_type": "code",
   "execution_count": null,
   "id": "b4f3ee0b",
   "metadata": {},
   "outputs": [],
   "source": [
    "# When changing the max_depth from 3 to 6 overfits the model as the accuracy drops 10% \n",
    "# from the train dataset to the validate dataset. The first model (max_depth=3) is better\n",
    "# as overall accuracy is 83% in train and 80% in validate. This indicates overfitting is\n",
    "# not very present in the first model"
   ]
  },
  {
   "cell_type": "code",
   "execution_count": null,
   "id": "0fdcb6d5",
   "metadata": {},
   "outputs": [],
   "source": []
  }
 ],
 "metadata": {
  "kernelspec": {
   "display_name": "Python 3 (ipykernel)",
   "language": "python",
   "name": "python3"
  },
  "language_info": {
   "codemirror_mode": {
    "name": "ipython",
    "version": 3
   },
   "file_extension": ".py",
   "mimetype": "text/x-python",
   "name": "python",
   "nbconvert_exporter": "python",
   "pygments_lexer": "ipython3",
   "version": "3.9.7"
  }
 },
 "nbformat": 4,
 "nbformat_minor": 5
}
