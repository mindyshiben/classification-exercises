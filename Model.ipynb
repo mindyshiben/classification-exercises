{
 "cells": [
  {
   "cell_type": "markdown",
   "id": "e99b175b",
   "metadata": {},
   "source": [
    "Using the titanic data, in your classification-exercises repository, create a notebook, model.ipynb where you will do the following:\n",
    "\n",
    "What is your baseline prediction? What is your baseline accuracy? remember: your baseline prediction for a classification problem is predicting the most prevelant class in the training dataset (the mode). When you make those predictions, what is your accuracy? This is your baseline accuracy.\n",
    "\n",
    "Fit the decision tree classifier to your training sample and transform (i.e. make predictions on the training sample)\n",
    "\n",
    "Evaluate your in-sample results using the model score, confusion matrix, and classification report.\n",
    "\n",
    "Compute: Accuracy, true positive rate, false positive rate, true negative rate, false negative rate, precision, recall, f1-score, and support.\n",
    "\n",
    "Run through steps 2-4 using a different max_depth value.\n",
    "\n",
    "Which model performs better on your in-sample data?\n",
    "\n",
    "Which model performs best on your out-of-sample data, the validate set?\n",
    "\n"
   ]
  },
  {
   "cell_type": "markdown",
   "id": "e1053c28",
   "metadata": {},
   "source": [
    "## Titanic"
   ]
  },
  {
   "cell_type": "code",
   "execution_count": 1,
   "id": "a9d5c5ca",
   "metadata": {},
   "outputs": [],
   "source": [
    "import pandas as pd\n",
    "import warnings\n",
    "warnings.filterwarnings(\"ignore\")\n",
    "\n",
    "import numpy as np\n",
    "\n",
    "from pydataset import data\n",
    "\n",
    "from sklearn.model_selection import train_test_split\n",
    "from sklearn.tree import DecisionTreeClassifier, plot_tree\n",
    "from sklearn.metrics import classification_report\n",
    "from sklearn.metrics import confusion_matrix\n",
    "\n",
    "import matplotlib.pyplot as plt\n",
    "import seaborn as sns\n",
    "import acquire\n",
    "import prepare"
   ]
  },
  {
   "cell_type": "markdown",
   "id": "a6be5fe7",
   "metadata": {},
   "source": [
    "Using a decision tree classifier to predict survivial amongst passangers on the Titanic."
   ]
  },
  {
   "cell_type": "code",
   "execution_count": 2,
   "id": "9afe07ad",
   "metadata": {},
   "outputs": [
    {
     "data": {
      "text/html": [
       "<div>\n",
       "<style scoped>\n",
       "    .dataframe tbody tr th:only-of-type {\n",
       "        vertical-align: middle;\n",
       "    }\n",
       "\n",
       "    .dataframe tbody tr th {\n",
       "        vertical-align: top;\n",
       "    }\n",
       "\n",
       "    .dataframe thead th {\n",
       "        text-align: right;\n",
       "    }\n",
       "</style>\n",
       "<table border=\"1\" class=\"dataframe\">\n",
       "  <thead>\n",
       "    <tr style=\"text-align: right;\">\n",
       "      <th></th>\n",
       "      <th>Unnamed: 0</th>\n",
       "      <th>passenger_id</th>\n",
       "      <th>survived</th>\n",
       "      <th>pclass</th>\n",
       "      <th>sex</th>\n",
       "      <th>age</th>\n",
       "      <th>sibsp</th>\n",
       "      <th>parch</th>\n",
       "      <th>fare</th>\n",
       "      <th>embarked</th>\n",
       "      <th>class</th>\n",
       "      <th>deck</th>\n",
       "      <th>embark_town</th>\n",
       "      <th>alone</th>\n",
       "    </tr>\n",
       "  </thead>\n",
       "  <tbody>\n",
       "    <tr>\n",
       "      <th>0</th>\n",
       "      <td>0</td>\n",
       "      <td>0</td>\n",
       "      <td>0</td>\n",
       "      <td>3</td>\n",
       "      <td>male</td>\n",
       "      <td>22.0</td>\n",
       "      <td>1</td>\n",
       "      <td>0</td>\n",
       "      <td>7.2500</td>\n",
       "      <td>S</td>\n",
       "      <td>Third</td>\n",
       "      <td>NaN</td>\n",
       "      <td>Southampton</td>\n",
       "      <td>0</td>\n",
       "    </tr>\n",
       "    <tr>\n",
       "      <th>1</th>\n",
       "      <td>1</td>\n",
       "      <td>1</td>\n",
       "      <td>1</td>\n",
       "      <td>1</td>\n",
       "      <td>female</td>\n",
       "      <td>38.0</td>\n",
       "      <td>1</td>\n",
       "      <td>0</td>\n",
       "      <td>71.2833</td>\n",
       "      <td>C</td>\n",
       "      <td>First</td>\n",
       "      <td>C</td>\n",
       "      <td>Cherbourg</td>\n",
       "      <td>0</td>\n",
       "    </tr>\n",
       "    <tr>\n",
       "      <th>2</th>\n",
       "      <td>2</td>\n",
       "      <td>2</td>\n",
       "      <td>1</td>\n",
       "      <td>3</td>\n",
       "      <td>female</td>\n",
       "      <td>26.0</td>\n",
       "      <td>0</td>\n",
       "      <td>0</td>\n",
       "      <td>7.9250</td>\n",
       "      <td>S</td>\n",
       "      <td>Third</td>\n",
       "      <td>NaN</td>\n",
       "      <td>Southampton</td>\n",
       "      <td>1</td>\n",
       "    </tr>\n",
       "    <tr>\n",
       "      <th>3</th>\n",
       "      <td>3</td>\n",
       "      <td>3</td>\n",
       "      <td>1</td>\n",
       "      <td>1</td>\n",
       "      <td>female</td>\n",
       "      <td>35.0</td>\n",
       "      <td>1</td>\n",
       "      <td>0</td>\n",
       "      <td>53.1000</td>\n",
       "      <td>S</td>\n",
       "      <td>First</td>\n",
       "      <td>C</td>\n",
       "      <td>Southampton</td>\n",
       "      <td>0</td>\n",
       "    </tr>\n",
       "    <tr>\n",
       "      <th>4</th>\n",
       "      <td>4</td>\n",
       "      <td>4</td>\n",
       "      <td>0</td>\n",
       "      <td>3</td>\n",
       "      <td>male</td>\n",
       "      <td>35.0</td>\n",
       "      <td>0</td>\n",
       "      <td>0</td>\n",
       "      <td>8.0500</td>\n",
       "      <td>S</td>\n",
       "      <td>Third</td>\n",
       "      <td>NaN</td>\n",
       "      <td>Southampton</td>\n",
       "      <td>1</td>\n",
       "    </tr>\n",
       "  </tbody>\n",
       "</table>\n",
       "</div>"
      ],
      "text/plain": [
       "   Unnamed: 0  passenger_id  survived  pclass     sex   age  sibsp  parch  \\\n",
       "0           0             0         0       3    male  22.0      1      0   \n",
       "1           1             1         1       1  female  38.0      1      0   \n",
       "2           2             2         1       3  female  26.0      0      0   \n",
       "3           3             3         1       1  female  35.0      1      0   \n",
       "4           4             4         0       3    male  35.0      0      0   \n",
       "\n",
       "      fare embarked  class deck  embark_town  alone  \n",
       "0   7.2500        S  Third  NaN  Southampton      0  \n",
       "1  71.2833        C  First    C    Cherbourg      0  \n",
       "2   7.9250        S  Third  NaN  Southampton      1  \n",
       "3  53.1000        S  First    C  Southampton      0  \n",
       "4   8.0500        S  Third  NaN  Southampton      1  "
      ]
     },
     "execution_count": 2,
     "metadata": {},
     "output_type": "execute_result"
    }
   ],
   "source": [
    "df = acquire.get_titanic_data()\n",
    "df.head()"
   ]
  },
  {
   "cell_type": "markdown",
   "id": "624eca88",
   "metadata": {},
   "source": [
    "dropping unnecessary and duplicate columns"
   ]
  },
  {
   "cell_type": "code",
   "execution_count": 3,
   "id": "590c316f",
   "metadata": {},
   "outputs": [
    {
     "data": {
      "text/html": [
       "<div>\n",
       "<style scoped>\n",
       "    .dataframe tbody tr th:only-of-type {\n",
       "        vertical-align: middle;\n",
       "    }\n",
       "\n",
       "    .dataframe tbody tr th {\n",
       "        vertical-align: top;\n",
       "    }\n",
       "\n",
       "    .dataframe thead th {\n",
       "        text-align: right;\n",
       "    }\n",
       "</style>\n",
       "<table border=\"1\" class=\"dataframe\">\n",
       "  <thead>\n",
       "    <tr style=\"text-align: right;\">\n",
       "      <th></th>\n",
       "      <th>survived</th>\n",
       "      <th>sex</th>\n",
       "      <th>age</th>\n",
       "      <th>sibsp</th>\n",
       "      <th>parch</th>\n",
       "      <th>fare</th>\n",
       "      <th>class</th>\n",
       "      <th>embark_town</th>\n",
       "      <th>alone</th>\n",
       "    </tr>\n",
       "  </thead>\n",
       "  <tbody>\n",
       "    <tr>\n",
       "      <th>0</th>\n",
       "      <td>0</td>\n",
       "      <td>male</td>\n",
       "      <td>22.0</td>\n",
       "      <td>1</td>\n",
       "      <td>0</td>\n",
       "      <td>7.2500</td>\n",
       "      <td>Third</td>\n",
       "      <td>Southampton</td>\n",
       "      <td>0</td>\n",
       "    </tr>\n",
       "    <tr>\n",
       "      <th>1</th>\n",
       "      <td>1</td>\n",
       "      <td>female</td>\n",
       "      <td>38.0</td>\n",
       "      <td>1</td>\n",
       "      <td>0</td>\n",
       "      <td>71.2833</td>\n",
       "      <td>First</td>\n",
       "      <td>Cherbourg</td>\n",
       "      <td>0</td>\n",
       "    </tr>\n",
       "    <tr>\n",
       "      <th>2</th>\n",
       "      <td>1</td>\n",
       "      <td>female</td>\n",
       "      <td>26.0</td>\n",
       "      <td>0</td>\n",
       "      <td>0</td>\n",
       "      <td>7.9250</td>\n",
       "      <td>Third</td>\n",
       "      <td>Southampton</td>\n",
       "      <td>1</td>\n",
       "    </tr>\n",
       "    <tr>\n",
       "      <th>3</th>\n",
       "      <td>1</td>\n",
       "      <td>female</td>\n",
       "      <td>35.0</td>\n",
       "      <td>1</td>\n",
       "      <td>0</td>\n",
       "      <td>53.1000</td>\n",
       "      <td>First</td>\n",
       "      <td>Southampton</td>\n",
       "      <td>0</td>\n",
       "    </tr>\n",
       "    <tr>\n",
       "      <th>4</th>\n",
       "      <td>0</td>\n",
       "      <td>male</td>\n",
       "      <td>35.0</td>\n",
       "      <td>0</td>\n",
       "      <td>0</td>\n",
       "      <td>8.0500</td>\n",
       "      <td>Third</td>\n",
       "      <td>Southampton</td>\n",
       "      <td>1</td>\n",
       "    </tr>\n",
       "    <tr>\n",
       "      <th>...</th>\n",
       "      <td>...</td>\n",
       "      <td>...</td>\n",
       "      <td>...</td>\n",
       "      <td>...</td>\n",
       "      <td>...</td>\n",
       "      <td>...</td>\n",
       "      <td>...</td>\n",
       "      <td>...</td>\n",
       "      <td>...</td>\n",
       "    </tr>\n",
       "    <tr>\n",
       "      <th>886</th>\n",
       "      <td>0</td>\n",
       "      <td>male</td>\n",
       "      <td>27.0</td>\n",
       "      <td>0</td>\n",
       "      <td>0</td>\n",
       "      <td>13.0000</td>\n",
       "      <td>Second</td>\n",
       "      <td>Southampton</td>\n",
       "      <td>1</td>\n",
       "    </tr>\n",
       "    <tr>\n",
       "      <th>887</th>\n",
       "      <td>1</td>\n",
       "      <td>female</td>\n",
       "      <td>19.0</td>\n",
       "      <td>0</td>\n",
       "      <td>0</td>\n",
       "      <td>30.0000</td>\n",
       "      <td>First</td>\n",
       "      <td>Southampton</td>\n",
       "      <td>1</td>\n",
       "    </tr>\n",
       "    <tr>\n",
       "      <th>888</th>\n",
       "      <td>0</td>\n",
       "      <td>female</td>\n",
       "      <td>NaN</td>\n",
       "      <td>1</td>\n",
       "      <td>2</td>\n",
       "      <td>23.4500</td>\n",
       "      <td>Third</td>\n",
       "      <td>Southampton</td>\n",
       "      <td>0</td>\n",
       "    </tr>\n",
       "    <tr>\n",
       "      <th>889</th>\n",
       "      <td>1</td>\n",
       "      <td>male</td>\n",
       "      <td>26.0</td>\n",
       "      <td>0</td>\n",
       "      <td>0</td>\n",
       "      <td>30.0000</td>\n",
       "      <td>First</td>\n",
       "      <td>Cherbourg</td>\n",
       "      <td>1</td>\n",
       "    </tr>\n",
       "    <tr>\n",
       "      <th>890</th>\n",
       "      <td>0</td>\n",
       "      <td>male</td>\n",
       "      <td>32.0</td>\n",
       "      <td>0</td>\n",
       "      <td>0</td>\n",
       "      <td>7.7500</td>\n",
       "      <td>Third</td>\n",
       "      <td>Queenstown</td>\n",
       "      <td>1</td>\n",
       "    </tr>\n",
       "  </tbody>\n",
       "</table>\n",
       "<p>891 rows × 9 columns</p>\n",
       "</div>"
      ],
      "text/plain": [
       "     survived     sex   age  sibsp  parch     fare   class  embark_town  alone\n",
       "0           0    male  22.0      1      0   7.2500   Third  Southampton      0\n",
       "1           1  female  38.0      1      0  71.2833   First    Cherbourg      0\n",
       "2           1  female  26.0      0      0   7.9250   Third  Southampton      1\n",
       "3           1  female  35.0      1      0  53.1000   First  Southampton      0\n",
       "4           0    male  35.0      0      0   8.0500   Third  Southampton      1\n",
       "..        ...     ...   ...    ...    ...      ...     ...          ...    ...\n",
       "886         0    male  27.0      0      0  13.0000  Second  Southampton      1\n",
       "887         1  female  19.0      0      0  30.0000   First  Southampton      1\n",
       "888         0  female   NaN      1      2  23.4500   Third  Southampton      0\n",
       "889         1    male  26.0      0      0  30.0000   First    Cherbourg      1\n",
       "890         0    male  32.0      0      0   7.7500   Third   Queenstown      1\n",
       "\n",
       "[891 rows x 9 columns]"
      ]
     },
     "execution_count": 3,
     "metadata": {},
     "output_type": "execute_result"
    }
   ],
   "source": [
    "df = df.drop(['Unnamed: 0', 'passenger_id','pclass', 'deck', 'embarked'], axis=1)\n",
    "df"
   ]
  },
  {
   "cell_type": "markdown",
   "id": "9266f4a0",
   "metadata": {},
   "source": [
    "encode dummy variables to make objects numeric "
   ]
  },
  {
   "cell_type": "code",
   "execution_count": 4,
   "id": "b3a3e435",
   "metadata": {},
   "outputs": [
    {
     "data": {
      "text/html": [
       "<div>\n",
       "<style scoped>\n",
       "    .dataframe tbody tr th:only-of-type {\n",
       "        vertical-align: middle;\n",
       "    }\n",
       "\n",
       "    .dataframe tbody tr th {\n",
       "        vertical-align: top;\n",
       "    }\n",
       "\n",
       "    .dataframe thead th {\n",
       "        text-align: right;\n",
       "    }\n",
       "</style>\n",
       "<table border=\"1\" class=\"dataframe\">\n",
       "  <thead>\n",
       "    <tr style=\"text-align: right;\">\n",
       "      <th></th>\n",
       "      <th>encoded__male</th>\n",
       "      <th>encoded__Queenstown</th>\n",
       "      <th>encoded__Southampton</th>\n",
       "      <th>encoded__Second</th>\n",
       "      <th>encoded__Third</th>\n",
       "    </tr>\n",
       "  </thead>\n",
       "  <tbody>\n",
       "    <tr>\n",
       "      <th>0</th>\n",
       "      <td>1</td>\n",
       "      <td>0</td>\n",
       "      <td>1</td>\n",
       "      <td>0</td>\n",
       "      <td>1</td>\n",
       "    </tr>\n",
       "    <tr>\n",
       "      <th>1</th>\n",
       "      <td>0</td>\n",
       "      <td>0</td>\n",
       "      <td>0</td>\n",
       "      <td>0</td>\n",
       "      <td>0</td>\n",
       "    </tr>\n",
       "    <tr>\n",
       "      <th>2</th>\n",
       "      <td>0</td>\n",
       "      <td>0</td>\n",
       "      <td>1</td>\n",
       "      <td>0</td>\n",
       "      <td>1</td>\n",
       "    </tr>\n",
       "    <tr>\n",
       "      <th>3</th>\n",
       "      <td>0</td>\n",
       "      <td>0</td>\n",
       "      <td>1</td>\n",
       "      <td>0</td>\n",
       "      <td>0</td>\n",
       "    </tr>\n",
       "    <tr>\n",
       "      <th>4</th>\n",
       "      <td>1</td>\n",
       "      <td>0</td>\n",
       "      <td>1</td>\n",
       "      <td>0</td>\n",
       "      <td>1</td>\n",
       "    </tr>\n",
       "    <tr>\n",
       "      <th>...</th>\n",
       "      <td>...</td>\n",
       "      <td>...</td>\n",
       "      <td>...</td>\n",
       "      <td>...</td>\n",
       "      <td>...</td>\n",
       "    </tr>\n",
       "    <tr>\n",
       "      <th>886</th>\n",
       "      <td>1</td>\n",
       "      <td>0</td>\n",
       "      <td>1</td>\n",
       "      <td>1</td>\n",
       "      <td>0</td>\n",
       "    </tr>\n",
       "    <tr>\n",
       "      <th>887</th>\n",
       "      <td>0</td>\n",
       "      <td>0</td>\n",
       "      <td>1</td>\n",
       "      <td>0</td>\n",
       "      <td>0</td>\n",
       "    </tr>\n",
       "    <tr>\n",
       "      <th>888</th>\n",
       "      <td>0</td>\n",
       "      <td>0</td>\n",
       "      <td>1</td>\n",
       "      <td>0</td>\n",
       "      <td>1</td>\n",
       "    </tr>\n",
       "    <tr>\n",
       "      <th>889</th>\n",
       "      <td>1</td>\n",
       "      <td>0</td>\n",
       "      <td>0</td>\n",
       "      <td>0</td>\n",
       "      <td>0</td>\n",
       "    </tr>\n",
       "    <tr>\n",
       "      <th>890</th>\n",
       "      <td>1</td>\n",
       "      <td>1</td>\n",
       "      <td>0</td>\n",
       "      <td>0</td>\n",
       "      <td>1</td>\n",
       "    </tr>\n",
       "  </tbody>\n",
       "</table>\n",
       "<p>891 rows × 5 columns</p>\n",
       "</div>"
      ],
      "text/plain": [
       "     encoded__male  encoded__Queenstown  encoded__Southampton  \\\n",
       "0                1                    0                     1   \n",
       "1                0                    0                     0   \n",
       "2                0                    0                     1   \n",
       "3                0                    0                     1   \n",
       "4                1                    0                     1   \n",
       "..             ...                  ...                   ...   \n",
       "886              1                    0                     1   \n",
       "887              0                    0                     1   \n",
       "888              0                    0                     1   \n",
       "889              1                    0                     0   \n",
       "890              1                    1                     0   \n",
       "\n",
       "     encoded__Second  encoded__Third  \n",
       "0                  0               1  \n",
       "1                  0               0  \n",
       "2                  0               1  \n",
       "3                  0               0  \n",
       "4                  0               1  \n",
       "..               ...             ...  \n",
       "886                1               0  \n",
       "887                0               0  \n",
       "888                0               1  \n",
       "889                0               0  \n",
       "890                0               1  \n",
       "\n",
       "[891 rows x 5 columns]"
      ]
     },
     "execution_count": 4,
     "metadata": {},
     "output_type": "execute_result"
    }
   ],
   "source": [
    "dummy_df = pd.get_dummies(df[['sex', 'embark_town', 'class']],  prefix=(['encoded_', 'encoded_', 'encoded_']), dummy_na=False, drop_first=[True, True, True])\n",
    "dummy_df"
   ]
  },
  {
   "cell_type": "code",
   "execution_count": 5,
   "id": "d9bbad9a",
   "metadata": {},
   "outputs": [
    {
     "data": {
      "text/html": [
       "<div>\n",
       "<style scoped>\n",
       "    .dataframe tbody tr th:only-of-type {\n",
       "        vertical-align: middle;\n",
       "    }\n",
       "\n",
       "    .dataframe tbody tr th {\n",
       "        vertical-align: top;\n",
       "    }\n",
       "\n",
       "    .dataframe thead th {\n",
       "        text-align: right;\n",
       "    }\n",
       "</style>\n",
       "<table border=\"1\" class=\"dataframe\">\n",
       "  <thead>\n",
       "    <tr style=\"text-align: right;\">\n",
       "      <th></th>\n",
       "      <th>encoded__male</th>\n",
       "      <th>encoded__Queenstown</th>\n",
       "      <th>encoded__Southampton</th>\n",
       "      <th>encoded__Second</th>\n",
       "      <th>encoded__Third</th>\n",
       "      <th>survived</th>\n",
       "      <th>sex</th>\n",
       "      <th>age</th>\n",
       "      <th>sibsp</th>\n",
       "      <th>parch</th>\n",
       "      <th>fare</th>\n",
       "      <th>class</th>\n",
       "      <th>embark_town</th>\n",
       "      <th>alone</th>\n",
       "    </tr>\n",
       "  </thead>\n",
       "  <tbody>\n",
       "    <tr>\n",
       "      <th>0</th>\n",
       "      <td>1</td>\n",
       "      <td>0</td>\n",
       "      <td>1</td>\n",
       "      <td>0</td>\n",
       "      <td>1</td>\n",
       "      <td>0</td>\n",
       "      <td>male</td>\n",
       "      <td>22.0</td>\n",
       "      <td>1</td>\n",
       "      <td>0</td>\n",
       "      <td>7.2500</td>\n",
       "      <td>Third</td>\n",
       "      <td>Southampton</td>\n",
       "      <td>0</td>\n",
       "    </tr>\n",
       "    <tr>\n",
       "      <th>1</th>\n",
       "      <td>0</td>\n",
       "      <td>0</td>\n",
       "      <td>0</td>\n",
       "      <td>0</td>\n",
       "      <td>0</td>\n",
       "      <td>1</td>\n",
       "      <td>female</td>\n",
       "      <td>38.0</td>\n",
       "      <td>1</td>\n",
       "      <td>0</td>\n",
       "      <td>71.2833</td>\n",
       "      <td>First</td>\n",
       "      <td>Cherbourg</td>\n",
       "      <td>0</td>\n",
       "    </tr>\n",
       "    <tr>\n",
       "      <th>2</th>\n",
       "      <td>0</td>\n",
       "      <td>0</td>\n",
       "      <td>1</td>\n",
       "      <td>0</td>\n",
       "      <td>1</td>\n",
       "      <td>1</td>\n",
       "      <td>female</td>\n",
       "      <td>26.0</td>\n",
       "      <td>0</td>\n",
       "      <td>0</td>\n",
       "      <td>7.9250</td>\n",
       "      <td>Third</td>\n",
       "      <td>Southampton</td>\n",
       "      <td>1</td>\n",
       "    </tr>\n",
       "    <tr>\n",
       "      <th>3</th>\n",
       "      <td>0</td>\n",
       "      <td>0</td>\n",
       "      <td>1</td>\n",
       "      <td>0</td>\n",
       "      <td>0</td>\n",
       "      <td>1</td>\n",
       "      <td>female</td>\n",
       "      <td>35.0</td>\n",
       "      <td>1</td>\n",
       "      <td>0</td>\n",
       "      <td>53.1000</td>\n",
       "      <td>First</td>\n",
       "      <td>Southampton</td>\n",
       "      <td>0</td>\n",
       "    </tr>\n",
       "    <tr>\n",
       "      <th>4</th>\n",
       "      <td>1</td>\n",
       "      <td>0</td>\n",
       "      <td>1</td>\n",
       "      <td>0</td>\n",
       "      <td>1</td>\n",
       "      <td>0</td>\n",
       "      <td>male</td>\n",
       "      <td>35.0</td>\n",
       "      <td>0</td>\n",
       "      <td>0</td>\n",
       "      <td>8.0500</td>\n",
       "      <td>Third</td>\n",
       "      <td>Southampton</td>\n",
       "      <td>1</td>\n",
       "    </tr>\n",
       "    <tr>\n",
       "      <th>...</th>\n",
       "      <td>...</td>\n",
       "      <td>...</td>\n",
       "      <td>...</td>\n",
       "      <td>...</td>\n",
       "      <td>...</td>\n",
       "      <td>...</td>\n",
       "      <td>...</td>\n",
       "      <td>...</td>\n",
       "      <td>...</td>\n",
       "      <td>...</td>\n",
       "      <td>...</td>\n",
       "      <td>...</td>\n",
       "      <td>...</td>\n",
       "      <td>...</td>\n",
       "    </tr>\n",
       "    <tr>\n",
       "      <th>886</th>\n",
       "      <td>1</td>\n",
       "      <td>0</td>\n",
       "      <td>1</td>\n",
       "      <td>1</td>\n",
       "      <td>0</td>\n",
       "      <td>0</td>\n",
       "      <td>male</td>\n",
       "      <td>27.0</td>\n",
       "      <td>0</td>\n",
       "      <td>0</td>\n",
       "      <td>13.0000</td>\n",
       "      <td>Second</td>\n",
       "      <td>Southampton</td>\n",
       "      <td>1</td>\n",
       "    </tr>\n",
       "    <tr>\n",
       "      <th>887</th>\n",
       "      <td>0</td>\n",
       "      <td>0</td>\n",
       "      <td>1</td>\n",
       "      <td>0</td>\n",
       "      <td>0</td>\n",
       "      <td>1</td>\n",
       "      <td>female</td>\n",
       "      <td>19.0</td>\n",
       "      <td>0</td>\n",
       "      <td>0</td>\n",
       "      <td>30.0000</td>\n",
       "      <td>First</td>\n",
       "      <td>Southampton</td>\n",
       "      <td>1</td>\n",
       "    </tr>\n",
       "    <tr>\n",
       "      <th>888</th>\n",
       "      <td>0</td>\n",
       "      <td>0</td>\n",
       "      <td>1</td>\n",
       "      <td>0</td>\n",
       "      <td>1</td>\n",
       "      <td>0</td>\n",
       "      <td>female</td>\n",
       "      <td>NaN</td>\n",
       "      <td>1</td>\n",
       "      <td>2</td>\n",
       "      <td>23.4500</td>\n",
       "      <td>Third</td>\n",
       "      <td>Southampton</td>\n",
       "      <td>0</td>\n",
       "    </tr>\n",
       "    <tr>\n",
       "      <th>889</th>\n",
       "      <td>1</td>\n",
       "      <td>0</td>\n",
       "      <td>0</td>\n",
       "      <td>0</td>\n",
       "      <td>0</td>\n",
       "      <td>1</td>\n",
       "      <td>male</td>\n",
       "      <td>26.0</td>\n",
       "      <td>0</td>\n",
       "      <td>0</td>\n",
       "      <td>30.0000</td>\n",
       "      <td>First</td>\n",
       "      <td>Cherbourg</td>\n",
       "      <td>1</td>\n",
       "    </tr>\n",
       "    <tr>\n",
       "      <th>890</th>\n",
       "      <td>1</td>\n",
       "      <td>1</td>\n",
       "      <td>0</td>\n",
       "      <td>0</td>\n",
       "      <td>1</td>\n",
       "      <td>0</td>\n",
       "      <td>male</td>\n",
       "      <td>32.0</td>\n",
       "      <td>0</td>\n",
       "      <td>0</td>\n",
       "      <td>7.7500</td>\n",
       "      <td>Third</td>\n",
       "      <td>Queenstown</td>\n",
       "      <td>1</td>\n",
       "    </tr>\n",
       "  </tbody>\n",
       "</table>\n",
       "<p>891 rows × 14 columns</p>\n",
       "</div>"
      ],
      "text/plain": [
       "     encoded__male  encoded__Queenstown  encoded__Southampton  \\\n",
       "0                1                    0                     1   \n",
       "1                0                    0                     0   \n",
       "2                0                    0                     1   \n",
       "3                0                    0                     1   \n",
       "4                1                    0                     1   \n",
       "..             ...                  ...                   ...   \n",
       "886              1                    0                     1   \n",
       "887              0                    0                     1   \n",
       "888              0                    0                     1   \n",
       "889              1                    0                     0   \n",
       "890              1                    1                     0   \n",
       "\n",
       "     encoded__Second  encoded__Third  survived     sex   age  sibsp  parch  \\\n",
       "0                  0               1         0    male  22.0      1      0   \n",
       "1                  0               0         1  female  38.0      1      0   \n",
       "2                  0               1         1  female  26.0      0      0   \n",
       "3                  0               0         1  female  35.0      1      0   \n",
       "4                  0               1         0    male  35.0      0      0   \n",
       "..               ...             ...       ...     ...   ...    ...    ...   \n",
       "886                1               0         0    male  27.0      0      0   \n",
       "887                0               0         1  female  19.0      0      0   \n",
       "888                0               1         0  female   NaN      1      2   \n",
       "889                0               0         1    male  26.0      0      0   \n",
       "890                0               1         0    male  32.0      0      0   \n",
       "\n",
       "        fare   class  embark_town  alone  \n",
       "0     7.2500   Third  Southampton      0  \n",
       "1    71.2833   First    Cherbourg      0  \n",
       "2     7.9250   Third  Southampton      1  \n",
       "3    53.1000   First  Southampton      0  \n",
       "4     8.0500   Third  Southampton      1  \n",
       "..       ...     ...          ...    ...  \n",
       "886  13.0000  Second  Southampton      1  \n",
       "887  30.0000   First  Southampton      1  \n",
       "888  23.4500   Third  Southampton      0  \n",
       "889  30.0000   First    Cherbourg      1  \n",
       "890   7.7500   Third   Queenstown      1  \n",
       "\n",
       "[891 rows x 14 columns]"
      ]
     },
     "execution_count": 5,
     "metadata": {},
     "output_type": "execute_result"
    }
   ],
   "source": [
    "df = pd.concat([dummy_df, df], axis=1)\n",
    "df"
   ]
  },
  {
   "cell_type": "code",
   "execution_count": 6,
   "id": "ba944621",
   "metadata": {},
   "outputs": [
    {
     "name": "stdout",
     "output_type": "stream",
     "text": [
      "<class 'pandas.core.frame.DataFrame'>\n",
      "RangeIndex: 891 entries, 0 to 890\n",
      "Data columns (total 14 columns):\n",
      " #   Column                Non-Null Count  Dtype  \n",
      "---  ------                --------------  -----  \n",
      " 0   encoded__male         891 non-null    uint8  \n",
      " 1   encoded__Queenstown   891 non-null    uint8  \n",
      " 2   encoded__Southampton  891 non-null    uint8  \n",
      " 3   encoded__Second       891 non-null    uint8  \n",
      " 4   encoded__Third        891 non-null    uint8  \n",
      " 5   survived              891 non-null    int64  \n",
      " 6   sex                   891 non-null    object \n",
      " 7   age                   714 non-null    float64\n",
      " 8   sibsp                 891 non-null    int64  \n",
      " 9   parch                 891 non-null    int64  \n",
      " 10  fare                  891 non-null    float64\n",
      " 11  class                 891 non-null    object \n",
      " 12  embark_town           889 non-null    object \n",
      " 13  alone                 891 non-null    int64  \n",
      "dtypes: float64(2), int64(4), object(3), uint8(5)\n",
      "memory usage: 67.1+ KB\n"
     ]
    }
   ],
   "source": [
    "df.info()"
   ]
  },
  {
   "cell_type": "markdown",
   "id": "2cd1fb69",
   "metadata": {},
   "source": [
    "drop the object columns before spliting data"
   ]
  },
  {
   "cell_type": "code",
   "execution_count": 7,
   "id": "93480248",
   "metadata": {},
   "outputs": [],
   "source": [
    "# df = df.drop(['sex', 'class','embark_town'], axis=1)\n",
    "# do not need to drop now"
   ]
  },
  {
   "cell_type": "code",
   "execution_count": 8,
   "id": "3c49a3f7",
   "metadata": {},
   "outputs": [
    {
     "name": "stdout",
     "output_type": "stream",
     "text": [
      "<class 'pandas.core.frame.DataFrame'>\n",
      "RangeIndex: 891 entries, 0 to 890\n",
      "Data columns (total 14 columns):\n",
      " #   Column                Non-Null Count  Dtype  \n",
      "---  ------                --------------  -----  \n",
      " 0   encoded__male         891 non-null    uint8  \n",
      " 1   encoded__Queenstown   891 non-null    uint8  \n",
      " 2   encoded__Southampton  891 non-null    uint8  \n",
      " 3   encoded__Second       891 non-null    uint8  \n",
      " 4   encoded__Third        891 non-null    uint8  \n",
      " 5   survived              891 non-null    int64  \n",
      " 6   sex                   891 non-null    object \n",
      " 7   age                   714 non-null    float64\n",
      " 8   sibsp                 891 non-null    int64  \n",
      " 9   parch                 891 non-null    int64  \n",
      " 10  fare                  891 non-null    float64\n",
      " 11  class                 891 non-null    object \n",
      " 12  embark_town           889 non-null    object \n",
      " 13  alone                 891 non-null    int64  \n",
      "dtypes: float64(2), int64(4), object(3), uint8(5)\n",
      "memory usage: 67.1+ KB\n"
     ]
    }
   ],
   "source": [
    "df.info()"
   ]
  },
  {
   "cell_type": "markdown",
   "id": "64faa32a",
   "metadata": {},
   "source": [
    "use train_validate_test_split function to split the data into three dataframes:\n",
    "\n",
    "train- .70 * .80= 56% of the original dataset <br>\n",
    "validate- .30 * .80= 24% of the original dataset <br>\n",
    "test- 20% of the original dataset\n",
    "\n",
    "Stratify the target variable (survived) to ensure subsets proportionally represent the\n",
    "original dataframe"
   ]
  },
  {
   "cell_type": "code",
   "execution_count": 9,
   "id": "5d62d188",
   "metadata": {},
   "outputs": [],
   "source": [
    "def train_validate_test_split(df, target, seed=123):\n",
    "    train_validate, test = train_test_split(df, test_size=0.2, \n",
    "                                            random_state=seed,\n",
    "                                            stratify=df[target])\n",
    "    train, validate = train_test_split(train_validate, test_size=0.3,\n",
    "                                       random_state=seed,\n",
    "                                       stratify=train_validate[target])\n",
    "        \n",
    "    return train, validate, test"
   ]
  },
  {
   "cell_type": "code",
   "execution_count": 10,
   "id": "f5589a38",
   "metadata": {},
   "outputs": [],
   "source": [
    "train, validate, test = train_validate_test_split(df, target='survived')"
   ]
  },
  {
   "cell_type": "code",
   "execution_count": 11,
   "id": "240085f1",
   "metadata": {},
   "outputs": [
    {
     "name": "stdout",
     "output_type": "stream",
     "text": [
      "<class 'pandas.core.frame.DataFrame'>\n",
      "Int64Index: 498 entries, 583 to 744\n",
      "Data columns (total 14 columns):\n",
      " #   Column                Non-Null Count  Dtype  \n",
      "---  ------                --------------  -----  \n",
      " 0   encoded__male         498 non-null    uint8  \n",
      " 1   encoded__Queenstown   498 non-null    uint8  \n",
      " 2   encoded__Southampton  498 non-null    uint8  \n",
      " 3   encoded__Second       498 non-null    uint8  \n",
      " 4   encoded__Third        498 non-null    uint8  \n",
      " 5   survived              498 non-null    int64  \n",
      " 6   sex                   498 non-null    object \n",
      " 7   age                   401 non-null    float64\n",
      " 8   sibsp                 498 non-null    int64  \n",
      " 9   parch                 498 non-null    int64  \n",
      " 10  fare                  498 non-null    float64\n",
      " 11  class                 498 non-null    object \n",
      " 12  embark_town           497 non-null    object \n",
      " 13  alone                 498 non-null    int64  \n",
      "dtypes: float64(2), int64(4), object(3), uint8(5)\n",
      "memory usage: 41.3+ KB\n"
     ]
    }
   ],
   "source": [
    "train.info()"
   ]
  },
  {
   "cell_type": "code",
   "execution_count": 12,
   "id": "0580cd7e",
   "metadata": {},
   "outputs": [
    {
     "data": {
      "text/html": [
       "<div>\n",
       "<style scoped>\n",
       "    .dataframe tbody tr th:only-of-type {\n",
       "        vertical-align: middle;\n",
       "    }\n",
       "\n",
       "    .dataframe tbody tr th {\n",
       "        vertical-align: top;\n",
       "    }\n",
       "\n",
       "    .dataframe thead th {\n",
       "        text-align: right;\n",
       "    }\n",
       "</style>\n",
       "<table border=\"1\" class=\"dataframe\">\n",
       "  <thead>\n",
       "    <tr style=\"text-align: right;\">\n",
       "      <th></th>\n",
       "      <th>encoded__male</th>\n",
       "      <th>encoded__Queenstown</th>\n",
       "      <th>encoded__Southampton</th>\n",
       "      <th>encoded__Second</th>\n",
       "      <th>encoded__Third</th>\n",
       "      <th>survived</th>\n",
       "      <th>sex</th>\n",
       "      <th>age</th>\n",
       "      <th>sibsp</th>\n",
       "      <th>parch</th>\n",
       "      <th>fare</th>\n",
       "      <th>class</th>\n",
       "      <th>embark_town</th>\n",
       "      <th>alone</th>\n",
       "    </tr>\n",
       "  </thead>\n",
       "  <tbody>\n",
       "    <tr>\n",
       "      <th>583</th>\n",
       "      <td>1</td>\n",
       "      <td>0</td>\n",
       "      <td>0</td>\n",
       "      <td>0</td>\n",
       "      <td>0</td>\n",
       "      <td>0</td>\n",
       "      <td>male</td>\n",
       "      <td>36.0</td>\n",
       "      <td>0</td>\n",
       "      <td>0</td>\n",
       "      <td>40.1250</td>\n",
       "      <td>First</td>\n",
       "      <td>Cherbourg</td>\n",
       "      <td>1</td>\n",
       "    </tr>\n",
       "    <tr>\n",
       "      <th>165</th>\n",
       "      <td>1</td>\n",
       "      <td>0</td>\n",
       "      <td>1</td>\n",
       "      <td>0</td>\n",
       "      <td>1</td>\n",
       "      <td>1</td>\n",
       "      <td>male</td>\n",
       "      <td>9.0</td>\n",
       "      <td>0</td>\n",
       "      <td>2</td>\n",
       "      <td>20.5250</td>\n",
       "      <td>Third</td>\n",
       "      <td>Southampton</td>\n",
       "      <td>0</td>\n",
       "    </tr>\n",
       "    <tr>\n",
       "      <th>50</th>\n",
       "      <td>1</td>\n",
       "      <td>0</td>\n",
       "      <td>1</td>\n",
       "      <td>0</td>\n",
       "      <td>1</td>\n",
       "      <td>0</td>\n",
       "      <td>male</td>\n",
       "      <td>7.0</td>\n",
       "      <td>4</td>\n",
       "      <td>1</td>\n",
       "      <td>39.6875</td>\n",
       "      <td>Third</td>\n",
       "      <td>Southampton</td>\n",
       "      <td>0</td>\n",
       "    </tr>\n",
       "    <tr>\n",
       "      <th>259</th>\n",
       "      <td>0</td>\n",
       "      <td>0</td>\n",
       "      <td>1</td>\n",
       "      <td>1</td>\n",
       "      <td>0</td>\n",
       "      <td>1</td>\n",
       "      <td>female</td>\n",
       "      <td>50.0</td>\n",
       "      <td>0</td>\n",
       "      <td>1</td>\n",
       "      <td>26.0000</td>\n",
       "      <td>Second</td>\n",
       "      <td>Southampton</td>\n",
       "      <td>0</td>\n",
       "    </tr>\n",
       "    <tr>\n",
       "      <th>306</th>\n",
       "      <td>0</td>\n",
       "      <td>0</td>\n",
       "      <td>0</td>\n",
       "      <td>0</td>\n",
       "      <td>0</td>\n",
       "      <td>1</td>\n",
       "      <td>female</td>\n",
       "      <td>NaN</td>\n",
       "      <td>0</td>\n",
       "      <td>0</td>\n",
       "      <td>110.8833</td>\n",
       "      <td>First</td>\n",
       "      <td>Cherbourg</td>\n",
       "      <td>1</td>\n",
       "    </tr>\n",
       "  </tbody>\n",
       "</table>\n",
       "</div>"
      ],
      "text/plain": [
       "     encoded__male  encoded__Queenstown  encoded__Southampton  \\\n",
       "583              1                    0                     0   \n",
       "165              1                    0                     1   \n",
       "50               1                    0                     1   \n",
       "259              0                    0                     1   \n",
       "306              0                    0                     0   \n",
       "\n",
       "     encoded__Second  encoded__Third  survived     sex   age  sibsp  parch  \\\n",
       "583                0               0         0    male  36.0      0      0   \n",
       "165                0               1         1    male   9.0      0      2   \n",
       "50                 0               1         0    male   7.0      4      1   \n",
       "259                1               0         1  female  50.0      0      1   \n",
       "306                0               0         1  female   NaN      0      0   \n",
       "\n",
       "         fare   class  embark_town  alone  \n",
       "583   40.1250   First    Cherbourg      1  \n",
       "165   20.5250   Third  Southampton      0  \n",
       "50    39.6875   Third  Southampton      0  \n",
       "259   26.0000  Second  Southampton      0  \n",
       "306  110.8833   First    Cherbourg      1  "
      ]
     },
     "execution_count": 12,
     "metadata": {},
     "output_type": "execute_result"
    }
   ],
   "source": [
    "train.head()"
   ]
  },
  {
   "cell_type": "code",
   "execution_count": 13,
   "id": "4c55bc27",
   "metadata": {},
   "outputs": [],
   "source": [
    "from sklearn.impute import SimpleImputer"
   ]
  },
  {
   "cell_type": "markdown",
   "id": "a6147d15",
   "metadata": {},
   "source": [
    "use imputer function to fill null values in age column with the age mode in the train dataset and fill validate and test with the same mode"
   ]
  },
  {
   "cell_type": "code",
   "execution_count": 14,
   "id": "9b0a873e",
   "metadata": {},
   "outputs": [],
   "source": [
    "imputer = SimpleImputer(strategy='mean', missing_values=np.nan)\n",
    "type(imputer)\n",
    "\n",
    "imputer = imputer.fit(train[['age']])\n",
    "train[['age']] = imputer.transform(train[['age']])"
   ]
  },
  {
   "cell_type": "code",
   "execution_count": 15,
   "id": "09662c9a",
   "metadata": {},
   "outputs": [
    {
     "data": {
      "text/plain": [
       "0"
      ]
     },
     "execution_count": 15,
     "metadata": {},
     "output_type": "execute_result"
    }
   ],
   "source": [
    "train['age'].isna().sum()"
   ]
  },
  {
   "cell_type": "code",
   "execution_count": 16,
   "id": "c64a4c75",
   "metadata": {},
   "outputs": [],
   "source": [
    "validate[['age']] = imputer.transform(validate[['age']])\n",
    "test[['age']] = imputer.transform(test[['age']])"
   ]
  },
  {
   "cell_type": "code",
   "execution_count": 17,
   "id": "0141577e",
   "metadata": {},
   "outputs": [
    {
     "data": {
      "text/html": [
       "<div>\n",
       "<style scoped>\n",
       "    .dataframe tbody tr th:only-of-type {\n",
       "        vertical-align: middle;\n",
       "    }\n",
       "\n",
       "    .dataframe tbody tr th {\n",
       "        vertical-align: top;\n",
       "    }\n",
       "\n",
       "    .dataframe thead th {\n",
       "        text-align: right;\n",
       "    }\n",
       "</style>\n",
       "<table border=\"1\" class=\"dataframe\">\n",
       "  <thead>\n",
       "    <tr style=\"text-align: right;\">\n",
       "      <th></th>\n",
       "      <th>encoded__male</th>\n",
       "      <th>encoded__Queenstown</th>\n",
       "      <th>encoded__Southampton</th>\n",
       "      <th>encoded__Second</th>\n",
       "      <th>encoded__Third</th>\n",
       "      <th>survived</th>\n",
       "      <th>sex</th>\n",
       "      <th>age</th>\n",
       "      <th>sibsp</th>\n",
       "      <th>parch</th>\n",
       "      <th>fare</th>\n",
       "      <th>class</th>\n",
       "      <th>embark_town</th>\n",
       "      <th>alone</th>\n",
       "    </tr>\n",
       "  </thead>\n",
       "  <tbody>\n",
       "    <tr>\n",
       "      <th>583</th>\n",
       "      <td>1</td>\n",
       "      <td>0</td>\n",
       "      <td>0</td>\n",
       "      <td>0</td>\n",
       "      <td>0</td>\n",
       "      <td>0</td>\n",
       "      <td>male</td>\n",
       "      <td>36.000000</td>\n",
       "      <td>0</td>\n",
       "      <td>0</td>\n",
       "      <td>40.1250</td>\n",
       "      <td>First</td>\n",
       "      <td>Cherbourg</td>\n",
       "      <td>1</td>\n",
       "    </tr>\n",
       "    <tr>\n",
       "      <th>165</th>\n",
       "      <td>1</td>\n",
       "      <td>0</td>\n",
       "      <td>1</td>\n",
       "      <td>0</td>\n",
       "      <td>1</td>\n",
       "      <td>1</td>\n",
       "      <td>male</td>\n",
       "      <td>9.000000</td>\n",
       "      <td>0</td>\n",
       "      <td>2</td>\n",
       "      <td>20.5250</td>\n",
       "      <td>Third</td>\n",
       "      <td>Southampton</td>\n",
       "      <td>0</td>\n",
       "    </tr>\n",
       "    <tr>\n",
       "      <th>50</th>\n",
       "      <td>1</td>\n",
       "      <td>0</td>\n",
       "      <td>1</td>\n",
       "      <td>0</td>\n",
       "      <td>1</td>\n",
       "      <td>0</td>\n",
       "      <td>male</td>\n",
       "      <td>7.000000</td>\n",
       "      <td>4</td>\n",
       "      <td>1</td>\n",
       "      <td>39.6875</td>\n",
       "      <td>Third</td>\n",
       "      <td>Southampton</td>\n",
       "      <td>0</td>\n",
       "    </tr>\n",
       "    <tr>\n",
       "      <th>259</th>\n",
       "      <td>0</td>\n",
       "      <td>0</td>\n",
       "      <td>1</td>\n",
       "      <td>1</td>\n",
       "      <td>0</td>\n",
       "      <td>1</td>\n",
       "      <td>female</td>\n",
       "      <td>50.000000</td>\n",
       "      <td>0</td>\n",
       "      <td>1</td>\n",
       "      <td>26.0000</td>\n",
       "      <td>Second</td>\n",
       "      <td>Southampton</td>\n",
       "      <td>0</td>\n",
       "    </tr>\n",
       "    <tr>\n",
       "      <th>306</th>\n",
       "      <td>0</td>\n",
       "      <td>0</td>\n",
       "      <td>0</td>\n",
       "      <td>0</td>\n",
       "      <td>0</td>\n",
       "      <td>1</td>\n",
       "      <td>female</td>\n",
       "      <td>29.678105</td>\n",
       "      <td>0</td>\n",
       "      <td>0</td>\n",
       "      <td>110.8833</td>\n",
       "      <td>First</td>\n",
       "      <td>Cherbourg</td>\n",
       "      <td>1</td>\n",
       "    </tr>\n",
       "  </tbody>\n",
       "</table>\n",
       "</div>"
      ],
      "text/plain": [
       "     encoded__male  encoded__Queenstown  encoded__Southampton  \\\n",
       "583              1                    0                     0   \n",
       "165              1                    0                     1   \n",
       "50               1                    0                     1   \n",
       "259              0                    0                     1   \n",
       "306              0                    0                     0   \n",
       "\n",
       "     encoded__Second  encoded__Third  survived     sex        age  sibsp  \\\n",
       "583                0               0         0    male  36.000000      0   \n",
       "165                0               1         1    male   9.000000      0   \n",
       "50                 0               1         0    male   7.000000      4   \n",
       "259                1               0         1  female  50.000000      0   \n",
       "306                0               0         1  female  29.678105      0   \n",
       "\n",
       "     parch      fare   class  embark_town  alone  \n",
       "583      0   40.1250   First    Cherbourg      1  \n",
       "165      2   20.5250   Third  Southampton      0  \n",
       "50       1   39.6875   Third  Southampton      0  \n",
       "259      1   26.0000  Second  Southampton      0  \n",
       "306      0  110.8833   First    Cherbourg      1  "
      ]
     },
     "execution_count": 17,
     "metadata": {},
     "output_type": "execute_result"
    }
   ],
   "source": [
    "train.head()"
   ]
  },
  {
   "cell_type": "markdown",
   "id": "520662d0",
   "metadata": {},
   "source": [
    "Baseline prediction is NOT SURVIVED as this is the mode of survived"
   ]
  },
  {
   "cell_type": "code",
   "execution_count": 18,
   "id": "3d17daac",
   "metadata": {},
   "outputs": [
    {
     "data": {
      "text/plain": [
       "0.6164658634538153"
      ]
     },
     "execution_count": 18,
     "metadata": {},
     "output_type": "execute_result"
    }
   ],
   "source": [
    "baseline_accuracy = ((train.survived == False).sum() / len(train.survived))\n",
    "baseline_accuracy"
   ]
  },
  {
   "cell_type": "markdown",
   "id": "f2a14eae",
   "metadata": {},
   "source": [
    "make subsets of survived (y) and all other columns (X) in order to create a decision tree\n",
    "depiciting the potential impact of variables on survived"
   ]
  },
  {
   "cell_type": "code",
   "execution_count": 19,
   "id": "81e1e34f",
   "metadata": {},
   "outputs": [],
   "source": [
    "X_train = train.drop(columns=['sex', 'class','embark_town','survived'])\n",
    "y_train = train.survived\n",
    "\n",
    "X_validate = validate.drop(columns=['sex', 'class','embark_town','survived'])\n",
    "y_validate = validate.survived\n",
    "\n",
    "X_test = test.drop(columns=['sex', 'class','embark_town','survived'])\n",
    "y_test = test.survived"
   ]
  },
  {
   "cell_type": "code",
   "execution_count": 20,
   "id": "661ca6a8",
   "metadata": {},
   "outputs": [
    {
     "name": "stdout",
     "output_type": "stream",
     "text": [
      "<class 'pandas.core.frame.DataFrame'>\n",
      "Int64Index: 498 entries, 583 to 744\n",
      "Data columns (total 10 columns):\n",
      " #   Column                Non-Null Count  Dtype  \n",
      "---  ------                --------------  -----  \n",
      " 0   encoded__male         498 non-null    uint8  \n",
      " 1   encoded__Queenstown   498 non-null    uint8  \n",
      " 2   encoded__Southampton  498 non-null    uint8  \n",
      " 3   encoded__Second       498 non-null    uint8  \n",
      " 4   encoded__Third        498 non-null    uint8  \n",
      " 5   age                   498 non-null    float64\n",
      " 6   sibsp                 498 non-null    int64  \n",
      " 7   parch                 498 non-null    int64  \n",
      " 8   fare                  498 non-null    float64\n",
      " 9   alone                 498 non-null    int64  \n",
      "dtypes: float64(2), int64(3), uint8(5)\n",
      "memory usage: 25.8 KB\n"
     ]
    }
   ],
   "source": [
    "X_train.info()"
   ]
  },
  {
   "cell_type": "markdown",
   "id": "6a23d5a9",
   "metadata": {},
   "source": [
    "decision tree with max depth of 3. The 3 variables with the highest statisical impact on \n",
    "survival will be used in the decision tree."
   ]
  },
  {
   "cell_type": "code",
   "execution_count": 21,
   "id": "a2029e92",
   "metadata": {},
   "outputs": [],
   "source": [
    "clf = DecisionTreeClassifier(max_depth=3, random_state=123)"
   ]
  },
  {
   "cell_type": "code",
   "execution_count": 22,
   "id": "a250e7f7",
   "metadata": {},
   "outputs": [],
   "source": [
    "clf = clf.fit(X_train, y_train)"
   ]
  },
  {
   "cell_type": "code",
   "execution_count": 23,
   "id": "2c0adcba",
   "metadata": {},
   "outputs": [
    {
     "data": {
      "text/plain": [
       "[Text(558.0, 475.65000000000003, 'encoded__male <= 0.5\\ngini = 0.473\\nsamples = 498\\nvalue = [307, 191]'),\n",
       " Text(279.0, 339.75, 'encoded__Third <= 0.5\\ngini = 0.365\\nsamples = 175\\nvalue = [42, 133]'),\n",
       " Text(139.5, 203.85000000000002, 'age <= 3.0\\ngini = 0.081\\nsamples = 94\\nvalue = [4, 90]'),\n",
       " Text(69.75, 67.94999999999999, 'gini = 0.0\\nsamples = 1\\nvalue = [1, 0]'),\n",
       " Text(209.25, 67.94999999999999, 'gini = 0.062\\nsamples = 93\\nvalue = [3, 90]'),\n",
       " Text(418.5, 203.85000000000002, 'fare <= 23.912\\ngini = 0.498\\nsamples = 81\\nvalue = [38, 43]'),\n",
       " Text(348.75, 67.94999999999999, 'gini = 0.476\\nsamples = 69\\nvalue = [27, 42]'),\n",
       " Text(488.25, 67.94999999999999, 'gini = 0.153\\nsamples = 12\\nvalue = [11, 1]'),\n",
       " Text(837.0, 339.75, 'fare <= 18.275\\ngini = 0.295\\nsamples = 323\\nvalue = [265, 58]'),\n",
       " Text(697.5, 203.85000000000002, 'age <= 7.835\\ngini = 0.184\\nsamples = 205\\nvalue = [184, 21]'),\n",
       " Text(627.75, 67.94999999999999, 'gini = 0.0\\nsamples = 2\\nvalue = [0, 2]'),\n",
       " Text(767.25, 67.94999999999999, 'gini = 0.17\\nsamples = 203\\nvalue = [184, 19]'),\n",
       " Text(976.5, 203.85000000000002, 'age <= 53.0\\ngini = 0.43\\nsamples = 118\\nvalue = [81, 37]'),\n",
       " Text(906.75, 67.94999999999999, 'gini = 0.455\\nsamples = 103\\nvalue = [67, 36]'),\n",
       " Text(1046.25, 67.94999999999999, 'gini = 0.124\\nsamples = 15\\nvalue = [14, 1]')]"
      ]
     },
     "execution_count": 23,
     "metadata": {},
     "output_type": "execute_result"
    },
    {
     "data": {
      "image/png": "[encoded data removed]",
      "text/plain": [
       "<Figure size 1440x720 with 1 Axes>"
      ]
     },
     "metadata": {
      "needs_background": "light"
     },
     "output_type": "display_data"
    }
   ],
   "source": [
    "plt.figure(figsize=(20, 10))\n",
    "plot_tree(clf, feature_names=X_train.columns, rounded=True)"
   ]
  },
  {
   "cell_type": "markdown",
   "id": "c30a20d8",
   "metadata": {},
   "source": [
    "Based on the decision tree visualization, sex is the highest predictor of survivial. <br>\n",
    "Males - lower than 18.28 fare, age greater than 7.9 are most likely to died <br>\n",
    "If female, third class, and then having a fare greater than 23.9 makes most likely to die <br>\n",
    "\n",
    "note- I am not sure how much the fare cost would matter after determining what ticket class\n",
    "the passanger has, but for the purpose of thorough modeling, fare will be included in this first model"
   ]
  },
  {
   "cell_type": "code",
   "execution_count": 24,
   "id": "4aa24c4f",
   "metadata": {},
   "outputs": [
    {
     "data": {
      "text/plain": [
       "array([0, 0, 0, 1, 1])"
      ]
     },
     "execution_count": 24,
     "metadata": {},
     "output_type": "execute_result"
    }
   ],
   "source": [
    "y_pred = clf.predict(X_train)\n",
    "y_pred[0:5]"
   ]
  },
  {
   "cell_type": "code",
   "execution_count": 25,
   "id": "025483bc",
   "metadata": {},
   "outputs": [
    {
     "data": {
      "text/plain": [
       "array([[0.65048544, 0.34951456],\n",
       "       [0.65048544, 0.34951456],\n",
       "       [0.65048544, 0.34951456],\n",
       "       [0.03225806, 0.96774194],\n",
       "       [0.03225806, 0.96774194]])"
      ]
     },
     "execution_count": 25,
     "metadata": {},
     "output_type": "execute_result"
    }
   ],
   "source": [
    "y_pred_proba = clf.predict_proba(X_train)\n",
    "y_pred_proba[0:5]"
   ]
  },
  {
   "cell_type": "code",
   "execution_count": 26,
   "id": "0470a5b5",
   "metadata": {},
   "outputs": [
    {
     "name": "stdout",
     "output_type": "stream",
     "text": [
      "Accuracy of Decision Tree classifier on training set: 0.83\n"
     ]
    }
   ],
   "source": [
    "print('Accuracy of Decision Tree classifier on training set: {:.2f}'\n",
    "      .format(clf.score(X_train, y_train)))"
   ]
  },
  {
   "cell_type": "code",
   "execution_count": 27,
   "id": "2119e9b0",
   "metadata": {},
   "outputs": [
    {
     "data": {
      "text/plain": [
       "array([[277,  30],\n",
       "       [ 57, 134]])"
      ]
     },
     "execution_count": 27,
     "metadata": {},
     "output_type": "execute_result"
    }
   ],
   "source": [
    "confusion_matrix(y_train, y_pred)"
   ]
  },
  {
   "cell_type": "code",
   "execution_count": 28,
   "id": "3cbd5dcd",
   "metadata": {},
   "outputs": [
    {
     "data": {
      "text/plain": [
       "0    307\n",
       "1    191\n",
       "Name: survived, dtype: int64"
      ]
     },
     "execution_count": 28,
     "metadata": {},
     "output_type": "execute_result"
    }
   ],
   "source": [
    "y_train.value_counts()"
   ]
  },
  {
   "cell_type": "code",
   "execution_count": 29,
   "id": "12b10f8c",
   "metadata": {},
   "outputs": [
    {
     "data": {
      "text/html": [
       "<div>\n",
       "<style scoped>\n",
       "    .dataframe tbody tr th:only-of-type {\n",
       "        vertical-align: middle;\n",
       "    }\n",
       "\n",
       "    .dataframe tbody tr th {\n",
       "        vertical-align: top;\n",
       "    }\n",
       "\n",
       "    .dataframe thead th {\n",
       "        text-align: right;\n",
       "    }\n",
       "</style>\n",
       "<table border=\"1\" class=\"dataframe\">\n",
       "  <thead>\n",
       "    <tr style=\"text-align: right;\">\n",
       "      <th></th>\n",
       "      <th>predict_died</th>\n",
       "      <th>predict_survived</th>\n",
       "    </tr>\n",
       "  </thead>\n",
       "  <tbody>\n",
       "    <tr>\n",
       "      <th>actual_died</th>\n",
       "      <td>277</td>\n",
       "      <td>30</td>\n",
       "    </tr>\n",
       "    <tr>\n",
       "      <th>actual survived</th>\n",
       "      <td>57</td>\n",
       "      <td>134</td>\n",
       "    </tr>\n",
       "  </tbody>\n",
       "</table>\n",
       "</div>"
      ],
      "text/plain": [
       "                 predict_died  predict_survived\n",
       "actual_died               277                30\n",
       "actual survived            57               134"
      ]
     },
     "execution_count": 29,
     "metadata": {},
     "output_type": "execute_result"
    }
   ],
   "source": [
    "labels = sorted(y_train.unique())\n",
    "\n",
    "pd.DataFrame(confusion_matrix(y_train, y_pred), columns=['predict_died', 'predict_survived'], index=['actual_died', 'actual survived'])"
   ]
  },
  {
   "cell_type": "code",
   "execution_count": 30,
   "id": "4e1b6341",
   "metadata": {},
   "outputs": [
    {
     "name": "stdout",
     "output_type": "stream",
     "text": [
      "              precision    recall  f1-score   support\n",
      "\n",
      "           0       0.83      0.90      0.86       307\n",
      "           1       0.82      0.70      0.75       191\n",
      "\n",
      "    accuracy                           0.83       498\n",
      "   macro avg       0.82      0.80      0.81       498\n",
      "weighted avg       0.82      0.83      0.82       498\n",
      "\n"
     ]
    }
   ],
   "source": [
    "print(classification_report(y_train, y_pred))"
   ]
  },
  {
   "cell_type": "code",
   "execution_count": 31,
   "id": "6a98b6ad",
   "metadata": {},
   "outputs": [
    {
     "name": "stdout",
     "output_type": "stream",
     "text": [
      "Accuracy of Decision Tree classifier on validate set: 0.80\n"
     ]
    }
   ],
   "source": [
    "print('Accuracy of Decision Tree classifier on validate set: {:.2f}'\n",
    "     .format(clf.score(X_validate, y_validate)))"
   ]
  },
  {
   "cell_type": "markdown",
   "id": "b930bc50",
   "metadata": {},
   "source": [
    "interpretation of model - the accuracy on the train dataset is 83% and on validate, 80%. Because\n",
    "there is only a slight difference in accuracy, this model likely is not overfitting."
   ]
  },
  {
   "cell_type": "code",
   "execution_count": 32,
   "id": "2d1219ce",
   "metadata": {},
   "outputs": [
    {
     "name": "stdout",
     "output_type": "stream",
     "text": [
      "              precision    recall  f1-score   support\n",
      "\n",
      "           0       0.81      0.88      0.84       132\n",
      "           1       0.77      0.67      0.72        82\n",
      "\n",
      "    accuracy                           0.80       214\n",
      "   macro avg       0.79      0.77      0.78       214\n",
      "weighted avg       0.80      0.80      0.80       214\n",
      "\n"
     ]
    }
   ],
   "source": [
    "y_pred = clf.predict(X_validate)\n",
    "print(classification_report(y_validate, y_pred))"
   ]
  },
  {
   "cell_type": "code",
   "execution_count": 33,
   "id": "efe0291a",
   "metadata": {},
   "outputs": [
    {
     "data": {
      "text/plain": [
       "[Text(523.125, 504.7714285714286, 'encoded__male <= 0.5\\ngini = 0.473\\nsamples = 498\\nvalue = [307, 191]'),\n",
       " Text(238.6184210526316, 427.11428571428576, 'encoded__Third <= 0.5\\ngini = 0.365\\nsamples = 175\\nvalue = [42, 133]'),\n",
       " Text(88.10526315789474, 349.4571428571429, 'age <= 3.0\\ngini = 0.081\\nsamples = 94\\nvalue = [4, 90]'),\n",
       " Text(58.73684210526316, 271.8, 'gini = 0.0\\nsamples = 1\\nvalue = [1, 0]'),\n",
       " Text(117.47368421052632, 271.8, 'fare <= 28.856\\ngini = 0.062\\nsamples = 93\\nvalue = [3, 90]'),\n",
       " Text(88.10526315789474, 194.14285714285717, 'fare <= 28.231\\ngini = 0.133\\nsamples = 42\\nvalue = [3, 39]'),\n",
       " Text(58.73684210526316, 116.48571428571432, 'age <= 27.5\\ngini = 0.093\\nsamples = 41\\nvalue = [2, 39]'),\n",
       " Text(29.36842105263158, 38.82857142857142, 'gini = 0.208\\nsamples = 17\\nvalue = [2, 15]'),\n",
       " Text(88.10526315789474, 38.82857142857142, 'gini = 0.0\\nsamples = 24\\nvalue = [0, 24]'),\n",
       " Text(117.47368421052632, 116.48571428571432, 'gini = 0.0\\nsamples = 1\\nvalue = [1, 0]'),\n",
       " Text(146.8421052631579, 194.14285714285717, 'gini = 0.0\\nsamples = 51\\nvalue = [0, 51]'),\n",
       " Text(389.13157894736844, 349.4571428571429, 'fare <= 23.912\\ngini = 0.498\\nsamples = 81\\nvalue = [38, 43]'),\n",
       " Text(308.36842105263156, 271.8, 'age <= 35.0\\ngini = 0.476\\nsamples = 69\\nvalue = [27, 42]'),\n",
       " Text(234.94736842105263, 194.14285714285717, 'encoded__Queenstown <= 0.5\\ngini = 0.455\\nsamples = 63\\nvalue = [22, 41]'),\n",
       " Text(176.21052631578948, 116.48571428571432, 'age <= 24.5\\ngini = 0.487\\nsamples = 43\\nvalue = [18, 25]'),\n",
       " Text(146.8421052631579, 38.82857142857142, 'gini = 0.397\\nsamples = 22\\nvalue = [6, 16]'),\n",
       " Text(205.57894736842104, 38.82857142857142, 'gini = 0.49\\nsamples = 21\\nvalue = [12, 9]'),\n",
       " Text(293.6842105263158, 116.48571428571432, 'fare <= 7.681\\ngini = 0.32\\nsamples = 20\\nvalue = [4, 16]'),\n",
       " Text(264.3157894736842, 38.82857142857142, 'gini = 0.0\\nsamples = 2\\nvalue = [2, 0]'),\n",
       " Text(323.05263157894734, 38.82857142857142, 'gini = 0.198\\nsamples = 18\\nvalue = [2, 16]'),\n",
       " Text(381.7894736842105, 194.14285714285717, 'age <= 55.0\\ngini = 0.278\\nsamples = 6\\nvalue = [5, 1]'),\n",
       " Text(352.42105263157896, 116.48571428571432, 'gini = 0.0\\nsamples = 5\\nvalue = [5, 0]'),\n",
       " Text(411.1578947368421, 116.48571428571432, 'gini = 0.0\\nsamples = 1\\nvalue = [0, 1]'),\n",
       " Text(469.89473684210526, 271.8, 'parch <= 4.0\\ngini = 0.153\\nsamples = 12\\nvalue = [11, 1]'),\n",
       " Text(440.5263157894737, 194.14285714285717, 'gini = 0.0\\nsamples = 10\\nvalue = [10, 0]'),\n",
       " Text(499.2631578947368, 194.14285714285717, 'sibsp <= 0.5\\ngini = 0.5\\nsamples = 2\\nvalue = [1, 1]'),\n",
       " Text(469.89473684210526, 116.48571428571432, 'gini = 0.0\\nsamples = 1\\nvalue = [1, 0]'),\n",
       " Text(528.6315789473684, 116.48571428571432, 'gini = 0.0\\nsamples = 1\\nvalue = [0, 1]'),\n",
       " Text(807.6315789473684, 427.11428571428576, 'fare <= 18.275\\ngini = 0.295\\nsamples = 323\\nvalue = [265, 58]'),\n",
       " Text(646.1052631578947, 349.4571428571429, 'age <= 7.835\\ngini = 0.184\\nsamples = 205\\nvalue = [184, 21]'),\n",
       " Text(616.7368421052631, 271.8, 'gini = 0.0\\nsamples = 2\\nvalue = [0, 2]'),\n",
       " Text(675.4736842105264, 271.8, 'fare <= 13.25\\ngini = 0.17\\nsamples = 203\\nvalue = [184, 19]'),\n",
       " Text(646.1052631578947, 194.14285714285717, 'fare <= 12.637\\ngini = 0.183\\nsamples = 187\\nvalue = [168, 19]'),\n",
       " Text(587.3684210526316, 116.48571428571432, 'age <= 32.5\\ngini = 0.163\\nsamples = 168\\nvalue = [153, 15]'),\n",
       " Text(558.0, 38.82857142857142, 'gini = 0.188\\nsamples = 133\\nvalue = [119, 14]'),\n",
       " Text(616.7368421052631, 38.82857142857142, 'gini = 0.056\\nsamples = 35\\nvalue = [34, 1]'),\n",
       " Text(704.8421052631579, 116.48571428571432, 'age <= 28.839\\ngini = 0.332\\nsamples = 19\\nvalue = [15, 4]'),\n",
       " Text(675.4736842105264, 38.82857142857142, 'gini = 0.0\\nsamples = 9\\nvalue = [9, 0]'),\n",
       " Text(734.2105263157895, 38.82857142857142, 'gini = 0.48\\nsamples = 10\\nvalue = [6, 4]'),\n",
       " Text(704.8421052631579, 194.14285714285717, 'gini = 0.0\\nsamples = 16\\nvalue = [16, 0]'),\n",
       " Text(969.1578947368421, 349.4571428571429, 'age <= 53.0\\ngini = 0.43\\nsamples = 118\\nvalue = [81, 37]'),\n",
       " Text(881.0526315789474, 271.8, 'sibsp <= 2.5\\ngini = 0.455\\nsamples = 103\\nvalue = [67, 36]'),\n",
       " Text(792.9473684210526, 194.14285714285717, 'age <= 12.5\\ngini = 0.477\\nsamples = 89\\nvalue = [54, 35]'),\n",
       " Text(763.578947368421, 116.48571428571432, 'gini = 0.0\\nsamples = 6\\nvalue = [0, 6]'),\n",
       " Text(822.3157894736842, 116.48571428571432, 'encoded__Second <= 0.5\\ngini = 0.455\\nsamples = 83\\nvalue = [54, 29]'),\n",
       " Text(792.9473684210526, 38.82857142857142, 'gini = 0.494\\nsamples = 63\\nvalue = [35, 28]'),\n",
       " Text(851.6842105263158, 38.82857142857142, 'gini = 0.095\\nsamples = 20\\nvalue = [19, 1]'),\n",
       " Text(969.1578947368421, 194.14285714285717, 'age <= 3.5\\ngini = 0.133\\nsamples = 14\\nvalue = [13, 1]'),\n",
       " Text(939.7894736842105, 116.48571428571432, 'parch <= 1.5\\ngini = 0.32\\nsamples = 5\\nvalue = [4, 1]'),\n",
       " Text(910.421052631579, 38.82857142857142, 'gini = 0.0\\nsamples = 4\\nvalue = [4, 0]'),\n",
       " Text(969.1578947368421, 38.82857142857142, 'gini = 0.0\\nsamples = 1\\nvalue = [0, 1]'),\n",
       " Text(998.5263157894736, 116.48571428571432, 'gini = 0.0\\nsamples = 9\\nvalue = [9, 0]'),\n",
       " Text(1057.2631578947369, 271.8, 'age <= 75.5\\ngini = 0.124\\nsamples = 15\\nvalue = [14, 1]'),\n",
       " Text(1027.8947368421052, 194.14285714285717, 'gini = 0.0\\nsamples = 14\\nvalue = [14, 0]'),\n",
       " Text(1086.6315789473683, 194.14285714285717, 'gini = 0.0\\nsamples = 1\\nvalue = [0, 1]')]"
      ]
     },
     "execution_count": 33,
     "metadata": {},
     "output_type": "execute_result"
    },
    {
     "data": {
      "image/png": "[encoded data removed]",
      "text/plain": [
       "<Figure size 1440x720 with 1 Axes>"
      ]
     },
     "metadata": {
      "needs_background": "light"
     },
     "output_type": "display_data"
    }
   ],
   "source": [
    "clf = DecisionTreeClassifier(max_depth=6, random_state=123)\n",
    "clf = clf.fit(X_train, y_train)\n",
    "plt.figure(figsize=(20, 10))\n",
    "plot_tree(clf, feature_names=X_train.columns, rounded=True)"
   ]
  },
  {
   "cell_type": "code",
   "execution_count": 34,
   "id": "0d7462fb",
   "metadata": {},
   "outputs": [
    {
     "data": {
      "text/plain": [
       "array([0, 1, 0, 1, 1])"
      ]
     },
     "execution_count": 34,
     "metadata": {},
     "output_type": "execute_result"
    }
   ],
   "source": [
    "y_pred = clf.predict(X_train)\n",
    "y_pred[0:5]"
   ]
  },
  {
   "cell_type": "code",
   "execution_count": 35,
   "id": "a80dd0ff",
   "metadata": {},
   "outputs": [
    {
     "data": {
      "text/plain": [
       "array([[0.55555556, 0.44444444],\n",
       "       [0.        , 1.        ],\n",
       "       [1.        , 0.        ],\n",
       "       [0.        , 1.        ],\n",
       "       [0.        , 1.        ]])"
      ]
     },
     "execution_count": 35,
     "metadata": {},
     "output_type": "execute_result"
    }
   ],
   "source": [
    "y_pred_proba = clf.predict_proba(X_train)\n",
    "y_pred_proba[0:5]"
   ]
  },
  {
   "cell_type": "code",
   "execution_count": 36,
   "id": "ceaf5355",
   "metadata": {},
   "outputs": [
    {
     "name": "stdout",
     "output_type": "stream",
     "text": [
      "Accuracy of Decision Tree classifier on training set: 0.87\n"
     ]
    }
   ],
   "source": [
    "print('Accuracy of Decision Tree classifier on training set: {:.2f}'\n",
    "      .format(clf.score(X_train, y_train)))"
   ]
  },
  {
   "cell_type": "code",
   "execution_count": 37,
   "id": "94411921",
   "metadata": {},
   "outputs": [
    {
     "data": {
      "text/plain": [
       "array([[297,  10],\n",
       "       [ 57, 134]])"
      ]
     },
     "execution_count": 37,
     "metadata": {},
     "output_type": "execute_result"
    }
   ],
   "source": [
    "confusion_matrix(y_train, y_pred)"
   ]
  },
  {
   "cell_type": "code",
   "execution_count": 38,
   "id": "057b5105",
   "metadata": {},
   "outputs": [
    {
     "data": {
      "text/html": [
       "<div>\n",
       "<style scoped>\n",
       "    .dataframe tbody tr th:only-of-type {\n",
       "        vertical-align: middle;\n",
       "    }\n",
       "\n",
       "    .dataframe tbody tr th {\n",
       "        vertical-align: top;\n",
       "    }\n",
       "\n",
       "    .dataframe thead th {\n",
       "        text-align: right;\n",
       "    }\n",
       "</style>\n",
       "<table border=\"1\" class=\"dataframe\">\n",
       "  <thead>\n",
       "    <tr style=\"text-align: right;\">\n",
       "      <th></th>\n",
       "      <th>actual_died</th>\n",
       "      <th>actual survived</th>\n",
       "    </tr>\n",
       "  </thead>\n",
       "  <tbody>\n",
       "    <tr>\n",
       "      <th>predict_died</th>\n",
       "      <td>297</td>\n",
       "      <td>10</td>\n",
       "    </tr>\n",
       "    <tr>\n",
       "      <th>predict_survived</th>\n",
       "      <td>57</td>\n",
       "      <td>134</td>\n",
       "    </tr>\n",
       "  </tbody>\n",
       "</table>\n",
       "</div>"
      ],
      "text/plain": [
       "                  actual_died  actual survived\n",
       "predict_died              297               10\n",
       "predict_survived           57              134"
      ]
     },
     "execution_count": 38,
     "metadata": {},
     "output_type": "execute_result"
    }
   ],
   "source": [
    "labels = sorted(y_train.unique())\n",
    "\n",
    "pd.DataFrame(confusion_matrix(y_train, y_pred), index=['predict_died', 'predict_survived'], columns=['actual_died', 'actual survived'])"
   ]
  },
  {
   "cell_type": "code",
   "execution_count": 39,
   "id": "1c19d73c",
   "metadata": {},
   "outputs": [
    {
     "name": "stdout",
     "output_type": "stream",
     "text": [
      "              precision    recall  f1-score   support\n",
      "\n",
      "           0       0.84      0.97      0.90       307\n",
      "           1       0.93      0.70      0.80       191\n",
      "\n",
      "    accuracy                           0.87       498\n",
      "   macro avg       0.88      0.83      0.85       498\n",
      "weighted avg       0.87      0.87      0.86       498\n",
      "\n"
     ]
    }
   ],
   "source": [
    "print(classification_report(y_train, y_pred))"
   ]
  },
  {
   "cell_type": "code",
   "execution_count": 40,
   "id": "cf6452ef",
   "metadata": {},
   "outputs": [
    {
     "name": "stdout",
     "output_type": "stream",
     "text": [
      "Accuracy of Decision Tree classifier on validate set: 0.79\n"
     ]
    }
   ],
   "source": [
    "print('Accuracy of Decision Tree classifier on validate set: {:.2f}'\n",
    "     .format(clf.score(X_validate, y_validate)))"
   ]
  },
  {
   "cell_type": "code",
   "execution_count": 41,
   "id": "5f4638f7",
   "metadata": {},
   "outputs": [
    {
     "name": "stdout",
     "output_type": "stream",
     "text": [
      "              precision    recall  f1-score   support\n",
      "\n",
      "           0       0.79      0.88      0.83       132\n",
      "           1       0.76      0.63      0.69        82\n",
      "\n",
      "    accuracy                           0.79       214\n",
      "   macro avg       0.78      0.76      0.76       214\n",
      "weighted avg       0.78      0.79      0.78       214\n",
      "\n"
     ]
    }
   ],
   "source": [
    "y_pred = clf.predict(X_validate)\n",
    "print(classification_report(y_validate, y_pred))"
   ]
  },
  {
   "cell_type": "markdown",
   "id": "09ed709b",
   "metadata": {},
   "source": [
    "When changing the max_depth from 3 to 6 overfits the model as the accuracy drops 10% \n",
    "from the train dataset to the validate dataset. The first model (max_depth=3) is better\n",
    "as overall accuracy is 83% in train and 80% in validate. This indicates overfitting is\n",
    "not very present in the first model."
   ]
  },
  {
   "cell_type": "markdown",
   "id": "c575bed1",
   "metadata": {},
   "source": [
    "## Titanic - Random Forest"
   ]
  },
  {
   "cell_type": "code",
   "execution_count": 42,
   "id": "c91c1e93",
   "metadata": {},
   "outputs": [],
   "source": [
    "from sklearn.ensemble import RandomForestClassifier"
   ]
  },
  {
   "cell_type": "code",
   "execution_count": 43,
   "id": "f72a750b",
   "metadata": {},
   "outputs": [
    {
     "data": {
      "text/plain": [
       "RandomForestClassifier(max_depth=3, random_state=123)"
      ]
     },
     "execution_count": 43,
     "metadata": {},
     "output_type": "execute_result"
    }
   ],
   "source": [
    "rf = RandomForestClassifier(max_depth=3, \n",
    "                            random_state=123)\n",
    "rf"
   ]
  },
  {
   "cell_type": "code",
   "execution_count": 44,
   "id": "69e00778",
   "metadata": {},
   "outputs": [
    {
     "data": {
      "text/plain": [
       "RandomForestClassifier(max_depth=3, random_state=123)"
      ]
     },
     "execution_count": 44,
     "metadata": {},
     "output_type": "execute_result"
    }
   ],
   "source": [
    "rf.fit(X_train, y_train)"
   ]
  },
  {
   "cell_type": "code",
   "execution_count": 45,
   "id": "75a0e218",
   "metadata": {},
   "outputs": [
    {
     "data": {
      "text/plain": [
       "array([0.51628357, 0.01032434, 0.02154941, 0.02060188, 0.14928251,\n",
       "       0.05378597, 0.04889769, 0.02592465, 0.13193313, 0.02141685])"
      ]
     },
     "execution_count": 45,
     "metadata": {},
     "output_type": "execute_result"
    }
   ],
   "source": [
    "feature_importances = rf.feature_importances_\n",
    "feature_importances"
   ]
  },
  {
   "cell_type": "code",
   "execution_count": 46,
   "id": "b051c4da",
   "metadata": {},
   "outputs": [
    {
     "data": {
      "text/plain": [
       "encoded__male           0.516284\n",
       "encoded__Third          0.149283\n",
       "fare                    0.131933\n",
       "age                     0.053786\n",
       "sibsp                   0.048898\n",
       "parch                   0.025925\n",
       "encoded__Southampton    0.021549\n",
       "alone                   0.021417\n",
       "encoded__Second         0.020602\n",
       "encoded__Queenstown     0.010324\n",
       "dtype: float64"
      ]
     },
     "execution_count": 46,
     "metadata": {},
     "output_type": "execute_result"
    }
   ],
   "source": [
    "feature_scores = pd.Series(rf.feature_importances_, index=X_train.columns).sort_values(ascending=False)\n",
    "\n",
    "feature_scores"
   ]
  },
  {
   "cell_type": "code",
   "execution_count": 47,
   "id": "ba2e1a32",
   "metadata": {},
   "outputs": [
    {
     "data": {
      "text/plain": [
       "(array([0, 0, 0, 1, 1, 0, 0, 0, 0, 0, 0, 0, 1, 0, 0, 0, 0, 1, 0, 0, 1, 0,\n",
       "        1, 1, 0, 0, 1, 1, 0, 0, 0, 0, 0, 0, 1, 0, 0, 1, 0, 1, 0, 0, 0, 1,\n",
       "        0, 0, 0, 0, 1, 0, 0, 0, 1, 1, 0, 1, 0, 1, 1, 0, 0, 0, 0, 0, 0, 0,\n",
       "        0, 0, 0, 1, 0, 0, 1, 0, 0, 0, 0, 0, 0, 0, 0, 1, 0, 0, 0, 0, 1, 1,\n",
       "        1, 0, 0, 0, 1, 1, 0, 0, 1, 0, 0, 1, 0, 0, 1, 0, 1, 1, 0, 1, 0, 0,\n",
       "        0, 0, 0, 0, 1, 1, 0, 0, 1, 1, 1, 0, 0, 0, 1, 1, 1, 0, 1, 0, 1, 0,\n",
       "        0, 1, 0, 0, 0, 0, 0, 0, 1, 0, 0, 0, 1, 0, 1, 1, 1, 1, 0, 1, 1, 0,\n",
       "        0, 0, 0, 0, 1, 0, 0, 1, 0, 1, 0, 0, 0, 0, 0, 0, 0, 1, 1, 0, 0, 0,\n",
       "        1, 0, 0, 0, 0, 0, 0, 1, 0, 1, 0, 1, 1, 1, 0, 1, 0, 0, 1, 1, 0, 0,\n",
       "        0, 0, 0, 1, 1, 0, 0, 0, 0, 0, 0, 1, 1, 0, 0, 1, 1, 0, 0, 0, 1, 0,\n",
       "        1, 0, 0, 1, 0, 0, 0, 0, 0, 0, 0, 0, 0, 0, 0, 1, 1, 0, 0, 0, 0, 0,\n",
       "        1, 0, 1, 0, 1, 0, 0, 1, 0, 0, 0, 0, 0, 1, 1, 1, 1, 1, 0, 0, 1, 1,\n",
       "        0, 0, 0, 0, 0, 0, 0, 0, 0, 1, 0, 0, 0, 0, 0, 0, 0, 1, 1, 1, 0, 0,\n",
       "        1, 0, 0, 0, 0, 0, 0, 0, 0, 0, 0, 0, 0, 0, 0, 0, 0, 1, 0, 0, 1, 0,\n",
       "        0, 1, 0, 0, 0, 1, 0, 1, 0, 1, 0, 0, 0, 0, 1, 0, 0, 0, 0, 0, 0, 1,\n",
       "        0, 1, 1, 0, 0, 1, 0, 1, 0, 0, 0, 1, 1, 0, 0, 1, 0, 0, 0, 0, 1, 0,\n",
       "        0, 1, 1, 1, 1, 0, 1, 1, 1, 0, 1, 0, 0, 0, 0, 0, 0, 0, 0, 0, 1, 0,\n",
       "        1, 1, 1, 1, 1, 0, 1, 1, 1, 0, 0, 1, 0, 1, 0, 0, 0, 0, 0, 1, 0, 1,\n",
       "        1, 0, 0, 1, 0, 1, 0, 0, 0, 0, 0, 0, 0, 1, 0, 0, 0, 0, 1, 1, 1, 1,\n",
       "        1, 0, 0, 0, 0, 1, 0, 1, 1, 1, 0, 1, 0, 0, 0, 0, 1, 0, 1, 0, 1, 0,\n",
       "        0, 1, 0, 0, 0, 1, 0, 0, 0, 0, 0, 1, 0, 0, 1, 0, 0, 0, 0, 0, 0, 0,\n",
       "        1, 0, 0, 1, 0, 0, 0, 0, 1, 0, 0, 0, 0, 0, 1, 0, 0, 0, 0, 1, 0, 1,\n",
       "        0, 0, 0, 1, 0, 1, 1, 0, 1, 0, 0, 0, 0, 0]),\n",
       " array([[0.62714409, 0.37285591],\n",
       "        [0.73585962, 0.26414038],\n",
       "        [0.81381022, 0.18618978],\n",
       "        [0.20141788, 0.79858212],\n",
       "        [0.21060621, 0.78939379],\n",
       "        [0.6510748 , 0.3489252 ],\n",
       "        [0.60477487, 0.39522513],\n",
       "        [0.75964567, 0.24035433],\n",
       "        [0.81996551, 0.18003449],\n",
       "        [0.69527741, 0.30472259],\n",
       "        [0.50159217, 0.49840783],\n",
       "        [0.68898011, 0.31101989],\n",
       "        [0.20706237, 0.79293763],\n",
       "        [0.66589992, 0.33410008],\n",
       "        [0.63021722, 0.36978278],\n",
       "        [0.88054836, 0.11945164],\n",
       "        [0.87951059, 0.12048941],\n",
       "        [0.39371135, 0.60628865],\n",
       "        [0.74478115, 0.25521885],\n",
       "        [0.52745065, 0.47254935],\n",
       "        [0.48873002, 0.51126998],\n",
       "        [0.87439292, 0.12560708],\n",
       "        [0.19999783, 0.80000217],\n",
       "        [0.2181774 , 0.7818226 ],\n",
       "        [0.66589992, 0.33410008],\n",
       "        [0.87878976, 0.12121024],\n",
       "        [0.14201198, 0.85798802],\n",
       "        [0.24791865, 0.75208135],\n",
       "        [0.70662398, 0.29337602],\n",
       "        [0.74550026, 0.25449974],\n",
       "        [0.88238601, 0.11761399],\n",
       "        [0.77493107, 0.22506893],\n",
       "        [0.87878976, 0.12121024],\n",
       "        [0.72548194, 0.27451806],\n",
       "        [0.24648462, 0.75351538],\n",
       "        [0.73700112, 0.26299888],\n",
       "        [0.74980171, 0.25019829],\n",
       "        [0.1714123 , 0.8285877 ],\n",
       "        [0.83377479, 0.16622521],\n",
       "        [0.20284264, 0.79715736],\n",
       "        [0.88238601, 0.11761399],\n",
       "        [0.86916457, 0.13083543],\n",
       "        [0.51545456, 0.48454544],\n",
       "        [0.20536679, 0.79463321],\n",
       "        [0.64503956, 0.35496044],\n",
       "        [0.83948486, 0.16051514],\n",
       "        [0.81996551, 0.18003449],\n",
       "        [0.86735396, 0.13264604],\n",
       "        [0.39140255, 0.60859745],\n",
       "        [0.78994549, 0.21005451],\n",
       "        [0.86898987, 0.13101013],\n",
       "        [0.75964567, 0.24035433],\n",
       "        [0.18673484, 0.81326516],\n",
       "        [0.2362016 , 0.7637984 ],\n",
       "        [0.8736721 , 0.1263279 ],\n",
       "        [0.42886069, 0.57113931],\n",
       "        [0.88238601, 0.11761399],\n",
       "        [0.23960398, 0.76039602],\n",
       "        [0.44113317, 0.55886683],\n",
       "        [0.86790164, 0.13209836],\n",
       "        [0.59278527, 0.40721473],\n",
       "        [0.79647986, 0.20352014],\n",
       "        [0.84671046, 0.15328954],\n",
       "        [0.74980171, 0.25019829],\n",
       "        [0.87112032, 0.12887968],\n",
       "        [0.81996551, 0.18003449],\n",
       "        [0.83941773, 0.16058227],\n",
       "        [0.86420495, 0.13579505],\n",
       "        [0.75217053, 0.24782947],\n",
       "        [0.24872143, 0.75127857],\n",
       "        [0.7760439 , 0.2239561 ],\n",
       "        [0.87951059, 0.12048941],\n",
       "        [0.24552204, 0.75447796],\n",
       "        [0.63181633, 0.36818367],\n",
       "        [0.81996551, 0.18003449],\n",
       "        [0.64872049, 0.35127951],\n",
       "        [0.86790164, 0.13209836],\n",
       "        [0.74550026, 0.25449974],\n",
       "        [0.86790164, 0.13209836],\n",
       "        [0.77491477, 0.22508523],\n",
       "        [0.66102203, 0.33897797],\n",
       "        [0.21140827, 0.78859173],\n",
       "        [0.88054836, 0.11945164],\n",
       "        [0.74550026, 0.25449974],\n",
       "        [0.86790164, 0.13209836],\n",
       "        [0.76958249, 0.23041751],\n",
       "        [0.19287257, 0.80712743],\n",
       "        [0.49718762, 0.50281238],\n",
       "        [0.44517097, 0.55482903],\n",
       "        [0.74550026, 0.25449974],\n",
       "        [0.8707648 , 0.1292352 ],\n",
       "        [0.81996551, 0.18003449],\n",
       "        [0.46386473, 0.53613527],\n",
       "        [0.22773202, 0.77226798],\n",
       "        [0.74550026, 0.25449974],\n",
       "        [0.87706661, 0.12293339],\n",
       "        [0.19207052, 0.80792948],\n",
       "        [0.67278149, 0.32721851],\n",
       "        [0.62765247, 0.37234753],\n",
       "        [0.20837888, 0.79162112],\n",
       "        [0.87634578, 0.12365422],\n",
       "        [0.58379886, 0.41620114],\n",
       "        [0.21761686, 0.78238314],\n",
       "        [0.8576561 , 0.1423439 ],\n",
       "        [0.26530393, 0.73469607],\n",
       "        [0.20359885, 0.79640115],\n",
       "        [0.73572717, 0.26427283],\n",
       "        [0.40351459, 0.59648541],\n",
       "        [0.87706661, 0.12293339],\n",
       "        [0.87301931, 0.12698069],\n",
       "        [0.66260355, 0.33739645],\n",
       "        [0.66260355, 0.33739645],\n",
       "        [0.63521623, 0.36478377],\n",
       "        [0.78182455, 0.21817545],\n",
       "        [0.44668091, 0.55331909],\n",
       "        [0.21393592, 0.78606408],\n",
       "        [0.82070066, 0.17929934],\n",
       "        [0.87878976, 0.12121024],\n",
       "        [0.21197068, 0.78802932],\n",
       "        [0.16387862, 0.83612138],\n",
       "        [0.49223217, 0.50776783],\n",
       "        [0.86329364, 0.13670636],\n",
       "        [0.5865123 , 0.4134877 ],\n",
       "        [0.52313165, 0.47686835],\n",
       "        [0.47592703, 0.52407297],\n",
       "        [0.21926845, 0.78073155],\n",
       "        [0.17508481, 0.82491519],\n",
       "        [0.56874073, 0.43125927],\n",
       "        [0.47812301, 0.52187699],\n",
       "        [0.64210125, 0.35789875],\n",
       "        [0.39371135, 0.60628865],\n",
       "        [0.87878976, 0.12121024],\n",
       "        [0.70492828, 0.29507172],\n",
       "        [0.21310017, 0.78689983],\n",
       "        [0.66102203, 0.33897797],\n",
       "        [0.87634578, 0.12365422],\n",
       "        [0.8332085 , 0.1667915 ],\n",
       "        [0.87951059, 0.12048941],\n",
       "        [0.62496239, 0.37503761],\n",
       "        [0.5894417 , 0.4105583 ],\n",
       "        [0.18064583, 0.81935417],\n",
       "        [0.57552222, 0.42447778],\n",
       "        [0.63671283, 0.36328717],\n",
       "        [0.82488952, 0.17511048],\n",
       "        [0.41958359, 0.58041641],\n",
       "        [0.66194373, 0.33805627],\n",
       "        [0.17580599, 0.82419401],\n",
       "        [0.22851669, 0.77148331],\n",
       "        [0.17541307, 0.82458693],\n",
       "        [0.21877452, 0.78122548],\n",
       "        [0.79647986, 0.20352014],\n",
       "        [0.2120714 , 0.7879286 ],\n",
       "        [0.24543355, 0.75456645],\n",
       "        [0.85252408, 0.14747592],\n",
       "        [0.50190934, 0.49809066],\n",
       "        [0.7264185 , 0.2735815 ],\n",
       "        [0.8754307 , 0.1245693 ],\n",
       "        [0.86477245, 0.13522755],\n",
       "        [0.4350719 , 0.5649281 ],\n",
       "        [0.88147092, 0.11852908],\n",
       "        [0.65233984, 0.34766016],\n",
       "        [0.24648462, 0.75351538],\n",
       "        [0.70421519, 0.29578481],\n",
       "        [0.46836062, 0.53163938],\n",
       "        [0.88147092, 0.11852908],\n",
       "        [0.84265173, 0.15734827],\n",
       "        [0.82602676, 0.17397324],\n",
       "        [0.8759809 , 0.1240191 ],\n",
       "        [0.65648893, 0.34351107],\n",
       "        [0.88054836, 0.11945164],\n",
       "        [0.75834247, 0.24165753],\n",
       "        [0.19299794, 0.80700206],\n",
       "        [0.4350719 , 0.5649281 ],\n",
       "        [0.77022451, 0.22977549],\n",
       "        [0.66659034, 0.33340966],\n",
       "        [0.73093443, 0.26906557],\n",
       "        [0.26060626, 0.73939374],\n",
       "        [0.85529676, 0.14470324],\n",
       "        [0.84910973, 0.15089027],\n",
       "        [0.67449073, 0.32550927],\n",
       "        [0.85642319, 0.14357681],\n",
       "        [0.87951059, 0.12048941],\n",
       "        [0.87878976, 0.12121024],\n",
       "        [0.17368144, 0.82631856],\n",
       "        [0.87301931, 0.12698069],\n",
       "        [0.39140255, 0.60859745],\n",
       "        [0.70331908, 0.29668092],\n",
       "        [0.17487099, 0.82512901],\n",
       "        [0.41486461, 0.58513539],\n",
       "        [0.48000396, 0.51999604],\n",
       "        [0.72930973, 0.27069027],\n",
       "        [0.19018884, 0.80981116],\n",
       "        [0.87951059, 0.12048941],\n",
       "        [0.74550026, 0.25449974],\n",
       "        [0.21315347, 0.78684653],\n",
       "        [0.37305904, 0.62694096],\n",
       "        [0.69635867, 0.30364133],\n",
       "        [0.83737425, 0.16262575],\n",
       "        [0.8736721 , 0.1263279 ],\n",
       "        [0.85714401, 0.14285599],\n",
       "        [0.82070066, 0.17929934],\n",
       "        [0.19492274, 0.80507726],\n",
       "        [0.19788571, 0.80211429],\n",
       "        [0.79265983, 0.20734017],\n",
       "        [0.75880636, 0.24119364],\n",
       "        [0.88054836, 0.11945164],\n",
       "        [0.72252871, 0.27747129],\n",
       "        [0.59704315, 0.40295685],\n",
       "        [0.87951059, 0.12048941],\n",
       "        [0.21354035, 0.78645965],\n",
       "        [0.49808983, 0.50191017],\n",
       "        [0.87951059, 0.12048941],\n",
       "        [0.85101105, 0.14898895],\n",
       "        [0.48505309, 0.51494691],\n",
       "        [0.23085915, 0.76914085],\n",
       "        [0.66028635, 0.33971365],\n",
       "        [0.86790164, 0.13209836],\n",
       "        [0.82488952, 0.17511048],\n",
       "        [0.21238781, 0.78761219],\n",
       "        [0.88147092, 0.11852908],\n",
       "        [0.48995096, 0.51004904],\n",
       "        [0.87951059, 0.12048941],\n",
       "        [0.87623798, 0.12376202],\n",
       "        [0.21222605, 0.78777395],\n",
       "        [0.86329364, 0.13670636],\n",
       "        [0.8707648 , 0.1292352 ],\n",
       "        [0.59281584, 0.40718416],\n",
       "        [0.88238601, 0.11761399],\n",
       "        [0.83772764, 0.16227236],\n",
       "        [0.72713932, 0.27286068],\n",
       "        [0.75502959, 0.24497041],\n",
       "        [0.8736721 , 0.1263279 ],\n",
       "        [0.87301931, 0.12698069],\n",
       "        [0.81817968, 0.18182032],\n",
       "        [0.85714401, 0.14285599],\n",
       "        [0.18064583, 0.81935417],\n",
       "        [0.48681553, 0.51318447],\n",
       "        [0.84671046, 0.15328954],\n",
       "        [0.62371364, 0.37628636],\n",
       "        [0.68814187, 0.31185813],\n",
       "        [0.87951059, 0.12048941],\n",
       "        [0.50125649, 0.49874351],\n",
       "        [0.24491706, 0.75508294],\n",
       "        [0.74337665, 0.25662335],\n",
       "        [0.25267607, 0.74732393],\n",
       "        [0.86329364, 0.13670636],\n",
       "        [0.15759887, 0.84240113],\n",
       "        [0.85949484, 0.14050516],\n",
       "        [0.87285877, 0.12714123],\n",
       "        [0.1934437 , 0.8065563 ],\n",
       "        [0.86758537, 0.13241463],\n",
       "        [0.66102203, 0.33897797],\n",
       "        [0.87878976, 0.12121024],\n",
       "        [0.56882255, 0.43117745],\n",
       "        [0.78822722, 0.21177278],\n",
       "        [0.45119608, 0.54880392],\n",
       "        [0.40682861, 0.59317139],\n",
       "        [0.17997375, 0.82002625],\n",
       "        [0.17035779, 0.82964221],\n",
       "        [0.46532076, 0.53467924],\n",
       "        [0.74478115, 0.25521885],\n",
       "        [0.87634578, 0.12365422],\n",
       "        [0.39140255, 0.60859745],\n",
       "        [0.17930346, 0.82069654],\n",
       "        [0.88054836, 0.11945164],\n",
       "        [0.61996074, 0.38003926],\n",
       "        [0.52840566, 0.47159434],\n",
       "        [0.83672146, 0.16327854],\n",
       "        [0.87706661, 0.12293339],\n",
       "        [0.52148324, 0.47851676],\n",
       "        [0.75825327, 0.24174673],\n",
       "        [0.57137437, 0.42862563],\n",
       "        [0.88054836, 0.11945164],\n",
       "        [0.16056184, 0.83943816],\n",
       "        [0.69527741, 0.30472259],\n",
       "        [0.84807196, 0.15192804],\n",
       "        [0.87634578, 0.12365422],\n",
       "        [0.87951059, 0.12048941],\n",
       "        [0.87951059, 0.12048941],\n",
       "        [0.87878976, 0.12121024],\n",
       "        [0.87878976, 0.12121024],\n",
       "        [0.21605442, 0.78394558],\n",
       "        [0.39292338, 0.60707662],\n",
       "        [0.39140255, 0.60859745],\n",
       "        [0.82587693, 0.17412307],\n",
       "        [0.64872049, 0.35127951],\n",
       "        [0.21476058, 0.78523942],\n",
       "        [0.65758657, 0.34241343],\n",
       "        [0.6742894 , 0.3257106 ],\n",
       "        [0.87878976, 0.12121024],\n",
       "        [0.86823883, 0.13176117],\n",
       "        [0.72329292, 0.27670708],\n",
       "        [0.87951059, 0.12048941],\n",
       "        [0.88054836, 0.11945164],\n",
       "        [0.58191128, 0.41808872],\n",
       "        [0.64087571, 0.35912429],\n",
       "        [0.73440191, 0.26559809],\n",
       "        [0.84997601, 0.15002399],\n",
       "        [0.69938584, 0.30061416],\n",
       "        [0.67207595, 0.32792405],\n",
       "        [0.8690062 , 0.1309938 ],\n",
       "        [0.88238601, 0.11761399],\n",
       "        [0.88147092, 0.11852908],\n",
       "        [0.39140255, 0.60859745],\n",
       "        [0.87878976, 0.12121024],\n",
       "        [0.68728838, 0.31271162],\n",
       "        [0.18766226, 0.81233774],\n",
       "        [0.87951059, 0.12048941],\n",
       "        [0.72285571, 0.27714429],\n",
       "        [0.44610589, 0.55389411],\n",
       "        [0.74550026, 0.25449974],\n",
       "        [0.75891975, 0.24108025],\n",
       "        [0.83112681, 0.16887319],\n",
       "        [0.39692886, 0.60307114],\n",
       "        [0.69416638, 0.30583362],\n",
       "        [0.47174878, 0.52825122],\n",
       "        [0.87951059, 0.12048941],\n",
       "        [0.21668216, 0.78331784],\n",
       "        [0.63130794, 0.36869206],\n",
       "        [0.85318294, 0.14681706],\n",
       "        [0.64455315, 0.35544685],\n",
       "        [0.85714401, 0.14285599],\n",
       "        [0.21919194, 0.78080806],\n",
       "        [0.63181633, 0.36818367],\n",
       "        [0.85029022, 0.14970978],\n",
       "        [0.59924797, 0.40075203],\n",
       "        [0.60110639, 0.39889361],\n",
       "        [0.65961754, 0.34038246],\n",
       "        [0.66028635, 0.33971365],\n",
       "        [0.23960398, 0.76039602],\n",
       "        [0.8754307 , 0.1245693 ],\n",
       "        [0.47411759, 0.52588241],\n",
       "        [0.39140255, 0.60859745],\n",
       "        [0.571454  , 0.428546  ],\n",
       "        [0.58898907, 0.41101093],\n",
       "        [0.39371135, 0.60628865],\n",
       "        [0.80228961, 0.19771039],\n",
       "        [0.42227535, 0.57772465],\n",
       "        [0.75964567, 0.24035433],\n",
       "        [0.81996551, 0.18003449],\n",
       "        [0.75964567, 0.24035433],\n",
       "        [0.22514814, 0.77485186],\n",
       "        [0.38448588, 0.61551412],\n",
       "        [0.64087571, 0.35912429],\n",
       "        [0.79079173, 0.20920827],\n",
       "        [0.4409338 , 0.5590662 ],\n",
       "        [0.64872049, 0.35127951],\n",
       "        [0.63837021, 0.36162979],\n",
       "        [0.57565379, 0.42434621],\n",
       "        [0.68898011, 0.31101989],\n",
       "        [0.17904633, 0.82095367],\n",
       "        [0.65900919, 0.34099081],\n",
       "        [0.86512004, 0.13487996],\n",
       "        [0.43233027, 0.56766973],\n",
       "        [0.16820417, 0.83179583],\n",
       "        [0.23369674, 0.76630326],\n",
       "        [0.17186979, 0.82813021],\n",
       "        [0.76760406, 0.23239594],\n",
       "        [0.47174878, 0.52825122],\n",
       "        [0.41487023, 0.58512977],\n",
       "        [0.49430754, 0.50569246],\n",
       "        [0.57199539, 0.42800461],\n",
       "        [0.2289767 , 0.7710233 ],\n",
       "        [0.78109194, 0.21890806],\n",
       "        [0.82872491, 0.17127509],\n",
       "        [0.56624946, 0.43375054],\n",
       "        [0.74478115, 0.25521885],\n",
       "        [0.86420495, 0.13579505],\n",
       "        [0.77839264, 0.22160736],\n",
       "        [0.60435091, 0.39564909],\n",
       "        [0.74550026, 0.25449974],\n",
       "        [0.81924468, 0.18075532],\n",
       "        [0.4730873 , 0.5269127 ],\n",
       "        [0.59012795, 0.40987205],\n",
       "        [0.47270922, 0.52729078],\n",
       "        [0.47003554, 0.52996446],\n",
       "        [0.19251094, 0.80748906],\n",
       "        [0.22533423, 0.77466577],\n",
       "        [0.19299794, 0.80700206],\n",
       "        [0.53242527, 0.46757473],\n",
       "        [0.39801357, 0.60198643],\n",
       "        [0.20799219, 0.79200781],\n",
       "        [0.24872143, 0.75127857],\n",
       "        [0.8736721 , 0.1263279 ],\n",
       "        [0.60475069, 0.39524931],\n",
       "        [0.39140255, 0.60859745],\n",
       "        [0.85101105, 0.14898895],\n",
       "        [0.47951098, 0.52048902],\n",
       "        [0.59294299, 0.40705701],\n",
       "        [0.75964567, 0.24035433],\n",
       "        [0.85101105, 0.14898895],\n",
       "        [0.74550026, 0.25449974],\n",
       "        [0.66012592, 0.33987408],\n",
       "        [0.24648462, 0.75351538],\n",
       "        [0.57356206, 0.42643794],\n",
       "        [0.48000396, 0.51999604],\n",
       "        [0.14614604, 0.85385396],\n",
       "        [0.88147092, 0.11852908],\n",
       "        [0.85029022, 0.14970978],\n",
       "        [0.4818394 , 0.5181606 ],\n",
       "        [0.87661555, 0.12338445],\n",
       "        [0.1979187 , 0.8020813 ],\n",
       "        [0.793844  , 0.206156  ],\n",
       "        [0.58573719, 0.41426281],\n",
       "        [0.75892656, 0.24107344],\n",
       "        [0.85714401, 0.14285599],\n",
       "        [0.74305708, 0.25694292],\n",
       "        [0.83737425, 0.16262575],\n",
       "        [0.62143579, 0.37856421],\n",
       "        [0.48821976, 0.51178024],\n",
       "        [0.68898011, 0.31101989],\n",
       "        [0.84339387, 0.15660613],\n",
       "        [0.79816231, 0.20183769],\n",
       "        [0.84023805, 0.15976195],\n",
       "        [0.18593052, 0.81406948],\n",
       "        [0.24445752, 0.75554248],\n",
       "        [0.20359885, 0.79640115],\n",
       "        [0.48267765, 0.51732235],\n",
       "        [0.20250046, 0.79749954],\n",
       "        [0.65758657, 0.34241343],\n",
       "        [0.6383027 , 0.3616973 ],\n",
       "        [0.87706661, 0.12293339],\n",
       "        [0.79647986, 0.20352014],\n",
       "        [0.16697655, 0.83302345],\n",
       "        [0.793844  , 0.206156  ],\n",
       "        [0.22531731, 0.77468269],\n",
       "        [0.48671903, 0.51328097],\n",
       "        [0.19987041, 0.80012959],\n",
       "        [0.8736721 , 0.1263279 ],\n",
       "        [0.44305575, 0.55694425],\n",
       "        [0.87951059, 0.12048941],\n",
       "        [0.76732714, 0.23267286],\n",
       "        [0.78182455, 0.21817545],\n",
       "        [0.77493107, 0.22506893],\n",
       "        [0.38618964, 0.61381036],\n",
       "        [0.74478115, 0.25521885],\n",
       "        [0.4154218 , 0.5845782 ],\n",
       "        [0.8576561 , 0.1423439 ],\n",
       "        [0.21509891, 0.78490109],\n",
       "        [0.85822287, 0.14177713],\n",
       "        [0.87951059, 0.12048941],\n",
       "        [0.46926875, 0.53073125],\n",
       "        [0.88054836, 0.11945164],\n",
       "        [0.74478115, 0.25521885],\n",
       "        [0.87706661, 0.12293339],\n",
       "        [0.44547668, 0.55452332],\n",
       "        [0.81604569, 0.18395431],\n",
       "        [0.82070066, 0.17929934],\n",
       "        [0.63130794, 0.36869206],\n",
       "        [0.80620486, 0.19379514],\n",
       "        [0.59064645, 0.40935355],\n",
       "        [0.20701969, 0.79298031],\n",
       "        [0.85949484, 0.14050516],\n",
       "        [0.70421519, 0.29578481],\n",
       "        [0.40326414, 0.59673586],\n",
       "        [0.66194373, 0.33805627],\n",
       "        [0.79993238, 0.20006762],\n",
       "        [0.60030434, 0.39969566],\n",
       "        [0.84007527, 0.15992473],\n",
       "        [0.74550026, 0.25449974],\n",
       "        [0.74641806, 0.25358194],\n",
       "        [0.87735761, 0.12264239],\n",
       "        [0.24648462, 0.75351538],\n",
       "        [0.61181285, 0.38818715],\n",
       "        [0.50364769, 0.49635231],\n",
       "        [0.1880442 , 0.8119558 ],\n",
       "        [0.56122054, 0.43877946],\n",
       "        [0.81745886, 0.18254114],\n",
       "        [0.53652598, 0.46347402],\n",
       "        [0.87439292, 0.12560708],\n",
       "        [0.23960398, 0.76039602],\n",
       "        [0.84004794, 0.15995206],\n",
       "        [0.67207595, 0.32792405],\n",
       "        [0.87439292, 0.12560708],\n",
       "        [0.81996551, 0.18003449],\n",
       "        [0.85101105, 0.14898895],\n",
       "        [0.23259698, 0.76740302],\n",
       "        [0.73423365, 0.26576635],\n",
       "        [0.601271  , 0.398729  ],\n",
       "        [0.87878976, 0.12121024],\n",
       "        [0.57217643, 0.42782357],\n",
       "        [0.15367972, 0.84632028],\n",
       "        [0.58286842, 0.41713158],\n",
       "        [0.40345719, 0.59654281],\n",
       "        [0.88054836, 0.11945164],\n",
       "        [0.56052003, 0.43947997],\n",
       "        [0.87112032, 0.12887968],\n",
       "        [0.47576098, 0.52423902],\n",
       "        [0.87951059, 0.12048941],\n",
       "        [0.48821976, 0.51178024],\n",
       "        [0.21153759, 0.78846241],\n",
       "        [0.74735853, 0.25264147],\n",
       "        [0.40345719, 0.59654281],\n",
       "        [0.87951059, 0.12048941],\n",
       "        [0.87623798, 0.12376202],\n",
       "        [0.88054836, 0.11945164],\n",
       "        [0.64455315, 0.35544685],\n",
       "        [0.87623798, 0.12376202]]))"
      ]
     },
     "execution_count": 47,
     "metadata": {},
     "output_type": "execute_result"
    }
   ],
   "source": [
    "y_pred = rf.predict(X_train)\n",
    "y_pred_proba = rf.predict_proba(X_train)\n",
    "\n",
    "y_pred, y_pred_proba"
   ]
  },
  {
   "cell_type": "code",
   "execution_count": 48,
   "id": "9fec4043",
   "metadata": {},
   "outputs": [
    {
     "name": "stdout",
     "output_type": "stream",
     "text": [
      "Accuracy of random forest classifier on training set: 0.84\n"
     ]
    }
   ],
   "source": [
    "print('Accuracy of random forest classifier on training set: {:.2f}'\n",
    "     .format(rf.score(X_train, y_train)))"
   ]
  },
  {
   "cell_type": "code",
   "execution_count": 49,
   "id": "f0862976",
   "metadata": {},
   "outputs": [
    {
     "name": "stdout",
     "output_type": "stream",
     "text": [
      "[[283  24]\n",
      " [ 54 137]]\n"
     ]
    }
   ],
   "source": [
    "print(confusion_matrix(y_train, y_pred))"
   ]
  },
  {
   "cell_type": "code",
   "execution_count": 50,
   "id": "ed3dba15",
   "metadata": {},
   "outputs": [
    {
     "name": "stdout",
     "output_type": "stream",
     "text": [
      "              precision    recall  f1-score   support\n",
      "\n",
      "           0       0.84      0.92      0.88       307\n",
      "           1       0.85      0.72      0.78       191\n",
      "\n",
      "    accuracy                           0.84       498\n",
      "   macro avg       0.85      0.82      0.83       498\n",
      "weighted avg       0.84      0.84      0.84       498\n",
      "\n"
     ]
    }
   ],
   "source": [
    "print(classification_report(y_train, y_pred))"
   ]
  },
  {
   "cell_type": "code",
   "execution_count": 51,
   "id": "93e55cd0",
   "metadata": {},
   "outputs": [
    {
     "name": "stdout",
     "output_type": "stream",
     "text": [
      "Accuracy of random forest classifier on test set: 0.79\n"
     ]
    }
   ],
   "source": [
    "print('Accuracy of random forest classifier on test set: {:.2f}'\n",
    "     .format(rf.score(X_validate, y_validate)))"
   ]
  },
  {
   "cell_type": "markdown",
   "id": "1aaca11a",
   "metadata": {},
   "source": [
    "## Telco"
   ]
  },
  {
   "cell_type": "markdown",
   "id": "0e3deefe",
   "metadata": {},
   "source": [
    "Using a decision tree classifier to make a model predicting customer churn."
   ]
  },
  {
   "cell_type": "code",
   "execution_count": 52,
   "id": "312af245",
   "metadata": {},
   "outputs": [],
   "source": [
    "df = acquire.get_telco_data()"
   ]
  },
  {
   "cell_type": "code",
   "execution_count": 53,
   "id": "58911f62",
   "metadata": {},
   "outputs": [
    {
     "data": {
      "text/html": [
       "<div>\n",
       "<style scoped>\n",
       "    .dataframe tbody tr th:only-of-type {\n",
       "        vertical-align: middle;\n",
       "    }\n",
       "\n",
       "    .dataframe tbody tr th {\n",
       "        vertical-align: top;\n",
       "    }\n",
       "\n",
       "    .dataframe thead th {\n",
       "        text-align: right;\n",
       "    }\n",
       "</style>\n",
       "<table border=\"1\" class=\"dataframe\">\n",
       "  <thead>\n",
       "    <tr style=\"text-align: right;\">\n",
       "      <th></th>\n",
       "      <th>Unnamed: 0</th>\n",
       "      <th>contract_type_id</th>\n",
       "      <th>payment_type_id</th>\n",
       "      <th>internet_service_type_id</th>\n",
       "      <th>customer_id</th>\n",
       "      <th>gender</th>\n",
       "      <th>senior_citizen</th>\n",
       "      <th>partner</th>\n",
       "      <th>dependents</th>\n",
       "      <th>tenure</th>\n",
       "      <th>...</th>\n",
       "      <th>tech_support</th>\n",
       "      <th>streaming_tv</th>\n",
       "      <th>streaming_movies</th>\n",
       "      <th>paperless_billing</th>\n",
       "      <th>monthly_charges</th>\n",
       "      <th>total_charges</th>\n",
       "      <th>churn</th>\n",
       "      <th>internet_service_type</th>\n",
       "      <th>payment_type</th>\n",
       "      <th>contract_type</th>\n",
       "    </tr>\n",
       "  </thead>\n",
       "  <tbody>\n",
       "    <tr>\n",
       "      <th>0</th>\n",
       "      <td>0</td>\n",
       "      <td>2</td>\n",
       "      <td>2</td>\n",
       "      <td>1</td>\n",
       "      <td>0002-ORFBO</td>\n",
       "      <td>Female</td>\n",
       "      <td>0</td>\n",
       "      <td>Yes</td>\n",
       "      <td>Yes</td>\n",
       "      <td>9</td>\n",
       "      <td>...</td>\n",
       "      <td>Yes</td>\n",
       "      <td>Yes</td>\n",
       "      <td>No</td>\n",
       "      <td>Yes</td>\n",
       "      <td>65.6</td>\n",
       "      <td>593.3</td>\n",
       "      <td>No</td>\n",
       "      <td>DSL</td>\n",
       "      <td>Mailed check</td>\n",
       "      <td>One year</td>\n",
       "    </tr>\n",
       "    <tr>\n",
       "      <th>1</th>\n",
       "      <td>1</td>\n",
       "      <td>1</td>\n",
       "      <td>2</td>\n",
       "      <td>1</td>\n",
       "      <td>0003-MKNFE</td>\n",
       "      <td>Male</td>\n",
       "      <td>0</td>\n",
       "      <td>No</td>\n",
       "      <td>No</td>\n",
       "      <td>9</td>\n",
       "      <td>...</td>\n",
       "      <td>No</td>\n",
       "      <td>No</td>\n",
       "      <td>Yes</td>\n",
       "      <td>No</td>\n",
       "      <td>59.9</td>\n",
       "      <td>542.4</td>\n",
       "      <td>No</td>\n",
       "      <td>DSL</td>\n",
       "      <td>Mailed check</td>\n",
       "      <td>Month-to-month</td>\n",
       "    </tr>\n",
       "    <tr>\n",
       "      <th>2</th>\n",
       "      <td>2</td>\n",
       "      <td>1</td>\n",
       "      <td>1</td>\n",
       "      <td>2</td>\n",
       "      <td>0004-TLHLJ</td>\n",
       "      <td>Male</td>\n",
       "      <td>0</td>\n",
       "      <td>No</td>\n",
       "      <td>No</td>\n",
       "      <td>4</td>\n",
       "      <td>...</td>\n",
       "      <td>No</td>\n",
       "      <td>No</td>\n",
       "      <td>No</td>\n",
       "      <td>Yes</td>\n",
       "      <td>73.9</td>\n",
       "      <td>280.85</td>\n",
       "      <td>Yes</td>\n",
       "      <td>Fiber optic</td>\n",
       "      <td>Electronic check</td>\n",
       "      <td>Month-to-month</td>\n",
       "    </tr>\n",
       "    <tr>\n",
       "      <th>3</th>\n",
       "      <td>3</td>\n",
       "      <td>1</td>\n",
       "      <td>1</td>\n",
       "      <td>2</td>\n",
       "      <td>0011-IGKFF</td>\n",
       "      <td>Male</td>\n",
       "      <td>1</td>\n",
       "      <td>Yes</td>\n",
       "      <td>No</td>\n",
       "      <td>13</td>\n",
       "      <td>...</td>\n",
       "      <td>No</td>\n",
       "      <td>Yes</td>\n",
       "      <td>Yes</td>\n",
       "      <td>Yes</td>\n",
       "      <td>98.0</td>\n",
       "      <td>1237.85</td>\n",
       "      <td>Yes</td>\n",
       "      <td>Fiber optic</td>\n",
       "      <td>Electronic check</td>\n",
       "      <td>Month-to-month</td>\n",
       "    </tr>\n",
       "    <tr>\n",
       "      <th>4</th>\n",
       "      <td>4</td>\n",
       "      <td>1</td>\n",
       "      <td>2</td>\n",
       "      <td>2</td>\n",
       "      <td>0013-EXCHZ</td>\n",
       "      <td>Female</td>\n",
       "      <td>1</td>\n",
       "      <td>Yes</td>\n",
       "      <td>No</td>\n",
       "      <td>3</td>\n",
       "      <td>...</td>\n",
       "      <td>Yes</td>\n",
       "      <td>Yes</td>\n",
       "      <td>No</td>\n",
       "      <td>Yes</td>\n",
       "      <td>83.9</td>\n",
       "      <td>267.4</td>\n",
       "      <td>Yes</td>\n",
       "      <td>Fiber optic</td>\n",
       "      <td>Mailed check</td>\n",
       "      <td>Month-to-month</td>\n",
       "    </tr>\n",
       "  </tbody>\n",
       "</table>\n",
       "<p>5 rows × 25 columns</p>\n",
       "</div>"
      ],
      "text/plain": [
       "   Unnamed: 0  contract_type_id  payment_type_id  internet_service_type_id  \\\n",
       "0           0                 2                2                         1   \n",
       "1           1                 1                2                         1   \n",
       "2           2                 1                1                         2   \n",
       "3           3                 1                1                         2   \n",
       "4           4                 1                2                         2   \n",
       "\n",
       "  customer_id  gender  senior_citizen partner dependents  tenure  ...  \\\n",
       "0  0002-ORFBO  Female               0     Yes        Yes       9  ...   \n",
       "1  0003-MKNFE    Male               0      No         No       9  ...   \n",
       "2  0004-TLHLJ    Male               0      No         No       4  ...   \n",
       "3  0011-IGKFF    Male               1     Yes         No      13  ...   \n",
       "4  0013-EXCHZ  Female               1     Yes         No       3  ...   \n",
       "\n",
       "  tech_support streaming_tv streaming_movies paperless_billing  \\\n",
       "0          Yes          Yes               No               Yes   \n",
       "1           No           No              Yes                No   \n",
       "2           No           No               No               Yes   \n",
       "3           No          Yes              Yes               Yes   \n",
       "4          Yes          Yes               No               Yes   \n",
       "\n",
       "  monthly_charges total_charges churn internet_service_type      payment_type  \\\n",
       "0            65.6         593.3    No                   DSL      Mailed check   \n",
       "1            59.9         542.4    No                   DSL      Mailed check   \n",
       "2            73.9        280.85   Yes           Fiber optic  Electronic check   \n",
       "3            98.0       1237.85   Yes           Fiber optic  Electronic check   \n",
       "4            83.9         267.4   Yes           Fiber optic      Mailed check   \n",
       "\n",
       "    contract_type  \n",
       "0        One year  \n",
       "1  Month-to-month  \n",
       "2  Month-to-month  \n",
       "3  Month-to-month  \n",
       "4  Month-to-month  \n",
       "\n",
       "[5 rows x 25 columns]"
      ]
     },
     "execution_count": 53,
     "metadata": {},
     "output_type": "execute_result"
    }
   ],
   "source": [
    "df.head()"
   ]
  },
  {
   "cell_type": "markdown",
   "id": "1f212222",
   "metadata": {},
   "source": [
    "Use prep_telco function to begin cleaning data. This will drop columns that wouldn't be appropriate for the model and create dummy variables to change object types to numeric. "
   ]
  },
  {
   "cell_type": "code",
   "execution_count": 54,
   "id": "cc840415",
   "metadata": {},
   "outputs": [],
   "source": [
    "def prep_telco(df):\n",
    "    df = df.drop(['Unnamed: 0', 'customer_id'], axis=1)\n",
    "    dummy = pd.get_dummies(df[['gender', 'partner', 'dependents', 'phone_service', 'multiple_lines',\n",
    "                  'tech_support', 'streaming_tv', 'streaming_movies', 'paperless_billing',\n",
    "                  'churn', 'internet_service_type', 'payment_type', 'contract_type']],\n",
    "              dummy_na=False, drop_first=[True, True, True, True, True, True, True, True, True, True, True, True, True])\n",
    "    df = pd.concat([dummy, df], axis=1)\n",
    "    return df"
   ]
  },
  {
   "cell_type": "code",
   "execution_count": 55,
   "id": "b5111f49",
   "metadata": {},
   "outputs": [],
   "source": [
    "df = prep_telco(df)"
   ]
  },
  {
   "cell_type": "code",
   "execution_count": 56,
   "id": "89b6216a",
   "metadata": {},
   "outputs": [
    {
     "name": "stdout",
     "output_type": "stream",
     "text": [
      "<class 'pandas.core.frame.DataFrame'>\n",
      "RangeIndex: 7043 entries, 0 to 7042\n",
      "Data columns (total 44 columns):\n",
      " #   Column                                Non-Null Count  Dtype  \n",
      "---  ------                                --------------  -----  \n",
      " 0   gender_Male                           7043 non-null   uint8  \n",
      " 1   partner_Yes                           7043 non-null   uint8  \n",
      " 2   dependents_Yes                        7043 non-null   uint8  \n",
      " 3   phone_service_Yes                     7043 non-null   uint8  \n",
      " 4   multiple_lines_No phone service       7043 non-null   uint8  \n",
      " 5   multiple_lines_Yes                    7043 non-null   uint8  \n",
      " 6   tech_support_No internet service      7043 non-null   uint8  \n",
      " 7   tech_support_Yes                      7043 non-null   uint8  \n",
      " 8   streaming_tv_No internet service      7043 non-null   uint8  \n",
      " 9   streaming_tv_Yes                      7043 non-null   uint8  \n",
      " 10  streaming_movies_No internet service  7043 non-null   uint8  \n",
      " 11  streaming_movies_Yes                  7043 non-null   uint8  \n",
      " 12  paperless_billing_Yes                 7043 non-null   uint8  \n",
      " 13  churn_Yes                             7043 non-null   uint8  \n",
      " 14  internet_service_type_Fiber optic     7043 non-null   uint8  \n",
      " 15  internet_service_type_None            7043 non-null   uint8  \n",
      " 16  payment_type_Credit card (automatic)  7043 non-null   uint8  \n",
      " 17  payment_type_Electronic check         7043 non-null   uint8  \n",
      " 18  payment_type_Mailed check             7043 non-null   uint8  \n",
      " 19  contract_type_One year                7043 non-null   uint8  \n",
      " 20  contract_type_Two year                7043 non-null   uint8  \n",
      " 21  contract_type_id                      7043 non-null   int64  \n",
      " 22  payment_type_id                       7043 non-null   int64  \n",
      " 23  internet_service_type_id              7043 non-null   int64  \n",
      " 24  gender                                7043 non-null   object \n",
      " 25  senior_citizen                        7043 non-null   int64  \n",
      " 26  partner                               7043 non-null   object \n",
      " 27  dependents                            7043 non-null   object \n",
      " 28  tenure                                7043 non-null   int64  \n",
      " 29  phone_service                         7043 non-null   object \n",
      " 30  multiple_lines                        7043 non-null   object \n",
      " 31  online_security                       7043 non-null   object \n",
      " 32  online_backup                         7043 non-null   object \n",
      " 33  device_protection                     7043 non-null   object \n",
      " 34  tech_support                          7043 non-null   object \n",
      " 35  streaming_tv                          7043 non-null   object \n",
      " 36  streaming_movies                      7043 non-null   object \n",
      " 37  paperless_billing                     7043 non-null   object \n",
      " 38  monthly_charges                       7043 non-null   float64\n",
      " 39  total_charges                         7043 non-null   object \n",
      " 40  churn                                 7043 non-null   object \n",
      " 41  internet_service_type                 7043 non-null   object \n",
      " 42  payment_type                          7043 non-null   object \n",
      " 43  contract_type                         7043 non-null   object \n",
      "dtypes: float64(1), int64(5), object(17), uint8(21)\n",
      "memory usage: 1.4+ MB\n"
     ]
    }
   ],
   "source": [
    "df.info()"
   ]
  },
  {
   "cell_type": "markdown",
   "id": "33efa2e0",
   "metadata": {},
   "source": [
    "Now that dummy variable columns have been created, dropping object colunns so that all data types are numeric."
   ]
  },
  {
   "cell_type": "code",
   "execution_count": 57,
   "id": "bf0e9ada",
   "metadata": {},
   "outputs": [
    {
     "data": {
      "text/plain": [
       "gender                   object\n",
       "partner                  object\n",
       "dependents               object\n",
       "phone_service            object\n",
       "multiple_lines           object\n",
       "online_security          object\n",
       "online_backup            object\n",
       "device_protection        object\n",
       "tech_support             object\n",
       "streaming_tv             object\n",
       "streaming_movies         object\n",
       "paperless_billing        object\n",
       "total_charges            object\n",
       "churn                    object\n",
       "internet_service_type    object\n",
       "payment_type             object\n",
       "contract_type            object\n",
       "dtype: object"
      ]
     },
     "execution_count": 57,
     "metadata": {},
     "output_type": "execute_result"
    }
   ],
   "source": [
    "df.dtypes[df.dtypes == \"object\"]"
   ]
  },
  {
   "cell_type": "code",
   "execution_count": 58,
   "id": "74a17159",
   "metadata": {},
   "outputs": [],
   "source": [
    "df = df.drop(['gender', 'partner', 'dependents', 'phone_service', 'multiple_lines',\n",
    "         'online_security', 'online_backup', 'device_protection', 'tech_support',\n",
    "         'streaming_tv', 'streaming_movies', 'paperless_billing', 'churn', 'internet_service_type',\n",
    "         'payment_type', 'contract_type'], axis=1)"
   ]
  },
  {
   "cell_type": "code",
   "execution_count": 59,
   "id": "120d150b",
   "metadata": {},
   "outputs": [
    {
     "name": "stdout",
     "output_type": "stream",
     "text": [
      "<class 'pandas.core.frame.DataFrame'>\n",
      "RangeIndex: 7043 entries, 0 to 7042\n",
      "Data columns (total 28 columns):\n",
      " #   Column                                Non-Null Count  Dtype  \n",
      "---  ------                                --------------  -----  \n",
      " 0   gender_Male                           7043 non-null   uint8  \n",
      " 1   partner_Yes                           7043 non-null   uint8  \n",
      " 2   dependents_Yes                        7043 non-null   uint8  \n",
      " 3   phone_service_Yes                     7043 non-null   uint8  \n",
      " 4   multiple_lines_No phone service       7043 non-null   uint8  \n",
      " 5   multiple_lines_Yes                    7043 non-null   uint8  \n",
      " 6   tech_support_No internet service      7043 non-null   uint8  \n",
      " 7   tech_support_Yes                      7043 non-null   uint8  \n",
      " 8   streaming_tv_No internet service      7043 non-null   uint8  \n",
      " 9   streaming_tv_Yes                      7043 non-null   uint8  \n",
      " 10  streaming_movies_No internet service  7043 non-null   uint8  \n",
      " 11  streaming_movies_Yes                  7043 non-null   uint8  \n",
      " 12  paperless_billing_Yes                 7043 non-null   uint8  \n",
      " 13  churn_Yes                             7043 non-null   uint8  \n",
      " 14  internet_service_type_Fiber optic     7043 non-null   uint8  \n",
      " 15  internet_service_type_None            7043 non-null   uint8  \n",
      " 16  payment_type_Credit card (automatic)  7043 non-null   uint8  \n",
      " 17  payment_type_Electronic check         7043 non-null   uint8  \n",
      " 18  payment_type_Mailed check             7043 non-null   uint8  \n",
      " 19  contract_type_One year                7043 non-null   uint8  \n",
      " 20  contract_type_Two year                7043 non-null   uint8  \n",
      " 21  contract_type_id                      7043 non-null   int64  \n",
      " 22  payment_type_id                       7043 non-null   int64  \n",
      " 23  internet_service_type_id              7043 non-null   int64  \n",
      " 24  senior_citizen                        7043 non-null   int64  \n",
      " 25  tenure                                7043 non-null   int64  \n",
      " 26  monthly_charges                       7043 non-null   float64\n",
      " 27  total_charges                         7043 non-null   object \n",
      "dtypes: float64(1), int64(5), object(1), uint8(21)\n",
      "memory usage: 529.7+ KB\n"
     ]
    }
   ],
   "source": [
    "df.info()"
   ]
  },
  {
   "cell_type": "markdown",
   "id": "a4ae0388",
   "metadata": {},
   "source": [
    "The total_charges is still an object and needs to be converted"
   ]
  },
  {
   "cell_type": "code",
   "execution_count": 60,
   "id": "76e515a2",
   "metadata": {},
   "outputs": [
    {
     "data": {
      "text/plain": [
       "gender_Male                                 0\n",
       "partner_Yes                                 1\n",
       "dependents_Yes                              1\n",
       "phone_service_Yes                           0\n",
       "multiple_lines_No phone service             1\n",
       "multiple_lines_Yes                          0\n",
       "tech_support_No internet service            0\n",
       "tech_support_Yes                            1\n",
       "streaming_tv_No internet service            0\n",
       "streaming_tv_Yes                            1\n",
       "streaming_movies_No internet service        0\n",
       "streaming_movies_Yes                        0\n",
       "paperless_billing_Yes                       0\n",
       "churn_Yes                                   0\n",
       "internet_service_type_Fiber optic           0\n",
       "internet_service_type_None                  0\n",
       "payment_type_Credit card (automatic)        1\n",
       "payment_type_Electronic check               0\n",
       "payment_type_Mailed check                   0\n",
       "contract_type_One year                      0\n",
       "contract_type_Two year                      1\n",
       "contract_type_id                            3\n",
       "payment_type_id                             4\n",
       "internet_service_type_id                    1\n",
       "senior_citizen                              0\n",
       "tenure                                      0\n",
       "monthly_charges                         56.05\n",
       "total_charges                                \n",
       "Name: 945, dtype: object"
      ]
     },
     "execution_count": 60,
     "metadata": {},
     "output_type": "execute_result"
    }
   ],
   "source": [
    "df.iloc[945]"
   ]
  },
  {
   "cell_type": "code",
   "execution_count": 61,
   "id": "3733868b",
   "metadata": {},
   "outputs": [],
   "source": [
    "df = df.drop(df.index[945])"
   ]
  },
  {
   "cell_type": "code",
   "execution_count": 62,
   "id": "b12ac3bf",
   "metadata": {},
   "outputs": [
    {
     "name": "stdout",
     "output_type": "stream",
     "text": [
      "<class 'pandas.core.frame.DataFrame'>\n",
      "Int64Index: 7042 entries, 0 to 7042\n",
      "Data columns (total 28 columns):\n",
      " #   Column                                Non-Null Count  Dtype  \n",
      "---  ------                                --------------  -----  \n",
      " 0   gender_Male                           7042 non-null   uint8  \n",
      " 1   partner_Yes                           7042 non-null   uint8  \n",
      " 2   dependents_Yes                        7042 non-null   uint8  \n",
      " 3   phone_service_Yes                     7042 non-null   uint8  \n",
      " 4   multiple_lines_No phone service       7042 non-null   uint8  \n",
      " 5   multiple_lines_Yes                    7042 non-null   uint8  \n",
      " 6   tech_support_No internet service      7042 non-null   uint8  \n",
      " 7   tech_support_Yes                      7042 non-null   uint8  \n",
      " 8   streaming_tv_No internet service      7042 non-null   uint8  \n",
      " 9   streaming_tv_Yes                      7042 non-null   uint8  \n",
      " 10  streaming_movies_No internet service  7042 non-null   uint8  \n",
      " 11  streaming_movies_Yes                  7042 non-null   uint8  \n",
      " 12  paperless_billing_Yes                 7042 non-null   uint8  \n",
      " 13  churn_Yes                             7042 non-null   uint8  \n",
      " 14  internet_service_type_Fiber optic     7042 non-null   uint8  \n",
      " 15  internet_service_type_None            7042 non-null   uint8  \n",
      " 16  payment_type_Credit card (automatic)  7042 non-null   uint8  \n",
      " 17  payment_type_Electronic check         7042 non-null   uint8  \n",
      " 18  payment_type_Mailed check             7042 non-null   uint8  \n",
      " 19  contract_type_One year                7042 non-null   uint8  \n",
      " 20  contract_type_Two year                7042 non-null   uint8  \n",
      " 21  contract_type_id                      7042 non-null   int64  \n",
      " 22  payment_type_id                       7042 non-null   int64  \n",
      " 23  internet_service_type_id              7042 non-null   int64  \n",
      " 24  senior_citizen                        7042 non-null   int64  \n",
      " 25  tenure                                7042 non-null   int64  \n",
      " 26  monthly_charges                       7042 non-null   float64\n",
      " 27  total_charges                         7042 non-null   object \n",
      "dtypes: float64(1), int64(5), object(1), uint8(21)\n",
      "memory usage: 584.5+ KB\n"
     ]
    }
   ],
   "source": [
    "df.info()"
   ]
  },
  {
   "cell_type": "code",
   "execution_count": 63,
   "id": "cb1fe663",
   "metadata": {},
   "outputs": [
    {
     "data": {
      "text/plain": [
       "0        593.30\n",
       "1        542.40\n",
       "2        280.85\n",
       "3       1237.85\n",
       "4        267.40\n",
       "         ...   \n",
       "7038     742.90\n",
       "7039    1873.70\n",
       "7040      92.75\n",
       "7041    4627.65\n",
       "7042    3707.60\n",
       "Name: total_charges, Length: 7042, dtype: float64"
      ]
     },
     "execution_count": 63,
     "metadata": {},
     "output_type": "execute_result"
    }
   ],
   "source": [
    "df['total_charges'] = pd.to_numeric(df['total_charges'], errors='coerce')\n",
    "df.total_charges"
   ]
  },
  {
   "cell_type": "code",
   "execution_count": 64,
   "id": "9d586877",
   "metadata": {},
   "outputs": [
    {
     "data": {
      "text/plain": [
       "10"
      ]
     },
     "execution_count": 64,
     "metadata": {},
     "output_type": "execute_result"
    }
   ],
   "source": [
    "df.total_charges.isna().sum()"
   ]
  },
  {
   "cell_type": "markdown",
   "id": "2e01cde7",
   "metadata": {},
   "source": [
    "After changing data type of total_charges to float, there are 10 null values (11 before dropping first null row). All of these null values are in rows with new customers (represented by 0 tenure). Brand new customers would not have any significance to determine churn so dropping these rows."
   ]
  },
  {
   "cell_type": "code",
   "execution_count": 65,
   "id": "a70177fb",
   "metadata": {},
   "outputs": [],
   "source": [
    "df.dropna(subset=['total_charges'], inplace=True)"
   ]
  },
  {
   "cell_type": "code",
   "execution_count": 66,
   "id": "4b6e45ae",
   "metadata": {},
   "outputs": [
    {
     "data": {
      "text/plain": [
       "gender_Male                             0\n",
       "partner_Yes                             0\n",
       "dependents_Yes                          0\n",
       "phone_service_Yes                       0\n",
       "multiple_lines_No phone service         0\n",
       "multiple_lines_Yes                      0\n",
       "tech_support_No internet service        0\n",
       "tech_support_Yes                        0\n",
       "streaming_tv_No internet service        0\n",
       "streaming_tv_Yes                        0\n",
       "streaming_movies_No internet service    0\n",
       "streaming_movies_Yes                    0\n",
       "paperless_billing_Yes                   0\n",
       "churn_Yes                               0\n",
       "internet_service_type_Fiber optic       0\n",
       "internet_service_type_None              0\n",
       "payment_type_Credit card (automatic)    0\n",
       "payment_type_Electronic check           0\n",
       "payment_type_Mailed check               0\n",
       "contract_type_One year                  0\n",
       "contract_type_Two year                  0\n",
       "contract_type_id                        0\n",
       "payment_type_id                         0\n",
       "internet_service_type_id                0\n",
       "senior_citizen                          0\n",
       "tenure                                  0\n",
       "monthly_charges                         0\n",
       "total_charges                           0\n",
       "dtype: int64"
      ]
     },
     "execution_count": 66,
     "metadata": {},
     "output_type": "execute_result"
    }
   ],
   "source": [
    "df.isna().sum()"
   ]
  },
  {
   "cell_type": "code",
   "execution_count": 67,
   "id": "aeeb934c",
   "metadata": {},
   "outputs": [
    {
     "name": "stdout",
     "output_type": "stream",
     "text": [
      "<class 'pandas.core.frame.DataFrame'>\n",
      "Int64Index: 7032 entries, 0 to 7042\n",
      "Data columns (total 28 columns):\n",
      " #   Column                                Non-Null Count  Dtype  \n",
      "---  ------                                --------------  -----  \n",
      " 0   gender_Male                           7032 non-null   uint8  \n",
      " 1   partner_Yes                           7032 non-null   uint8  \n",
      " 2   dependents_Yes                        7032 non-null   uint8  \n",
      " 3   phone_service_Yes                     7032 non-null   uint8  \n",
      " 4   multiple_lines_No phone service       7032 non-null   uint8  \n",
      " 5   multiple_lines_Yes                    7032 non-null   uint8  \n",
      " 6   tech_support_No internet service      7032 non-null   uint8  \n",
      " 7   tech_support_Yes                      7032 non-null   uint8  \n",
      " 8   streaming_tv_No internet service      7032 non-null   uint8  \n",
      " 9   streaming_tv_Yes                      7032 non-null   uint8  \n",
      " 10  streaming_movies_No internet service  7032 non-null   uint8  \n",
      " 11  streaming_movies_Yes                  7032 non-null   uint8  \n",
      " 12  paperless_billing_Yes                 7032 non-null   uint8  \n",
      " 13  churn_Yes                             7032 non-null   uint8  \n",
      " 14  internet_service_type_Fiber optic     7032 non-null   uint8  \n",
      " 15  internet_service_type_None            7032 non-null   uint8  \n",
      " 16  payment_type_Credit card (automatic)  7032 non-null   uint8  \n",
      " 17  payment_type_Electronic check         7032 non-null   uint8  \n",
      " 18  payment_type_Mailed check             7032 non-null   uint8  \n",
      " 19  contract_type_One year                7032 non-null   uint8  \n",
      " 20  contract_type_Two year                7032 non-null   uint8  \n",
      " 21  contract_type_id                      7032 non-null   int64  \n",
      " 22  payment_type_id                       7032 non-null   int64  \n",
      " 23  internet_service_type_id              7032 non-null   int64  \n",
      " 24  senior_citizen                        7032 non-null   int64  \n",
      " 25  tenure                                7032 non-null   int64  \n",
      " 26  monthly_charges                       7032 non-null   float64\n",
      " 27  total_charges                         7032 non-null   float64\n",
      "dtypes: float64(2), int64(5), uint8(21)\n",
      "memory usage: 583.7 KB\n"
     ]
    }
   ],
   "source": [
    "df.info()"
   ]
  },
  {
   "cell_type": "markdown",
   "id": "f8571f6c",
   "metadata": {},
   "source": [
    "use train_validate_test_split function to split the data into three dataframes:\n",
    "\n",
    "train- .70 * .80= 56% of the original dataset <br>\n",
    "validate- .30 * .80= 24% of the original dataset <br>\n",
    "test- 20% of the original dataset <br>\n",
    "\n",
    "Stratify the target variable ('churn_Yes') to ensure subsets proportionally represent the original dataframe <br>\n",
    "\n",
    "Note: churn_Yes - <br>\n",
    "    1 = has churned <br>\n",
    "    0 = has no churned"
   ]
  },
  {
   "cell_type": "code",
   "execution_count": 68,
   "id": "eb8dad58",
   "metadata": {},
   "outputs": [],
   "source": [
    "def train_validate_test_split(df, target, seed=123):\n",
    "    train_validate, test = train_test_split(df, test_size=0.2, \n",
    "                                            random_state=seed,\n",
    "                                            stratify=df[target])\n",
    "    train, validate = train_test_split(train_validate, test_size=0.3,\n",
    "                                       random_state=seed,\n",
    "                                       stratify=train_validate[target])\n",
    "        \n",
    "    return train, validate, test"
   ]
  },
  {
   "cell_type": "code",
   "execution_count": 69,
   "id": "b9c17999",
   "metadata": {},
   "outputs": [
    {
     "data": {
      "text/plain": [
       "((3937, 28), (1688, 28), (1407, 28))"
      ]
     },
     "execution_count": 69,
     "metadata": {},
     "output_type": "execute_result"
    }
   ],
   "source": [
    "train, validate, test = train_validate_test_split(df, target='churn_Yes', seed=123)\n",
    "train.shape, validate.shape, test.shape"
   ]
  },
  {
   "cell_type": "code",
   "execution_count": 70,
   "id": "67f16b28",
   "metadata": {},
   "outputs": [
    {
     "name": "stdout",
     "output_type": "stream",
     "text": [
      "<class 'pandas.core.frame.DataFrame'>\n",
      "Int64Index: 3937 entries, 5919 to 4192\n",
      "Data columns (total 28 columns):\n",
      " #   Column                                Non-Null Count  Dtype  \n",
      "---  ------                                --------------  -----  \n",
      " 0   gender_Male                           3937 non-null   uint8  \n",
      " 1   partner_Yes                           3937 non-null   uint8  \n",
      " 2   dependents_Yes                        3937 non-null   uint8  \n",
      " 3   phone_service_Yes                     3937 non-null   uint8  \n",
      " 4   multiple_lines_No phone service       3937 non-null   uint8  \n",
      " 5   multiple_lines_Yes                    3937 non-null   uint8  \n",
      " 6   tech_support_No internet service      3937 non-null   uint8  \n",
      " 7   tech_support_Yes                      3937 non-null   uint8  \n",
      " 8   streaming_tv_No internet service      3937 non-null   uint8  \n",
      " 9   streaming_tv_Yes                      3937 non-null   uint8  \n",
      " 10  streaming_movies_No internet service  3937 non-null   uint8  \n",
      " 11  streaming_movies_Yes                  3937 non-null   uint8  \n",
      " 12  paperless_billing_Yes                 3937 non-null   uint8  \n",
      " 13  churn_Yes                             3937 non-null   uint8  \n",
      " 14  internet_service_type_Fiber optic     3937 non-null   uint8  \n",
      " 15  internet_service_type_None            3937 non-null   uint8  \n",
      " 16  payment_type_Credit card (automatic)  3937 non-null   uint8  \n",
      " 17  payment_type_Electronic check         3937 non-null   uint8  \n",
      " 18  payment_type_Mailed check             3937 non-null   uint8  \n",
      " 19  contract_type_One year                3937 non-null   uint8  \n",
      " 20  contract_type_Two year                3937 non-null   uint8  \n",
      " 21  contract_type_id                      3937 non-null   int64  \n",
      " 22  payment_type_id                       3937 non-null   int64  \n",
      " 23  internet_service_type_id              3937 non-null   int64  \n",
      " 24  senior_citizen                        3937 non-null   int64  \n",
      " 25  tenure                                3937 non-null   int64  \n",
      " 26  monthly_charges                       3937 non-null   float64\n",
      " 27  total_charges                         3937 non-null   float64\n",
      "dtypes: float64(2), int64(5), uint8(21)\n",
      "memory usage: 326.8 KB\n"
     ]
    }
   ],
   "source": [
    "train.info()"
   ]
  },
  {
   "cell_type": "code",
   "execution_count": 71,
   "id": "3510a16d",
   "metadata": {},
   "outputs": [
    {
     "data": {
      "text/plain": [
       "1    2165\n",
       "3     957\n",
       "2     815\n",
       "Name: contract_type_id, dtype: int64"
      ]
     },
     "execution_count": 71,
     "metadata": {},
     "output_type": "execute_result"
    }
   ],
   "source": [
    "train.contract_type_id.value_counts()"
   ]
  },
  {
   "cell_type": "code",
   "execution_count": 72,
   "id": "72dd9396",
   "metadata": {},
   "outputs": [
    {
     "data": {
      "text/plain": [
       "0.7343154686309372"
      ]
     },
     "execution_count": 72,
     "metadata": {},
     "output_type": "execute_result"
    }
   ],
   "source": [
    "baseline_accuracy = ((train.churn_Yes == 0).sum() / len(train.churn_Yes))\n",
    "baseline_accuracy\n",
    "# 73.4% of customers do not churn on baseline accuracy"
   ]
  },
  {
   "cell_type": "code",
   "execution_count": 73,
   "id": "f4c6c8ed",
   "metadata": {},
   "outputs": [],
   "source": [
    "X_train = train.drop(columns=['churn_Yes'])\n",
    "y_train = train.churn_Yes\n",
    "\n",
    "X_validate = validate.drop(columns=['churn_Yes'])\n",
    "y_validate = validate.churn_Yes\n",
    "\n",
    "X_test = test.drop(columns=['churn_Yes'])\n",
    "y_test = test.churn_Yes"
   ]
  },
  {
   "cell_type": "markdown",
   "id": "f96eae7c",
   "metadata": {},
   "source": [
    "First decision tree max_depth = 2. This will show 2 levels of variables with the top and then second most statisically significant predictors of churn. This is a starting point and will be necessary to increase the max depth to determine the appropriate amount of levels without overfitting."
   ]
  },
  {
   "cell_type": "code",
   "execution_count": 74,
   "id": "48c0010e",
   "metadata": {},
   "outputs": [
    {
     "data": {
      "text/plain": [
       "[Text(362.7, 317.09999999999997, 'contract_type_id <= 1.5\\ngini = 0.39\\nsamples = 3937\\nvalue = [2891, 1046]\\nclass = 0'),\n",
       " Text(181.35, 190.26, 'internet_service_type_Fiber optic <= 0.5\\ngini = 0.49\\nsamples = 2165\\nvalue = [1238, 927]\\nclass = 0'),\n",
       " Text(90.675, 63.420000000000016, 'gini = 0.394\\nsamples = 999\\nvalue = [730, 269]\\nclass = 0'),\n",
       " Text(272.025, 63.420000000000016, 'gini = 0.492\\nsamples = 1166\\nvalue = [508, 658]\\nclass = 1'),\n",
       " Text(544.05, 190.26, 'monthly_charges <= 93.775\\ngini = 0.125\\nsamples = 1772\\nvalue = [1653, 119]\\nclass = 0'),\n",
       " Text(453.375, 63.420000000000016, 'gini = 0.072\\nsamples = 1328\\nvalue = [1278, 50]\\nclass = 0'),\n",
       " Text(634.725, 63.420000000000016, 'gini = 0.263\\nsamples = 444\\nvalue = [375, 69]\\nclass = 0')]"
      ]
     },
     "execution_count": 74,
     "metadata": {},
     "output_type": "execute_result"
    },
    {
     "data": {
      "image/png": "[encoded data removed]",
      "text/plain": [
       "<Figure size 936x504 with 1 Axes>"
      ]
     },
     "metadata": {
      "needs_background": "light"
     },
     "output_type": "display_data"
    }
   ],
   "source": [
    "clf_1 = DecisionTreeClassifier(max_depth=2, random_state=123)\n",
    "clf_1 = clf_1.fit(X_train, y_train)\n",
    "plt.figure(figsize=(13, 7))\n",
    "plot_tree(clf_1, feature_names=X_train.columns, class_names = clf.classes_.astype(str), rounded=True)"
   ]
  },
  {
   "cell_type": "code",
   "execution_count": 75,
   "id": "1f1161f7",
   "metadata": {},
   "outputs": [
    {
     "data": {
      "text/plain": [
       "1    2165\n",
       "3     957\n",
       "2     815\n",
       "Name: contract_type_id, dtype: int64"
      ]
     },
     "execution_count": 75,
     "metadata": {},
     "output_type": "execute_result"
    }
   ],
   "source": [
    "train.contract_type_id.value_counts()"
   ]
  },
  {
   "cell_type": "markdown",
   "id": "04416cec",
   "metadata": {},
   "source": [
    "Based on the decision tree, the contract type is the top predictor of churn. <br>\n",
    "\n",
    "contract_type_id code for numeric values: <br>\n",
    "    1 month-to-month contract <br>\n",
    "    2 one year contract <br>\n",
    "    3 two year contract <br>\n",
    "\n",
    "In value = [ ], the left value indictes NOT CHURNED and the right value indicated CHURNED"
   ]
  },
  {
   "cell_type": "code",
   "execution_count": 76,
   "id": "64f8a119",
   "metadata": {},
   "outputs": [
    {
     "data": {
      "text/plain": [
       "(array([0, 0, 0, 0, 0], dtype=uint8),\n",
       " array([[0.9623494 , 0.0376506 ],\n",
       "        [0.9623494 , 0.0376506 ],\n",
       "        [0.73073073, 0.26926927],\n",
       "        [0.73073073, 0.26926927],\n",
       "        [0.9623494 , 0.0376506 ]]))"
      ]
     },
     "execution_count": 76,
     "metadata": {},
     "output_type": "execute_result"
    }
   ],
   "source": [
    "y_pred = clf_1.predict(X_train)\n",
    "y_pred_proba = clf_1.predict_proba(X_train)\n",
    "\n",
    "y_pred[0:5], y_pred_proba[0:5]"
   ]
  },
  {
   "cell_type": "code",
   "execution_count": 77,
   "id": "4d58eebd",
   "metadata": {},
   "outputs": [
    {
     "name": "stdout",
     "output_type": "stream",
     "text": [
      "Accuracy of Decision Tree classifier on training set: 0.77\n"
     ]
    }
   ],
   "source": [
    "print('Accuracy of Decision Tree classifier on training set: {:.2f}'\n",
    "      .format(clf_1.score(X_train, y_train)))"
   ]
  },
  {
   "cell_type": "markdown",
   "id": "fc627076",
   "metadata": {},
   "source": [
    "Accurary of this decision tree on train subset is 77%. It'd be ideal to have greater accuracy without overfitting model which may be possible with increasing max depth."
   ]
  },
  {
   "cell_type": "code",
   "execution_count": 78,
   "id": "a56b0ad6",
   "metadata": {},
   "outputs": [
    {
     "data": {
      "text/plain": [
       "array([[2383,  508],\n",
       "       [ 388,  658]])"
      ]
     },
     "execution_count": 78,
     "metadata": {},
     "output_type": "execute_result"
    }
   ],
   "source": [
    "confusion_matrix(y_train, y_pred)"
   ]
  },
  {
   "cell_type": "code",
   "execution_count": 79,
   "id": "557655c7",
   "metadata": {},
   "outputs": [
    {
     "name": "stdout",
     "output_type": "stream",
     "text": [
      "              precision    recall  f1-score   support\n",
      "\n",
      "           0       0.86      0.82      0.84      2891\n",
      "           1       0.56      0.63      0.59      1046\n",
      "\n",
      "    accuracy                           0.77      3937\n",
      "   macro avg       0.71      0.73      0.72      3937\n",
      "weighted avg       0.78      0.77      0.78      3937\n",
      "\n"
     ]
    }
   ],
   "source": [
    "print(classification_report(y_train, y_pred))"
   ]
  },
  {
   "cell_type": "code",
   "execution_count": 80,
   "id": "e3a816f6",
   "metadata": {},
   "outputs": [
    {
     "name": "stdout",
     "output_type": "stream",
     "text": [
      "Accuracy of Decision Tree classifier on validate set: 0.74\n"
     ]
    }
   ],
   "source": [
    "print('Accuracy of Decision Tree classifier on validate set: {:.2f}'\n",
    "     .format(clf_1.score(X_validate, y_validate)))"
   ]
  },
  {
   "cell_type": "code",
   "execution_count": 81,
   "id": "5e0304d9",
   "metadata": {},
   "outputs": [
    {
     "name": "stdout",
     "output_type": "stream",
     "text": [
      "              precision    recall  f1-score   support\n",
      "\n",
      "           0       0.85      0.79      0.82      1239\n",
      "           1       0.51      0.61      0.55       449\n",
      "\n",
      "    accuracy                           0.74      1688\n",
      "   macro avg       0.68      0.70      0.68      1688\n",
      "weighted avg       0.76      0.74      0.75      1688\n",
      "\n"
     ]
    }
   ],
   "source": [
    "y_pred = clf_1.predict(X_validate)\n",
    "\n",
    "print(classification_report(y_validate, y_pred))"
   ]
  },
  {
   "cell_type": "markdown",
   "id": "d1a197b3",
   "metadata": {},
   "source": [
    "### Model 2"
   ]
  },
  {
   "cell_type": "code",
   "execution_count": 82,
   "id": "00d13b6f",
   "metadata": {},
   "outputs": [
    {
     "data": {
      "text/plain": [
       "[Text(837.0, 475.65000000000003, 'contract_type_id <= 1.5\\ngini = 0.39\\nsamples = 3937\\nvalue = [2891, 1046]\\nclass = 0'),\n",
       " Text(418.5, 339.75, 'internet_service_type_Fiber optic <= 0.5\\ngini = 0.49\\nsamples = 2165\\nvalue = [1238, 927]\\nclass = 0'),\n",
       " Text(209.25, 203.85000000000002, 'tenure <= 5.5\\ngini = 0.394\\nsamples = 999\\nvalue = [730, 269]\\nclass = 0'),\n",
       " Text(104.625, 67.94999999999999, 'gini = 0.486\\nsamples = 439\\nvalue = [256, 183]\\nclass = 0'),\n",
       " Text(313.875, 67.94999999999999, 'gini = 0.26\\nsamples = 560\\nvalue = [474, 86]\\nclass = 0'),\n",
       " Text(627.75, 203.85000000000002, 'total_charges <= 1486.825\\ngini = 0.492\\nsamples = 1166\\nvalue = [508, 658]\\nclass = 1'),\n",
       " Text(523.125, 67.94999999999999, 'gini = 0.409\\nsamples = 587\\nvalue = [168, 419]\\nclass = 1'),\n",
       " Text(732.375, 67.94999999999999, 'gini = 0.485\\nsamples = 579\\nvalue = [340, 239]\\nclass = 0'),\n",
       " Text(1255.5, 339.75, 'monthly_charges <= 93.775\\ngini = 0.125\\nsamples = 1772\\nvalue = [1653, 119]\\nclass = 0'),\n",
       " Text(1046.25, 203.85000000000002, 'contract_type_One year <= 0.5\\ngini = 0.072\\nsamples = 1328\\nvalue = [1278, 50]\\nclass = 0'),\n",
       " Text(941.625, 67.94999999999999, 'gini = 0.032\\nsamples = 741\\nvalue = [729, 12]\\nclass = 0'),\n",
       " Text(1150.875, 67.94999999999999, 'gini = 0.121\\nsamples = 587\\nvalue = [549, 38]\\nclass = 0'),\n",
       " Text(1464.75, 203.85000000000002, 'total_charges <= 6586.2\\ngini = 0.263\\nsamples = 444\\nvalue = [375, 69]\\nclass = 0'),\n",
       " Text(1360.125, 67.94999999999999, 'gini = 0.353\\nsamples = 214\\nvalue = [165, 49]\\nclass = 0'),\n",
       " Text(1569.375, 67.94999999999999, 'gini = 0.159\\nsamples = 230\\nvalue = [210, 20]\\nclass = 0')]"
      ]
     },
     "execution_count": 82,
     "metadata": {},
     "output_type": "execute_result"
    },
    {
     "data": {
      "image/png": "[encoded data removed]",
      "text/plain": [
       "<Figure size 2160x720 with 1 Axes>"
      ]
     },
     "metadata": {
      "needs_background": "light"
     },
     "output_type": "display_data"
    }
   ],
   "source": [
    "clf_2 = DecisionTreeClassifier(max_depth=3, random_state=123)\n",
    "clf_2 = clf_2.fit(X_train, y_train)\n",
    "plt.figure(figsize=(30, 10))\n",
    "plot_tree(clf_2, feature_names=X_train.columns, class_names = clf.classes_.astype(str), rounded=True)"
   ]
  },
  {
   "cell_type": "code",
   "execution_count": 83,
   "id": "7e65ff1f",
   "metadata": {},
   "outputs": [
    {
     "data": {
      "text/plain": [
       "(array([0, 0, 0, 0, 0], dtype=uint8),\n",
       " array([[0.93526405, 0.06473595],\n",
       "        [0.93526405, 0.06473595],\n",
       "        [0.84642857, 0.15357143],\n",
       "        [0.58314351, 0.41685649],\n",
       "        [0.93526405, 0.06473595]]))"
      ]
     },
     "execution_count": 83,
     "metadata": {},
     "output_type": "execute_result"
    }
   ],
   "source": [
    "y_pred = clf_2.predict(X_train)\n",
    "y_pred_proba = clf_2.predict_proba(X_train)\n",
    "\n",
    "y_pred[0:5], y_pred_proba[0:5]"
   ]
  },
  {
   "cell_type": "code",
   "execution_count": 84,
   "id": "1e82485a",
   "metadata": {},
   "outputs": [
    {
     "name": "stdout",
     "output_type": "stream",
     "text": [
      "Accuracy of Decision Tree classifier on training set: 0.80\n"
     ]
    }
   ],
   "source": [
    "print('Accuracy of Decision Tree classifier on training set: {:.2f}'\n",
    "      .format(clf_2.score(X_train, y_train)))"
   ]
  },
  {
   "cell_type": "code",
   "execution_count": 85,
   "id": "2cb2e1ef",
   "metadata": {},
   "outputs": [
    {
     "name": "stdout",
     "output_type": "stream",
     "text": [
      "              precision    recall  f1-score   support\n",
      "\n",
      "           0       0.81      0.94      0.87      2891\n",
      "           1       0.71      0.40      0.51      1046\n",
      "\n",
      "    accuracy                           0.80      3937\n",
      "   macro avg       0.76      0.67      0.69      3937\n",
      "weighted avg       0.79      0.80      0.78      3937\n",
      "\n"
     ]
    }
   ],
   "source": [
    "print(classification_report(y_train, y_pred))"
   ]
  },
  {
   "cell_type": "code",
   "execution_count": 86,
   "id": "b7e78553",
   "metadata": {},
   "outputs": [
    {
     "name": "stdout",
     "output_type": "stream",
     "text": [
      "Accuracy of Decision Tree classifier on validate set: 0.77\n"
     ]
    }
   ],
   "source": [
    "print('Accuracy of Decision Tree classifier on validate set: {:.2f}'\n",
    "     .format(clf_2.score(X_validate, y_validate)))"
   ]
  },
  {
   "cell_type": "code",
   "execution_count": 87,
   "id": "47dbfdb5",
   "metadata": {},
   "outputs": [
    {
     "name": "stdout",
     "output_type": "stream",
     "text": [
      "              precision    recall  f1-score   support\n",
      "\n",
      "           0       0.80      0.91      0.86      1239\n",
      "           1       0.62      0.39      0.48       449\n",
      "\n",
      "    accuracy                           0.77      1688\n",
      "   macro avg       0.71      0.65      0.67      1688\n",
      "weighted avg       0.75      0.77      0.75      1688\n",
      "\n"
     ]
    }
   ],
   "source": [
    "y_pred = clf_2.predict(X_validate)\n",
    "\n",
    "print(classification_report(y_validate, y_pred))"
   ]
  },
  {
   "cell_type": "code",
   "execution_count": 88,
   "id": "a1635717",
   "metadata": {},
   "outputs": [],
   "source": [
    "### Model 3"
   ]
  },
  {
   "cell_type": "code",
   "execution_count": 89,
   "id": "29a574bb",
   "metadata": {},
   "outputs": [
    {
     "name": "stdout",
     "output_type": "stream",
     "text": [
      "<class 'pandas.core.frame.DataFrame'>\n",
      "Int64Index: 1688 entries, 816 to 3718\n",
      "Data columns (total 28 columns):\n",
      " #   Column                                Non-Null Count  Dtype  \n",
      "---  ------                                --------------  -----  \n",
      " 0   gender_Male                           1688 non-null   uint8  \n",
      " 1   partner_Yes                           1688 non-null   uint8  \n",
      " 2   dependents_Yes                        1688 non-null   uint8  \n",
      " 3   phone_service_Yes                     1688 non-null   uint8  \n",
      " 4   multiple_lines_No phone service       1688 non-null   uint8  \n",
      " 5   multiple_lines_Yes                    1688 non-null   uint8  \n",
      " 6   tech_support_No internet service      1688 non-null   uint8  \n",
      " 7   tech_support_Yes                      1688 non-null   uint8  \n",
      " 8   streaming_tv_No internet service      1688 non-null   uint8  \n",
      " 9   streaming_tv_Yes                      1688 non-null   uint8  \n",
      " 10  streaming_movies_No internet service  1688 non-null   uint8  \n",
      " 11  streaming_movies_Yes                  1688 non-null   uint8  \n",
      " 12  paperless_billing_Yes                 1688 non-null   uint8  \n",
      " 13  churn_Yes                             1688 non-null   uint8  \n",
      " 14  internet_service_type_Fiber optic     1688 non-null   uint8  \n",
      " 15  internet_service_type_None            1688 non-null   uint8  \n",
      " 16  payment_type_Credit card (automatic)  1688 non-null   uint8  \n",
      " 17  payment_type_Electronic check         1688 non-null   uint8  \n",
      " 18  payment_type_Mailed check             1688 non-null   uint8  \n",
      " 19  contract_type_One year                1688 non-null   uint8  \n",
      " 20  contract_type_Two year                1688 non-null   uint8  \n",
      " 21  contract_type_id                      1688 non-null   int64  \n",
      " 22  payment_type_id                       1688 non-null   int64  \n",
      " 23  internet_service_type_id              1688 non-null   int64  \n",
      " 24  senior_citizen                        1688 non-null   int64  \n",
      " 25  tenure                                1688 non-null   int64  \n",
      " 26  monthly_charges                       1688 non-null   float64\n",
      " 27  total_charges                         1688 non-null   float64\n",
      "dtypes: float64(2), int64(5), uint8(21)\n",
      "memory usage: 140.1 KB\n"
     ]
    }
   ],
   "source": [
    "validate.info()"
   ]
  },
  {
   "cell_type": "code",
   "execution_count": 90,
   "id": "3c5e61e7",
   "metadata": {},
   "outputs": [
    {
     "data": {
      "text/plain": [
       "[Text(1534.5, 489.24, 'contract_type_id <= 1.5\\ngini = 0.39\\nsamples = 3937\\nvalue = [2891, 1046]\\nclass = 0'),\n",
       " Text(767.25, 380.52000000000004, 'internet_service_type_Fiber optic <= 0.5\\ngini = 0.49\\nsamples = 2165\\nvalue = [1238, 927]\\nclass = 0'),\n",
       " Text(383.625, 271.8, 'tenure <= 5.5\\ngini = 0.394\\nsamples = 999\\nvalue = [730, 269]\\nclass = 0'),\n",
       " Text(191.8125, 163.08000000000004, 'internet_service_type_id <= 2.0\\ngini = 0.486\\nsamples = 439\\nvalue = [256, 183]\\nclass = 0'),\n",
       " Text(95.90625, 54.360000000000014, 'gini = 0.5\\nsamples = 266\\nvalue = [129, 137]\\nclass = 1'),\n",
       " Text(287.71875, 54.360000000000014, 'gini = 0.39\\nsamples = 173\\nvalue = [127, 46]\\nclass = 0'),\n",
       " Text(575.4375, 163.08000000000004, 'phone_service_Yes <= 0.5\\ngini = 0.26\\nsamples = 560\\nvalue = [474, 86]\\nclass = 0'),\n",
       " Text(479.53125, 54.360000000000014, 'gini = 0.419\\nsamples = 114\\nvalue = [80, 34]\\nclass = 0'),\n",
       " Text(671.34375, 54.360000000000014, 'gini = 0.206\\nsamples = 446\\nvalue = [394, 52]\\nclass = 0'),\n",
       " Text(1150.875, 271.8, 'total_charges <= 1486.825\\ngini = 0.492\\nsamples = 1166\\nvalue = [508, 658]\\nclass = 1'),\n",
       " Text(959.0625, 163.08000000000004, 'total_charges <= 124.475\\ngini = 0.409\\nsamples = 587\\nvalue = [168, 419]\\nclass = 1'),\n",
       " Text(863.15625, 54.360000000000014, 'gini = 0.203\\nsamples = 131\\nvalue = [15, 116]\\nclass = 1'),\n",
       " Text(1054.96875, 54.360000000000014, 'gini = 0.446\\nsamples = 456\\nvalue = [153, 303]\\nclass = 1'),\n",
       " Text(1342.6875, 163.08000000000004, 'tenure <= 53.5\\ngini = 0.485\\nsamples = 579\\nvalue = [340, 239]\\nclass = 0'),\n",
       " Text(1246.78125, 54.360000000000014, 'gini = 0.495\\nsamples = 471\\nvalue = [258, 213]\\nclass = 0'),\n",
       " Text(1438.59375, 54.360000000000014, 'gini = 0.366\\nsamples = 108\\nvalue = [82, 26]\\nclass = 0'),\n",
       " Text(2301.75, 380.52000000000004, 'monthly_charges <= 93.775\\ngini = 0.125\\nsamples = 1772\\nvalue = [1653, 119]\\nclass = 0'),\n",
       " Text(1918.125, 271.8, 'contract_type_Two year <= 0.5\\ngini = 0.072\\nsamples = 1328\\nvalue = [1278, 50]\\nclass = 0'),\n",
       " Text(1726.3125, 163.08000000000004, 'streaming_movies_Yes <= 0.5\\ngini = 0.121\\nsamples = 587\\nvalue = [549, 38]\\nclass = 0'),\n",
       " Text(1630.40625, 54.360000000000014, 'gini = 0.08\\nsamples = 433\\nvalue = [415, 18]\\nclass = 0'),\n",
       " Text(1822.21875, 54.360000000000014, 'gini = 0.226\\nsamples = 154\\nvalue = [134, 20]\\nclass = 0'),\n",
       " Text(2109.9375, 163.08000000000004, 'senior_citizen <= 0.5\\ngini = 0.032\\nsamples = 741\\nvalue = [729, 12]\\nclass = 0'),\n",
       " Text(2014.03125, 54.360000000000014, 'gini = 0.023\\nsamples = 697\\nvalue = [689, 8]\\nclass = 0'),\n",
       " Text(2205.84375, 54.360000000000014, 'gini = 0.165\\nsamples = 44\\nvalue = [40, 4]\\nclass = 0'),\n",
       " Text(2685.375, 271.8, 'total_charges <= 6586.2\\ngini = 0.263\\nsamples = 444\\nvalue = [375, 69]\\nclass = 0'),\n",
       " Text(2493.5625, 163.08000000000004, 'total_charges <= 6573.475\\ngini = 0.353\\nsamples = 214\\nvalue = [165, 49]\\nclass = 0'),\n",
       " Text(2397.65625, 54.360000000000014, 'gini = 0.345\\nsamples = 212\\nvalue = [165, 47]\\nclass = 0'),\n",
       " Text(2589.46875, 54.360000000000014, 'gini = 0.0\\nsamples = 2\\nvalue = [0, 2]\\nclass = 1'),\n",
       " Text(2877.1875, 163.08000000000004, 'gender_Male <= 0.5\\ngini = 0.159\\nsamples = 230\\nvalue = [210, 20]\\nclass = 0'),\n",
       " Text(2781.28125, 54.360000000000014, 'gini = 0.036\\nsamples = 110\\nvalue = [108, 2]\\nclass = 0'),\n",
       " Text(2973.09375, 54.360000000000014, 'gini = 0.255\\nsamples = 120\\nvalue = [102, 18]\\nclass = 0')]"
      ]
     },
     "execution_count": 90,
     "metadata": {},
     "output_type": "execute_result"
    },
    {
     "data": {
      "image/png": "[encoded data removed]",
      "text/plain": [
       "<Figure size 3960x720 with 1 Axes>"
      ]
     },
     "metadata": {
      "needs_background": "light"
     },
     "output_type": "display_data"
    }
   ],
   "source": [
    "clf_3 = DecisionTreeClassifier(max_depth=4, random_state=123)\n",
    "clf_3 = clf_3.fit(X_train, y_train)\n",
    "plt.figure(figsize=(55, 10))\n",
    "plot_tree(clf_3, feature_names=X_train.columns, class_names = clf.classes_.astype(str), rounded=True)"
   ]
  },
  {
   "cell_type": "code",
   "execution_count": 91,
   "id": "e01bdb2d",
   "metadata": {},
   "outputs": [
    {
     "data": {
      "text/plain": [
       "(array([0, 0, 0, 0, 0], dtype=uint8),\n",
       " array([[0.95842956, 0.04157044],\n",
       "        [0.95842956, 0.04157044],\n",
       "        [0.88340807, 0.11659193],\n",
       "        [0.73410405, 0.26589595],\n",
       "        [0.95842956, 0.04157044]]))"
      ]
     },
     "execution_count": 91,
     "metadata": {},
     "output_type": "execute_result"
    }
   ],
   "source": [
    "y_pred = clf_3.predict(X_train)\n",
    "y_pred_proba = clf_3.predict_proba(X_train)\n",
    "\n",
    "y_pred[0:5], y_pred_proba[0:5]"
   ]
  },
  {
   "cell_type": "code",
   "execution_count": 92,
   "id": "09fc7650",
   "metadata": {},
   "outputs": [
    {
     "name": "stdout",
     "output_type": "stream",
     "text": [
      "Accuracy of Decision Tree classifier on training set: 0.80\n"
     ]
    }
   ],
   "source": [
    "print('Accuracy of Decision Tree classifier on training set: {:.2f}'\n",
    "      .format(clf_3.score(X_train, y_train)))"
   ]
  },
  {
   "cell_type": "code",
   "execution_count": 93,
   "id": "e1e12be0",
   "metadata": {},
   "outputs": [
    {
     "name": "stdout",
     "output_type": "stream",
     "text": [
      "              precision    recall  f1-score   support\n",
      "\n",
      "           0       0.84      0.90      0.87      2891\n",
      "           1       0.65      0.53      0.59      1046\n",
      "\n",
      "    accuracy                           0.80      3937\n",
      "   macro avg       0.75      0.72      0.73      3937\n",
      "weighted avg       0.79      0.80      0.79      3937\n",
      "\n"
     ]
    }
   ],
   "source": [
    "print(classification_report(y_train, y_pred))"
   ]
  },
  {
   "cell_type": "code",
   "execution_count": 94,
   "id": "4a7fcec1",
   "metadata": {},
   "outputs": [
    {
     "name": "stdout",
     "output_type": "stream",
     "text": [
      "Accuracy of Decision Tree classifier on validate set: 0.77\n"
     ]
    }
   ],
   "source": [
    "print('Accuracy of Decision Tree classifier on validate set: {:.2f}'\n",
    "     .format(clf_3.score(X_validate, y_validate)))"
   ]
  },
  {
   "cell_type": "code",
   "execution_count": 95,
   "id": "fc1e5bac",
   "metadata": {},
   "outputs": [
    {
     "name": "stdout",
     "output_type": "stream",
     "text": [
      "              precision    recall  f1-score   support\n",
      "\n",
      "           0       0.83      0.87      0.85      1239\n",
      "           1       0.58      0.51      0.54       449\n",
      "\n",
      "    accuracy                           0.77      1688\n",
      "   macro avg       0.71      0.69      0.70      1688\n",
      "weighted avg       0.76      0.77      0.77      1688\n",
      "\n"
     ]
    }
   ],
   "source": [
    "y_pred = clf_3.predict(X_validate)\n",
    "\n",
    "print(classification_report(y_validate, y_pred))"
   ]
  },
  {
   "cell_type": "code",
   "execution_count": 96,
   "id": "67a67d9c",
   "metadata": {},
   "outputs": [],
   "source": [
    "### Model 4"
   ]
  },
  {
   "cell_type": "markdown",
   "id": "e614691b",
   "metadata": {},
   "source": [
    "Model 4 max depth is 8. This may be extreme on the higher end, but will see if there is overfitting and to what degree to have a better idea of what may be an appropriate max depth"
   ]
  },
  {
   "cell_type": "code",
   "execution_count": 97,
   "id": "12ec57ad",
   "metadata": {},
   "outputs": [
    {
     "data": {
      "text/plain": [
       "[Text(1921.8570110701107, 359.38, 'contract_type_id <= 1.5\\ngini = 0.39\\nsamples = 3937\\nvalue = [2891, 1046]\\nclass = 0'),\n",
       " Text(1104.5465867158673, 317.09999999999997, 'internet_service_type_Fiber optic <= 0.5\\ngini = 0.49\\nsamples = 2165\\nvalue = [1238, 927]\\nclass = 0'),\n",
       " Text(637.0156826568266, 274.82, 'tenure <= 5.5\\ngini = 0.394\\nsamples = 999\\nvalue = [730, 269]\\nclass = 0'),\n",
       " Text(328.93173431734317, 232.53999999999996, 'internet_service_type_id <= 2.0\\ngini = 0.486\\nsamples = 439\\nvalue = [256, 183]\\nclass = 0'),\n",
       " Text(169.8708487084871, 190.26, 'senior_citizen <= 0.5\\ngini = 0.5\\nsamples = 266\\nvalue = [129, 137]\\nclass = 1'),\n",
       " Text(98.8339483394834, 147.97999999999996, 'monthly_charges <= 60.625\\ngini = 0.5\\nsamples = 238\\nvalue = [122, 116]\\nclass = 0'),\n",
       " Text(49.4169741697417, 105.69999999999999, 'paperless_billing_Yes <= 0.5\\ngini = 0.5\\nsamples = 214\\nvalue = [104, 110]\\nclass = 1'),\n",
       " Text(24.70848708487085, 63.41999999999996, 'monthly_charges <= 24.725\\ngini = 0.489\\nsamples = 103\\nvalue = [59, 44]\\nclass = 0'),\n",
       " Text(12.354243542435425, 21.139999999999986, 'gini = 0.0\\nsamples = 7\\nvalue = [7, 0]\\nclass = 0'),\n",
       " Text(37.06273062730627, 21.139999999999986, 'gini = 0.497\\nsamples = 96\\nvalue = [52, 44]\\nclass = 0'),\n",
       " Text(74.12546125461255, 63.41999999999996, 'payment_type_id <= 2.5\\ngini = 0.482\\nsamples = 111\\nvalue = [45, 66]\\nclass = 1'),\n",
       " Text(61.771217712177126, 21.139999999999986, 'gini = 0.461\\nsamples = 97\\nvalue = [35, 62]\\nclass = 1'),\n",
       " Text(86.47970479704797, 21.139999999999986, 'gini = 0.408\\nsamples = 14\\nvalue = [10, 4]\\nclass = 0'),\n",
       " Text(148.2509225092251, 105.69999999999999, 'total_charges <= 255.675\\ngini = 0.375\\nsamples = 24\\nvalue = [18, 6]\\nclass = 0'),\n",
       " Text(123.54243542435425, 63.41999999999996, 'payment_type_Mailed check <= 0.5\\ngini = 0.308\\nsamples = 21\\nvalue = [17, 4]\\nclass = 0'),\n",
       " Text(111.18819188191883, 21.139999999999986, 'gini = 0.219\\nsamples = 16\\nvalue = [14, 2]\\nclass = 0'),\n",
       " Text(135.89667896678966, 21.139999999999986, 'gini = 0.48\\nsamples = 5\\nvalue = [3, 2]\\nclass = 0'),\n",
       " Text(172.95940959409594, 63.41999999999996, 'payment_type_Electronic check <= 0.5\\ngini = 0.444\\nsamples = 3\\nvalue = [1, 2]\\nclass = 1'),\n",
       " Text(160.60516605166052, 21.139999999999986, 'gini = 0.0\\nsamples = 2\\nvalue = [0, 2]\\nclass = 1'),\n",
       " Text(185.31365313653137, 21.139999999999986, 'gini = 0.0\\nsamples = 1\\nvalue = [1, 0]\\nclass = 0'),\n",
       " Text(240.9077490774908, 147.97999999999996, 'monthly_charges <= 45.15\\ngini = 0.375\\nsamples = 28\\nvalue = [7, 21]\\nclass = 1'),\n",
       " Text(210.02214022140222, 105.69999999999999, 'partner_Yes <= 0.5\\ngini = 0.208\\nsamples = 17\\nvalue = [2, 15]\\nclass = 1'),\n",
       " Text(197.6678966789668, 63.41999999999996, 'gini = 0.0\\nsamples = 15\\nvalue = [0, 15]\\nclass = 1'),\n",
       " Text(222.37638376383765, 63.41999999999996, 'gini = 0.0\\nsamples = 2\\nvalue = [2, 0]\\nclass = 0'),\n",
       " Text(271.79335793357933, 105.69999999999999, 'monthly_charges <= 50.05\\ngini = 0.496\\nsamples = 11\\nvalue = [5, 6]\\nclass = 1'),\n",
       " Text(247.0848708487085, 63.41999999999996, 'gender_Male <= 0.5\\ngini = 0.32\\nsamples = 5\\nvalue = [4, 1]\\nclass = 0'),\n",
       " Text(234.73062730627308, 21.139999999999986, 'gini = 0.0\\nsamples = 1\\nvalue = [0, 1]\\nclass = 1'),\n",
       " Text(259.4391143911439, 21.139999999999986, 'gini = 0.0\\nsamples = 4\\nvalue = [4, 0]\\nclass = 0'),\n",
       " Text(296.5018450184502, 63.41999999999996, 'multiple_lines_Yes <= 0.5\\ngini = 0.278\\nsamples = 6\\nvalue = [1, 5]\\nclass = 1'),\n",
       " Text(284.14760147601476, 21.139999999999986, 'gini = 0.0\\nsamples = 5\\nvalue = [0, 5]\\nclass = 1'),\n",
       " Text(308.8560885608856, 21.139999999999986, 'gini = 0.0\\nsamples = 1\\nvalue = [1, 0]\\nclass = 0'),\n",
       " Text(487.99261992619927, 190.26, 'total_charges <= 20.225\\ngini = 0.39\\nsamples = 173\\nvalue = [127, 46]\\nclass = 0'),\n",
       " Text(413.8671586715867, 147.97999999999996, 'monthly_charges <= 19.425\\ngini = 0.484\\nsamples = 68\\nvalue = [40, 28]\\nclass = 0'),\n",
       " Text(370.62730627306274, 105.69999999999999, 'total_charges <= 18.875\\ngini = 0.245\\nsamples = 14\\nvalue = [12, 2]\\nclass = 0'),\n",
       " Text(345.9188191881919, 63.41999999999996, 'gender_Male <= 0.5\\ngini = 0.5\\nsamples = 2\\nvalue = [1, 1]\\nclass = 0'),\n",
       " Text(333.56457564575646, 21.139999999999986, 'gini = 0.0\\nsamples = 1\\nvalue = [1, 0]\\nclass = 0'),\n",
       " Text(358.2730627306273, 21.139999999999986, 'gini = 0.0\\nsamples = 1\\nvalue = [0, 1]\\nclass = 1'),\n",
       " Text(395.3357933579336, 63.41999999999996, 'payment_type_Electronic check <= 0.5\\ngini = 0.153\\nsamples = 12\\nvalue = [11, 1]\\nclass = 0'),\n",
       " Text(382.98154981549817, 21.139999999999986, 'gini = 0.0\\nsamples = 9\\nvalue = [9, 0]\\nclass = 0'),\n",
       " Text(407.690036900369, 21.139999999999986, 'gini = 0.444\\nsamples = 3\\nvalue = [2, 1]\\nclass = 0'),\n",
       " Text(457.10701107011073, 105.69999999999999, 'senior_citizen <= 0.5\\ngini = 0.499\\nsamples = 54\\nvalue = [28, 26]\\nclass = 0'),\n",
       " Text(444.7527675276753, 63.41999999999996, 'total_charges <= 20.075\\ngini = 0.497\\nsamples = 52\\nvalue = [28, 24]\\nclass = 0'),\n",
       " Text(432.3985239852399, 21.139999999999986, 'gini = 0.478\\nsamples = 38\\nvalue = [23, 15]\\nclass = 0'),\n",
       " Text(457.10701107011073, 21.139999999999986, 'gini = 0.459\\nsamples = 14\\nvalue = [5, 9]\\nclass = 1'),\n",
       " Text(469.46125461254616, 63.41999999999996, 'gini = 0.0\\nsamples = 2\\nvalue = [0, 2]\\nclass = 1'),\n",
       " Text(562.1180811808118, 147.97999999999996, 'total_charges <= 107.55\\ngini = 0.284\\nsamples = 105\\nvalue = [87, 18]\\nclass = 0'),\n",
       " Text(518.8782287822878, 105.69999999999999, 'gender_Male <= 0.5\\ngini = 0.255\\nsamples = 100\\nvalue = [85, 15]\\nclass = 0'),\n",
       " Text(494.169741697417, 63.41999999999996, 'total_charges <= 38.975\\ngini = 0.355\\nsamples = 52\\nvalue = [40, 12]\\nclass = 0'),\n",
       " Text(481.8154981549816, 21.139999999999986, 'gini = 0.465\\nsamples = 19\\nvalue = [12, 7]\\nclass = 0'),\n",
       " Text(506.52398523985244, 21.139999999999986, 'gini = 0.257\\nsamples = 33\\nvalue = [28, 5]\\nclass = 0'),\n",
       " Text(543.5867158671587, 63.41999999999996, 'monthly_charges <= 23.825\\ngini = 0.117\\nsamples = 48\\nvalue = [45, 3]\\nclass = 0'),\n",
       " Text(531.2324723247233, 21.139999999999986, 'gini = 0.087\\nsamples = 44\\nvalue = [42, 2]\\nclass = 0'),\n",
       " Text(555.9409594095941, 21.139999999999986, 'gini = 0.375\\nsamples = 4\\nvalue = [3, 1]\\nclass = 0'),\n",
       " Text(605.3579335793358, 105.69999999999999, 'monthly_charges <= 20.7\\ngini = 0.48\\nsamples = 5\\nvalue = [2, 3]\\nclass = 1'),\n",
       " Text(593.0036900369004, 63.41999999999996, 'monthly_charges <= 19.9\\ngini = 0.444\\nsamples = 3\\nvalue = [2, 1]\\nclass = 0'),\n",
       " Text(580.649446494465, 21.139999999999986, 'gini = 0.0\\nsamples = 1\\nvalue = [0, 1]\\nclass = 1'),\n",
       " Text(605.3579335793358, 21.139999999999986, 'gini = 0.0\\nsamples = 2\\nvalue = [2, 0]\\nclass = 0'),\n",
       " Text(617.7121771217712, 63.41999999999996, 'gini = 0.0\\nsamples = 2\\nvalue = [0, 2]\\nclass = 1'),\n",
       " Text(945.09963099631, 232.53999999999996, 'multiple_lines_No phone service <= 0.5\\ngini = 0.26\\nsamples = 560\\nvalue = [474, 86]\\nclass = 0'),\n",
       " Text(793.7601476014761, 190.26, 'tenure <= 15.5\\ngini = 0.206\\nsamples = 446\\nvalue = [394, 52]\\nclass = 0'),\n",
       " Text(716.5461254612546, 147.97999999999996, 'multiple_lines_Yes <= 0.5\\ngini = 0.269\\nsamples = 206\\nvalue = [173, 33]\\nclass = 0'),\n",
       " Text(667.1291512915129, 105.69999999999999, 'gender_Male <= 0.5\\ngini = 0.226\\nsamples = 169\\nvalue = [147, 22]\\nclass = 0'),\n",
       " Text(642.4206642066421, 63.41999999999996, 'monthly_charges <= 19.775\\ngini = 0.3\\nsamples = 87\\nvalue = [71, 16]\\nclass = 0'),\n",
       " Text(630.0664206642067, 21.139999999999986, 'gini = 0.486\\nsamples = 12\\nvalue = [7, 5]\\nclass = 0'),\n",
       " Text(654.7749077490776, 21.139999999999986, 'gini = 0.25\\nsamples = 75\\nvalue = [64, 11]\\nclass = 0'),\n",
       " Text(691.8376383763838, 63.41999999999996, 'monthly_charges <= 44.7\\ngini = 0.136\\nsamples = 82\\nvalue = [76, 6]\\nclass = 0'),\n",
       " Text(679.4833948339484, 21.139999999999986, 'gini = 0.0\\nsamples = 38\\nvalue = [38, 0]\\nclass = 0'),\n",
       " Text(704.1918819188193, 21.139999999999986, 'gini = 0.236\\nsamples = 44\\nvalue = [38, 6]\\nclass = 0'),\n",
       " Text(765.9630996309963, 105.69999999999999, 'payment_type_id <= 3.5\\ngini = 0.418\\nsamples = 37\\nvalue = [26, 11]\\nclass = 0'),\n",
       " Text(741.2546125461255, 63.41999999999996, 'total_charges <= 484.525\\ngini = 0.312\\nsamples = 31\\nvalue = [25, 6]\\nclass = 0'),\n",
       " Text(728.9003690036901, 21.139999999999986, 'gini = 0.0\\nsamples = 12\\nvalue = [12, 0]\\nclass = 0'),\n",
       " Text(753.608856088561, 21.139999999999986, 'gini = 0.432\\nsamples = 19\\nvalue = [13, 6]\\nclass = 0'),\n",
       " Text(790.6715867158672, 63.41999999999996, 'total_charges <= 1038.375\\ngini = 0.278\\nsamples = 6\\nvalue = [1, 5]\\nclass = 1'),\n",
       " Text(778.3173431734318, 21.139999999999986, 'gini = 0.0\\nsamples = 5\\nvalue = [0, 5]\\nclass = 1'),\n",
       " Text(803.0258302583026, 21.139999999999986, 'gini = 0.0\\nsamples = 1\\nvalue = [1, 0]\\nclass = 0'),\n",
       " Text(870.9741697416974, 147.97999999999996, 'total_charges <= 2186.525\\ngini = 0.146\\nsamples = 240\\nvalue = [221, 19]\\nclass = 0'),\n",
       " Text(827.7343173431734, 105.69999999999999, 'total_charges <= 655.35\\ngini = 0.11\\nsamples = 189\\nvalue = [178, 11]\\nclass = 0'),\n",
       " Text(815.380073800738, 63.41999999999996, 'gini = 0.0\\nsamples = 44\\nvalue = [44, 0]\\nclass = 0'),\n",
       " Text(840.0885608856089, 63.41999999999996, 'total_charges <= 664.2\\ngini = 0.14\\nsamples = 145\\nvalue = [134, 11]\\nclass = 0'),\n",
       " Text(827.7343173431734, 21.139999999999986, 'gini = 0.0\\nsamples = 2\\nvalue = [0, 2]\\nclass = 1'),\n",
       " Text(852.4428044280443, 21.139999999999986, 'gini = 0.118\\nsamples = 143\\nvalue = [134, 9]\\nclass = 0'),\n",
       " Text(914.2140221402215, 105.69999999999999, 'total_charges <= 2576.15\\ngini = 0.265\\nsamples = 51\\nvalue = [43, 8]\\nclass = 0'),\n",
       " Text(889.5055350553506, 63.41999999999996, 'payment_type_id <= 2.0\\ngini = 0.473\\nsamples = 13\\nvalue = [8, 5]\\nclass = 0'),\n",
       " Text(877.1512915129151, 21.139999999999986, 'gini = 0.0\\nsamples = 5\\nvalue = [0, 5]\\nclass = 1'),\n",
       " Text(901.859778597786, 21.139999999999986, 'gini = 0.0\\nsamples = 8\\nvalue = [8, 0]\\nclass = 0'),\n",
       " Text(938.9225092250923, 63.41999999999996, 'payment_type_id <= 3.5\\ngini = 0.145\\nsamples = 38\\nvalue = [35, 3]\\nclass = 0'),\n",
       " Text(926.5682656826568, 21.139999999999986, 'gini = 0.0\\nsamples = 25\\nvalue = [25, 0]\\nclass = 0'),\n",
       " Text(951.2767527675277, 21.139999999999986, 'gini = 0.355\\nsamples = 13\\nvalue = [10, 3]\\nclass = 0'),\n",
       " Text(1096.439114391144, 190.26, 'monthly_charges <= 52.55\\ngini = 0.419\\nsamples = 114\\nvalue = [80, 34]\\nclass = 0'),\n",
       " Text(1056.2878228782288, 147.97999999999996, 'total_charges <= 1178.375\\ngini = 0.38\\nsamples = 102\\nvalue = [76, 26]\\nclass = 0'),\n",
       " Text(1013.0479704797049, 105.69999999999999, 'monthly_charges <= 29.475\\ngini = 0.466\\nsamples = 65\\nvalue = [41, 24]\\nclass = 0'),\n",
       " Text(988.339483394834, 63.41999999999996, 'total_charges <= 671.1\\ngini = 0.208\\nsamples = 17\\nvalue = [15, 2]\\nclass = 0'),\n",
       " Text(975.9852398523985, 21.139999999999986, 'gini = 0.0\\nsamples = 11\\nvalue = [11, 0]\\nclass = 0'),\n",
       " Text(1000.6937269372694, 21.139999999999986, 'gini = 0.444\\nsamples = 6\\nvalue = [4, 2]\\nclass = 0'),\n",
       " Text(1037.7564575645756, 63.41999999999996, 'dependents_Yes <= 0.5\\ngini = 0.497\\nsamples = 48\\nvalue = [26, 22]\\nclass = 0'),\n",
       " Text(1025.4022140221402, 21.139999999999986, 'gini = 0.497\\nsamples = 39\\nvalue = [18, 21]\\nclass = 1'),\n",
       " Text(1050.1107011070112, 21.139999999999986, 'gini = 0.198\\nsamples = 9\\nvalue = [8, 1]\\nclass = 0'),\n",
       " Text(1099.527675276753, 105.69999999999999, 'tenure <= 44.0\\ngini = 0.102\\nsamples = 37\\nvalue = [35, 2]\\nclass = 0'),\n",
       " Text(1087.1734317343173, 63.41999999999996, 'total_charges <= 1994.525\\ngini = 0.245\\nsamples = 14\\nvalue = [12, 2]\\nclass = 0'),\n",
       " Text(1074.819188191882, 21.139999999999986, 'gini = 0.142\\nsamples = 13\\nvalue = [12, 1]\\nclass = 0'),\n",
       " Text(1099.527675276753, 21.139999999999986, 'gini = 0.0\\nsamples = 1\\nvalue = [0, 1]\\nclass = 1'),\n",
       " Text(1111.8819188191883, 63.41999999999996, 'gini = 0.0\\nsamples = 23\\nvalue = [23, 0]\\nclass = 0'),\n",
       " Text(1136.590405904059, 147.97999999999996, 'monthly_charges <= 54.775\\ngini = 0.444\\nsamples = 12\\nvalue = [4, 8]\\nclass = 1'),\n",
       " Text(1124.2361623616237, 105.69999999999999, 'gini = 0.0\\nsamples = 4\\nvalue = [0, 4]\\nclass = 1'),\n",
       " Text(1148.9446494464946, 105.69999999999999, 'monthly_charges <= 55.4\\ngini = 0.5\\nsamples = 8\\nvalue = [4, 4]\\nclass = 0'),\n",
       " Text(1136.590405904059, 63.41999999999996, 'gini = 0.0\\nsamples = 2\\nvalue = [2, 0]\\nclass = 0'),\n",
       " Text(1161.29889298893, 63.41999999999996, 'total_charges <= 502.775\\ngini = 0.444\\nsamples = 6\\nvalue = [2, 4]\\nclass = 1'),\n",
       " Text(1148.9446494464946, 21.139999999999986, 'gini = 0.0\\nsamples = 1\\nvalue = [1, 0]\\nclass = 0'),\n",
       " Text(1173.6531365313654, 21.139999999999986, 'gini = 0.32\\nsamples = 5\\nvalue = [1, 4]\\nclass = 1'),\n",
       " Text(1572.0774907749078, 274.82, 'total_charges <= 1486.825\\ngini = 0.492\\nsamples = 1166\\nvalue = [508, 658]\\nclass = 1'),\n",
       " Text(1341.979704797048, 232.53999999999996, 'total_charges <= 124.475\\ngini = 0.409\\nsamples = 587\\nvalue = [168, 419]\\nclass = 1'),\n",
       " Text(1260.1328413284134, 190.26, 'tech_support_Yes <= 0.5\\ngini = 0.203\\nsamples = 131\\nvalue = [15, 116]\\nclass = 1'),\n",
       " Text(1235.4243542435424, 147.97999999999996, 'senior_citizen <= 0.5\\ngini = 0.174\\nsamples = 125\\nvalue = [12, 113]\\nclass = 1'),\n",
       " Text(1223.070110701107, 105.69999999999999, 'total_charges <= 89.625\\ngini = 0.229\\nsamples = 91\\nvalue = [12, 79]\\nclass = 1'),\n",
       " Text(1210.7158671586717, 63.41999999999996, 'monthly_charges <= 89.175\\ngini = 0.263\\nsamples = 77\\nvalue = [12, 65]\\nclass = 1'),\n",
       " Text(1198.361623616236, 21.139999999999986, 'gini = 0.231\\nsamples = 75\\nvalue = [10, 65]\\nclass = 1'),\n",
       " Text(1223.070110701107, 21.139999999999986, 'gini = 0.0\\nsamples = 2\\nvalue = [2, 0]\\nclass = 0'),\n",
       " Text(1235.4243542435424, 63.41999999999996, 'gini = 0.0\\nsamples = 14\\nvalue = [0, 14]\\nclass = 1'),\n",
       " Text(1247.7785977859778, 105.69999999999999, 'gini = 0.0\\nsamples = 34\\nvalue = [0, 34]\\nclass = 1'),\n",
       " Text(1284.8413284132841, 147.97999999999996, 'partner_Yes <= 0.5\\ngini = 0.5\\nsamples = 6\\nvalue = [3, 3]\\nclass = 0'),\n",
       " Text(1272.4870848708488, 105.69999999999999, 'monthly_charges <= 74.95\\ngini = 0.48\\nsamples = 5\\nvalue = [3, 2]\\nclass = 0'),\n",
       " Text(1260.1328413284134, 63.41999999999996, 'gini = 0.0\\nsamples = 1\\nvalue = [1, 0]\\nclass = 0'),\n",
       " Text(1284.8413284132841, 63.41999999999996, 'streaming_movies_Yes <= 0.5\\ngini = 0.5\\nsamples = 4\\nvalue = [2, 2]\\nclass = 0'),\n",
       " Text(1272.4870848708488, 21.139999999999986, 'gini = 0.444\\nsamples = 3\\nvalue = [1, 2]\\nclass = 1'),\n",
       " Text(1297.1955719557195, 21.139999999999986, 'gini = 0.0\\nsamples = 1\\nvalue = [1, 0]\\nclass = 0'),\n",
       " Text(1297.1955719557195, 105.69999999999999, 'gini = 0.0\\nsamples = 1\\nvalue = [0, 1]\\nclass = 1'),\n",
       " Text(1423.8265682656827, 190.26, 'monthly_charges <= 74.175\\ngini = 0.446\\nsamples = 456\\nvalue = [153, 303]\\nclass = 1'),\n",
       " Text(1371.3210332103322, 147.97999999999996, 'tenure <= 18.5\\ngini = 0.5\\nsamples = 85\\nvalue = [43, 42]\\nclass = 0'),\n",
       " Text(1358.9667896678968, 105.69999999999999, 'total_charges <= 338.475\\ngini = 0.498\\nsamples = 81\\nvalue = [43, 38]\\nclass = 0'),\n",
       " Text(1334.2583025830259, 63.41999999999996, 'gender_Male <= 0.5\\ngini = 0.473\\nsamples = 39\\nvalue = [15, 24]\\nclass = 1'),\n",
       " Text(1321.9040590405905, 21.139999999999986, 'gini = 0.363\\nsamples = 21\\nvalue = [5, 16]\\nclass = 1'),\n",
       " Text(1346.6125461254612, 21.139999999999986, 'gini = 0.494\\nsamples = 18\\nvalue = [10, 8]\\nclass = 0'),\n",
       " Text(1383.6752767527676, 63.41999999999996, 'partner_Yes <= 0.5\\ngini = 0.444\\nsamples = 42\\nvalue = [28, 14]\\nclass = 0'),\n",
       " Text(1371.3210332103322, 21.139999999999986, 'gini = 0.358\\nsamples = 30\\nvalue = [23, 7]\\nclass = 0'),\n",
       " Text(1396.029520295203, 21.139999999999986, 'gini = 0.486\\nsamples = 12\\nvalue = [5, 7]\\nclass = 1'),\n",
       " Text(1383.6752767527676, 105.69999999999999, 'gini = 0.0\\nsamples = 4\\nvalue = [0, 4]\\nclass = 1'),\n",
       " Text(1476.3321033210332, 147.97999999999996, 'monthly_charges <= 97.475\\ngini = 0.417\\nsamples = 371\\nvalue = [110, 261]\\nclass = 1'),\n",
       " Text(1445.4464944649446, 105.69999999999999, 'monthly_charges <= 96.75\\ngini = 0.434\\nsamples = 327\\nvalue = [104, 223]\\nclass = 1'),\n",
       " Text(1433.0922509225093, 63.41999999999996, 'monthly_charges <= 74.425\\ngini = 0.429\\nsamples = 324\\nvalue = [101, 223]\\nclass = 1'),\n",
       " Text(1420.738007380074, 21.139999999999986, 'gini = 0.0\\nsamples = 12\\nvalue = [0, 12]\\nclass = 1'),\n",
       " Text(1445.4464944649446, 21.139999999999986, 'gini = 0.438\\nsamples = 312\\nvalue = [101, 211]\\nclass = 1'),\n",
       " Text(1457.8007380073802, 63.41999999999996, 'gini = 0.0\\nsamples = 3\\nvalue = [3, 0]\\nclass = 0'),\n",
       " Text(1507.217712177122, 105.69999999999999, 'payment_type_Credit card (automatic) <= 0.5\\ngini = 0.236\\nsamples = 44\\nvalue = [6, 38]\\nclass = 1'),\n",
       " Text(1482.509225092251, 63.41999999999996, 'total_charges <= 1264.775\\ngini = 0.145\\nsamples = 38\\nvalue = [3, 35]\\nclass = 1'),\n",
       " Text(1470.1549815498156, 21.139999999999986, 'gini = 0.064\\nsamples = 30\\nvalue = [1, 29]\\nclass = 1'),\n",
       " Text(1494.8634686346863, 21.139999999999986, 'gini = 0.375\\nsamples = 8\\nvalue = [2, 6]\\nclass = 1'),\n",
       " Text(1531.9261992619927, 63.41999999999996, 'total_charges <= 919.075\\ngini = 0.5\\nsamples = 6\\nvalue = [3, 3]\\nclass = 0'),\n",
       " Text(1519.5719557195573, 21.139999999999986, 'gini = 0.0\\nsamples = 3\\nvalue = [3, 0]\\nclass = 0'),\n",
       " Text(1544.280442804428, 21.139999999999986, 'gini = 0.0\\nsamples = 3\\nvalue = [0, 3]\\nclass = 1'),\n",
       " Text(1802.1752767527676, 232.53999999999996, 'tenure <= 53.5\\ngini = 0.485\\nsamples = 579\\nvalue = [340, 239]\\nclass = 0'),\n",
       " Text(1677.088560885609, 190.26, 'multiple_lines_Yes <= 0.5\\ngini = 0.495\\nsamples = 471\\nvalue = [258, 213]\\nclass = 0'),\n",
       " Text(1612.228782287823, 147.97999999999996, 'payment_type_id <= 1.5\\ngini = 0.456\\nsamples = 148\\nvalue = [96, 52]\\nclass = 0'),\n",
       " Text(1568.988929889299, 105.69999999999999, 'total_charges <= 1587.975\\ngini = 0.491\\nsamples = 69\\nvalue = [39, 30]\\nclass = 0'),\n",
       " Text(1556.6346863468636, 63.41999999999996, 'gini = 0.0\\nsamples = 4\\nvalue = [0, 4]\\nclass = 1'),\n",
       " Text(1581.3431734317344, 63.41999999999996, 'monthly_charges <= 85.4\\ngini = 0.48\\nsamples = 65\\nvalue = [39, 26]\\nclass = 0'),\n",
       " Text(1568.988929889299, 21.139999999999986, 'gini = 0.493\\nsamples = 25\\nvalue = [11, 14]\\nclass = 1'),\n",
       " Text(1593.6974169741698, 21.139999999999986, 'gini = 0.42\\nsamples = 40\\nvalue = [28, 12]\\nclass = 0'),\n",
       " Text(1655.4686346863468, 105.69999999999999, 'total_charges <= 3466.15\\ngini = 0.402\\nsamples = 79\\nvalue = [57, 22]\\nclass = 0'),\n",
       " Text(1630.760147601476, 63.41999999999996, 'total_charges <= 3168.35\\ngini = 0.444\\nsamples = 63\\nvalue = [42, 21]\\nclass = 0'),\n",
       " Text(1618.4059040590407, 21.139999999999986, 'gini = 0.4\\nsamples = 58\\nvalue = [42, 16]\\nclass = 0'),\n",
       " Text(1643.1143911439115, 21.139999999999986, 'gini = 0.0\\nsamples = 5\\nvalue = [0, 5]\\nclass = 1'),\n",
       " Text(1680.1771217712178, 63.41999999999996, 'payment_type_id <= 2.5\\ngini = 0.117\\nsamples = 16\\nvalue = [15, 1]\\nclass = 0'),\n",
       " Text(1667.8228782287824, 21.139999999999986, 'gini = 0.0\\nsamples = 1\\nvalue = [0, 1]\\nclass = 1'),\n",
       " Text(1692.5313653136532, 21.139999999999986, 'gini = 0.0\\nsamples = 15\\nvalue = [15, 0]\\nclass = 0'),\n",
       " Text(1741.9483394833949, 147.97999999999996, 'tech_support_Yes <= 0.5\\ngini = 0.5\\nsamples = 323\\nvalue = [162, 161]\\nclass = 0'),\n",
       " Text(1717.2398523985241, 105.69999999999999, 'monthly_charges <= 74.925\\ngini = 0.498\\nsamples = 249\\nvalue = [116, 133]\\nclass = 1'),\n",
       " Text(1704.8856088560885, 63.41999999999996, 'gini = 0.0\\nsamples = 4\\nvalue = [4, 0]\\nclass = 0'),\n",
       " Text(1729.5940959409595, 63.41999999999996, 'payment_type_Mailed check <= 0.5\\ngini = 0.496\\nsamples = 245\\nvalue = [112, 133]\\nclass = 1'),\n",
       " Text(1717.2398523985241, 21.139999999999986, 'gini = 0.493\\nsamples = 228\\nvalue = [101, 127]\\nclass = 1'),\n",
       " Text(1741.9483394833949, 21.139999999999986, 'gini = 0.457\\nsamples = 17\\nvalue = [11, 6]\\nclass = 0'),\n",
       " Text(1766.6568265682658, 105.69999999999999, 'monthly_charges <= 82.4\\ngini = 0.47\\nsamples = 74\\nvalue = [46, 28]\\nclass = 0'),\n",
       " Text(1754.3025830258302, 63.41999999999996, 'gini = 0.0\\nsamples = 3\\nvalue = [0, 3]\\nclass = 1'),\n",
       " Text(1779.0110701107012, 63.41999999999996, 'monthly_charges <= 98.675\\ngini = 0.456\\nsamples = 71\\nvalue = [46, 25]\\nclass = 0'),\n",
       " Text(1766.6568265682658, 21.139999999999986, 'gini = 0.342\\nsamples = 32\\nvalue = [25, 7]\\nclass = 0'),\n",
       " Text(1791.3653136531366, 21.139999999999986, 'gini = 0.497\\nsamples = 39\\nvalue = [21, 18]\\nclass = 0'),\n",
       " Text(1927.2619926199263, 190.26, 'monthly_charges <= 96.425\\ngini = 0.366\\nsamples = 108\\nvalue = [82, 26]\\nclass = 0'),\n",
       " Text(1846.959409594096, 147.97999999999996, 'monthly_charges <= 73.925\\ngini = 0.241\\nsamples = 50\\nvalue = [43, 7]\\nclass = 0'),\n",
       " Text(1816.0738007380075, 105.69999999999999, 'monthly_charges <= 73.7\\ngini = 0.5\\nsamples = 2\\nvalue = [1, 1]\\nclass = 0'),\n",
       " Text(1803.719557195572, 63.41999999999996, 'gini = 0.0\\nsamples = 1\\nvalue = [1, 0]\\nclass = 0'),\n",
       " Text(1828.428044280443, 63.41999999999996, 'gini = 0.0\\nsamples = 1\\nvalue = [0, 1]\\nclass = 1'),\n",
       " Text(1877.8450184501846, 105.69999999999999, 'monthly_charges <= 91.7\\ngini = 0.219\\nsamples = 48\\nvalue = [42, 6]\\nclass = 0'),\n",
       " Text(1853.1365313653137, 63.41999999999996, 'gender_Male <= 0.5\\ngini = 0.128\\nsamples = 29\\nvalue = [27, 2]\\nclass = 0'),\n",
       " Text(1840.7822878228783, 21.139999999999986, 'gini = 0.26\\nsamples = 13\\nvalue = [11, 2]\\nclass = 0'),\n",
       " Text(1865.4907749077493, 21.139999999999986, 'gini = 0.0\\nsamples = 16\\nvalue = [16, 0]\\nclass = 0'),\n",
       " Text(1902.5535055350554, 63.41999999999996, 'monthly_charges <= 93.975\\ngini = 0.332\\nsamples = 19\\nvalue = [15, 4]\\nclass = 0'),\n",
       " Text(1890.19926199262, 21.139999999999986, 'gini = 0.5\\nsamples = 6\\nvalue = [3, 3]\\nclass = 0'),\n",
       " Text(1914.907749077491, 21.139999999999986, 'gini = 0.142\\nsamples = 13\\nvalue = [12, 1]\\nclass = 0'),\n",
       " Text(2007.5645756457566, 147.97999999999996, 'monthly_charges <= 105.4\\ngini = 0.441\\nsamples = 58\\nvalue = [39, 19]\\nclass = 0'),\n",
       " Text(1976.678966789668, 105.69999999999999, 'total_charges <= 6846.35\\ngini = 0.5\\nsamples = 34\\nvalue = [17, 17]\\nclass = 0'),\n",
       " Text(1951.970479704797, 63.41999999999996, 'paperless_billing_Yes <= 0.5\\ngini = 0.473\\nsamples = 26\\nvalue = [16, 10]\\nclass = 0'),\n",
       " Text(1939.6162361623617, 21.139999999999986, 'gini = 0.0\\nsamples = 2\\nvalue = [0, 2]\\nclass = 1'),\n",
       " Text(1964.3247232472327, 21.139999999999986, 'gini = 0.444\\nsamples = 24\\nvalue = [16, 8]\\nclass = 0'),\n",
       " Text(2001.3874538745388, 63.41999999999996, 'monthly_charges <= 99.85\\ngini = 0.219\\nsamples = 8\\nvalue = [1, 7]\\nclass = 1'),\n",
       " Text(1989.0332103321034, 21.139999999999986, 'gini = 0.0\\nsamples = 1\\nvalue = [1, 0]\\nclass = 0'),\n",
       " Text(2013.7416974169741, 21.139999999999986, 'gini = 0.0\\nsamples = 7\\nvalue = [0, 7]\\nclass = 1'),\n",
       " Text(2038.4501845018451, 105.69999999999999, 'tenure <= 54.5\\ngini = 0.153\\nsamples = 24\\nvalue = [22, 2]\\nclass = 0'),\n",
       " Text(2026.0959409594097, 63.41999999999996, 'gini = 0.0\\nsamples = 1\\nvalue = [0, 1]\\nclass = 1'),\n",
       " Text(2050.8044280442805, 63.41999999999996, 'tenure <= 64.5\\ngini = 0.083\\nsamples = 23\\nvalue = [22, 1]\\nclass = 0'),\n",
       " Text(2038.4501845018451, 21.139999999999986, 'gini = 0.0\\nsamples = 16\\nvalue = [16, 0]\\nclass = 0'),\n",
       " Text(2063.158671586716, 21.139999999999986, 'gini = 0.245\\nsamples = 7\\nvalue = [6, 1]\\nclass = 0'),\n",
       " Text(2739.167435424354, 317.09999999999997, 'monthly_charges <= 93.775\\ngini = 0.125\\nsamples = 1772\\nvalue = [1653, 119]\\nclass = 0'),\n",
       " Text(2389.0018450184502, 274.82, 'contract_type_One year <= 0.5\\ngini = 0.072\\nsamples = 1328\\nvalue = [1278, 50]\\nclass = 0'),\n",
       " Text(2202.1439114391146, 232.53999999999996, 'senior_citizen <= 0.5\\ngini = 0.032\\nsamples = 741\\nvalue = [729, 12]\\nclass = 0'),\n",
       " Text(2131.1070110701107, 190.26, 'payment_type_Electronic check <= 0.5\\ngini = 0.023\\nsamples = 697\\nvalue = [689, 8]\\nclass = 0'),\n",
       " Text(2100.2214022140224, 147.97999999999996, 'tenure <= 65.5\\ngini = 0.015\\nsamples = 655\\nvalue = [650, 5]\\nclass = 0'),\n",
       " Text(2087.867158671587, 105.69999999999999, 'payment_type_id <= 2.5\\ngini = 0.026\\nsamples = 382\\nvalue = [377, 5]\\nclass = 0'),\n",
       " Text(2075.512915129151, 63.41999999999996, 'gini = 0.0\\nsamples = 165\\nvalue = [165, 0]\\nclass = 0'),\n",
       " Text(2100.2214022140224, 63.41999999999996, 'tenure <= 52.5\\ngini = 0.045\\nsamples = 217\\nvalue = [212, 5]\\nclass = 0'),\n",
       " Text(2087.867158671587, 21.139999999999986, 'gini = 0.018\\nsamples = 111\\nvalue = [110, 1]\\nclass = 0'),\n",
       " Text(2112.5756457564576, 21.139999999999986, 'gini = 0.073\\nsamples = 106\\nvalue = [102, 4]\\nclass = 0'),\n",
       " Text(2112.5756457564576, 105.69999999999999, 'gini = 0.0\\nsamples = 273\\nvalue = [273, 0]\\nclass = 0'),\n",
       " Text(2161.9926199261995, 147.97999999999996, 'paperless_billing_Yes <= 0.5\\ngini = 0.133\\nsamples = 42\\nvalue = [39, 3]\\nclass = 0'),\n",
       " Text(2149.638376383764, 105.69999999999999, 'gini = 0.0\\nsamples = 22\\nvalue = [22, 0]\\nclass = 0'),\n",
       " Text(2174.3468634686346, 105.69999999999999, 'tech_support_Yes <= 0.5\\ngini = 0.255\\nsamples = 20\\nvalue = [17, 3]\\nclass = 0'),\n",
       " Text(2149.638376383764, 63.41999999999996, 'dependents_Yes <= 0.5\\ngini = 0.444\\nsamples = 6\\nvalue = [4, 2]\\nclass = 0'),\n",
       " Text(2137.2841328413283, 21.139999999999986, 'gini = 0.32\\nsamples = 5\\nvalue = [4, 1]\\nclass = 0'),\n",
       " Text(2161.9926199261995, 21.139999999999986, 'gini = 0.0\\nsamples = 1\\nvalue = [0, 1]\\nclass = 1'),\n",
       " Text(2199.055350553506, 63.41999999999996, 'tenure <= 41.0\\ngini = 0.133\\nsamples = 14\\nvalue = [13, 1]\\nclass = 0'),\n",
       " Text(2186.7011070110702, 21.139999999999986, 'gini = 0.5\\nsamples = 2\\nvalue = [1, 1]\\nclass = 0'),\n",
       " Text(2211.409594095941, 21.139999999999986, 'gini = 0.0\\nsamples = 12\\nvalue = [12, 0]\\nclass = 0'),\n",
       " Text(2273.180811808118, 190.26, 'dependents_Yes <= 0.5\\ngini = 0.165\\nsamples = 44\\nvalue = [40, 4]\\nclass = 0'),\n",
       " Text(2248.4723247232473, 147.97999999999996, 'tenure <= 66.5\\ngini = 0.1\\nsamples = 38\\nvalue = [36, 2]\\nclass = 0'),\n",
       " Text(2236.1180811808117, 105.69999999999999, 'tenure <= 63.0\\ngini = 0.231\\nsamples = 15\\nvalue = [13, 2]\\nclass = 0'),\n",
       " Text(2223.7638376383766, 63.41999999999996, 'gini = 0.0\\nsamples = 12\\nvalue = [12, 0]\\nclass = 0'),\n",
       " Text(2248.4723247232473, 63.41999999999996, 'internet_service_type_None <= 0.5\\ngini = 0.444\\nsamples = 3\\nvalue = [1, 2]\\nclass = 1'),\n",
       " Text(2236.1180811808117, 21.139999999999986, 'gini = 0.0\\nsamples = 2\\nvalue = [0, 2]\\nclass = 1'),\n",
       " Text(2260.826568265683, 21.139999999999986, 'gini = 0.0\\nsamples = 1\\nvalue = [1, 0]\\nclass = 0'),\n",
       " Text(2260.826568265683, 105.69999999999999, 'gini = 0.0\\nsamples = 23\\nvalue = [23, 0]\\nclass = 0'),\n",
       " Text(2297.8892988929892, 147.97999999999996, 'paperless_billing_Yes <= 0.5\\ngini = 0.444\\nsamples = 6\\nvalue = [4, 2]\\nclass = 0'),\n",
       " Text(2285.5350553505536, 105.69999999999999, 'gini = 0.0\\nsamples = 2\\nvalue = [0, 2]\\nclass = 1'),\n",
       " Text(2310.2435424354244, 105.69999999999999, 'gini = 0.0\\nsamples = 4\\nvalue = [4, 0]\\nclass = 0'),\n",
       " Text(2575.859778597786, 232.53999999999996, 'streaming_movies_Yes <= 0.5\\ngini = 0.121\\nsamples = 587\\nvalue = [549, 38]\\nclass = 0'),\n",
       " Text(2446.140221402214, 190.26, 'payment_type_Electronic check <= 0.5\\ngini = 0.08\\nsamples = 433\\nvalue = [415, 18]\\nclass = 0'),\n",
       " Text(2365.837638376384, 147.97999999999996, 'total_charges <= 38.0\\ngini = 0.058\\nsamples = 369\\nvalue = [358, 11]\\nclass = 0'),\n",
       " Text(2334.952029520295, 105.69999999999999, 'monthly_charges <= 19.475\\ngini = 0.375\\nsamples = 4\\nvalue = [3, 1]\\nclass = 0'),\n",
       " Text(2322.59778597786, 63.41999999999996, 'gini = 0.0\\nsamples = 1\\nvalue = [0, 1]\\nclass = 1'),\n",
       " Text(2347.3062730627307, 63.41999999999996, 'gini = 0.0\\nsamples = 3\\nvalue = [3, 0]\\nclass = 0'),\n",
       " Text(2396.723247232472, 105.69999999999999, 'monthly_charges <= 25.275\\ngini = 0.053\\nsamples = 365\\nvalue = [355, 10]\\nclass = 0'),\n",
       " Text(2372.0147601476015, 63.41999999999996, 'tenure <= 18.5\\ngini = 0.023\\nsamples = 173\\nvalue = [171, 2]\\nclass = 0'),\n",
       " Text(2359.6605166051663, 21.139999999999986, 'gini = 0.075\\nsamples = 51\\nvalue = [49, 2]\\nclass = 0'),\n",
       " Text(2384.369003690037, 21.139999999999986, 'gini = 0.0\\nsamples = 122\\nvalue = [122, 0]\\nclass = 0'),\n",
       " Text(2421.4317343173434, 63.41999999999996, 'monthly_charges <= 25.325\\ngini = 0.08\\nsamples = 192\\nvalue = [184, 8]\\nclass = 0'),\n",
       " Text(2409.077490774908, 21.139999999999986, 'gini = 0.0\\nsamples = 1\\nvalue = [0, 1]\\nclass = 1'),\n",
       " Text(2433.7859778597785, 21.139999999999986, 'gini = 0.071\\nsamples = 191\\nvalue = [184, 7]\\nclass = 0'),\n",
       " Text(2526.4428044280444, 147.97999999999996, 'multiple_lines_Yes <= 0.5\\ngini = 0.195\\nsamples = 64\\nvalue = [57, 7]\\nclass = 0'),\n",
       " Text(2495.5571955719556, 105.69999999999999, 'phone_service_Yes <= 0.5\\ngini = 0.105\\nsamples = 36\\nvalue = [34, 2]\\nclass = 0'),\n",
       " Text(2470.848708487085, 63.41999999999996, 'total_charges <= 1755.625\\ngini = 0.375\\nsamples = 4\\nvalue = [3, 1]\\nclass = 0'),\n",
       " Text(2458.4944649446497, 21.139999999999986, 'gini = 0.5\\nsamples = 2\\nvalue = [1, 1]\\nclass = 0'),\n",
       " Text(2483.2029520295205, 21.139999999999986, 'gini = 0.0\\nsamples = 2\\nvalue = [2, 0]\\nclass = 0'),\n",
       " Text(2520.265682656827, 63.41999999999996, 'tenure <= 13.0\\ngini = 0.061\\nsamples = 32\\nvalue = [31, 1]\\nclass = 0'),\n",
       " Text(2507.911439114391, 21.139999999999986, 'gini = 0.219\\nsamples = 8\\nvalue = [7, 1]\\nclass = 0'),\n",
       " Text(2532.619926199262, 21.139999999999986, 'gini = 0.0\\nsamples = 24\\nvalue = [24, 0]\\nclass = 0'),\n",
       " Text(2557.328413284133, 105.69999999999999, 'tenure <= 30.0\\ngini = 0.293\\nsamples = 28\\nvalue = [23, 5]\\nclass = 0'),\n",
       " Text(2544.9741697416976, 63.41999999999996, 'gini = 0.0\\nsamples = 7\\nvalue = [7, 0]\\nclass = 0'),\n",
       " Text(2569.6826568265683, 63.41999999999996, 'total_charges <= 3562.4\\ngini = 0.363\\nsamples = 21\\nvalue = [16, 5]\\nclass = 0'),\n",
       " Text(2557.328413284133, 21.139999999999986, 'gini = 0.494\\nsamples = 9\\nvalue = [5, 4]\\nclass = 0'),\n",
       " Text(2582.036900369004, 21.139999999999986, 'gini = 0.153\\nsamples = 12\\nvalue = [11, 1]\\nclass = 0'),\n",
       " Text(2705.579335793358, 190.26, 'total_charges <= 6018.45\\ngini = 0.226\\nsamples = 154\\nvalue = [134, 20]\\nclass = 0'),\n",
       " Text(2693.2250922509224, 147.97999999999996, 'total_charges <= 2484.825\\ngini = 0.218\\nsamples = 153\\nvalue = [134, 19]\\nclass = 0'),\n",
       " Text(2643.808118081181, 105.69999999999999, 'monthly_charges <= 89.05\\ngini = 0.107\\nsamples = 53\\nvalue = [50, 3]\\nclass = 0'),\n",
       " Text(2619.09963099631, 63.41999999999996, 'total_charges <= 1043.025\\ngini = 0.075\\nsamples = 51\\nvalue = [49, 2]\\nclass = 0'),\n",
       " Text(2606.7453874538746, 21.139999999999986, 'gini = 0.32\\nsamples = 10\\nvalue = [8, 2]\\nclass = 0'),\n",
       " Text(2631.4538745387454, 21.139999999999986, 'gini = 0.0\\nsamples = 41\\nvalue = [41, 0]\\nclass = 0'),\n",
       " Text(2668.5166051660517, 63.41999999999996, 'senior_citizen <= 0.5\\ngini = 0.5\\nsamples = 2\\nvalue = [1, 1]\\nclass = 0'),\n",
       " Text(2656.1623616236166, 21.139999999999986, 'gini = 0.0\\nsamples = 1\\nvalue = [0, 1]\\nclass = 1'),\n",
       " Text(2680.8708487084873, 21.139999999999986, 'gini = 0.0\\nsamples = 1\\nvalue = [1, 0]\\nclass = 0'),\n",
       " Text(2742.6420664206644, 105.69999999999999, 'total_charges <= 3166.95\\ngini = 0.269\\nsamples = 100\\nvalue = [84, 16]\\nclass = 0'),\n",
       " Text(2717.9335793357936, 63.41999999999996, 'total_charges <= 3057.075\\ngini = 0.428\\nsamples = 29\\nvalue = [20, 9]\\nclass = 0'),\n",
       " Text(2705.579335793358, 21.139999999999986, 'gini = 0.355\\nsamples = 26\\nvalue = [20, 6]\\nclass = 0'),\n",
       " Text(2730.287822878229, 21.139999999999986, 'gini = 0.0\\nsamples = 3\\nvalue = [0, 3]\\nclass = 1'),\n",
       " Text(2767.350553505535, 63.41999999999996, 'monthly_charges <= 48.15\\ngini = 0.178\\nsamples = 71\\nvalue = [64, 7]\\nclass = 0'),\n",
       " Text(2754.9963099631, 21.139999999999986, 'gini = 0.0\\nsamples = 1\\nvalue = [0, 1]\\nclass = 1'),\n",
       " Text(2779.7047970479707, 21.139999999999986, 'gini = 0.157\\nsamples = 70\\nvalue = [64, 6]\\nclass = 0'),\n",
       " Text(2717.9335793357936, 147.97999999999996, 'gini = 0.0\\nsamples = 1\\nvalue = [0, 1]\\nclass = 1'),\n",
       " Text(3089.3330258302585, 274.82, 'total_charges <= 6586.2\\ngini = 0.263\\nsamples = 444\\nvalue = [375, 69]\\nclass = 0'),\n",
       " Text(2971.1955719557195, 232.53999999999996, 'total_charges <= 6573.475\\ngini = 0.353\\nsamples = 214\\nvalue = [165, 49]\\nclass = 0'),\n",
       " Text(2958.8413284132844, 190.26, 'contract_type_Two year <= 0.5\\ngini = 0.345\\nsamples = 212\\nvalue = [165, 47]\\nclass = 0'),\n",
       " Text(2890.8929889298893, 147.97999999999996, 'total_charges <= 6117.525\\ngini = 0.383\\nsamples = 159\\nvalue = [118, 41]\\nclass = 0'),\n",
       " Text(2841.476014760148, 105.69999999999999, 'tenure <= 55.5\\ngini = 0.334\\nsamples = 132\\nvalue = [104, 28]\\nclass = 0'),\n",
       " Text(2816.767527675277, 63.41999999999996, 'total_charges <= 5875.975\\ngini = 0.37\\nsamples = 106\\nvalue = [80, 26]\\nclass = 0'),\n",
       " Text(2804.4132841328415, 21.139999999999986, 'gini = 0.363\\nsamples = 105\\nvalue = [80, 25]\\nclass = 0'),\n",
       " Text(2829.121771217712, 21.139999999999986, 'gini = 0.0\\nsamples = 1\\nvalue = [0, 1]\\nclass = 1'),\n",
       " Text(2866.1845018450185, 63.41999999999996, 'monthly_charges <= 99.375\\ngini = 0.142\\nsamples = 26\\nvalue = [24, 2]\\nclass = 0'),\n",
       " Text(2853.830258302583, 21.139999999999986, 'gini = 0.0\\nsamples = 14\\nvalue = [14, 0]\\nclass = 0'),\n",
       " Text(2878.538745387454, 21.139999999999986, 'gini = 0.278\\nsamples = 12\\nvalue = [10, 2]\\nclass = 0'),\n",
       " Text(2940.309963099631, 105.69999999999999, 'partner_Yes <= 0.5\\ngini = 0.499\\nsamples = 27\\nvalue = [14, 13]\\nclass = 0'),\n",
       " Text(2915.6014760147605, 63.41999999999996, 'monthly_charges <= 107.1\\ngini = 0.32\\nsamples = 10\\nvalue = [2, 8]\\nclass = 1'),\n",
       " Text(2903.247232472325, 21.139999999999986, 'gini = 0.198\\nsamples = 9\\nvalue = [1, 8]\\nclass = 1'),\n",
       " Text(2927.9557195571956, 21.139999999999986, 'gini = 0.0\\nsamples = 1\\nvalue = [1, 0]\\nclass = 0'),\n",
       " Text(2965.018450184502, 63.41999999999996, 'monthly_charges <= 103.525\\ngini = 0.415\\nsamples = 17\\nvalue = [12, 5]\\nclass = 0'),\n",
       " Text(2952.6642066420663, 21.139999999999986, 'gini = 0.198\\nsamples = 9\\nvalue = [8, 1]\\nclass = 0'),\n",
       " Text(2977.3726937269375, 21.139999999999986, 'gini = 0.5\\nsamples = 8\\nvalue = [4, 4]\\nclass = 0'),\n",
       " Text(3026.789667896679, 147.97999999999996, 'monthly_charges <= 96.425\\ngini = 0.201\\nsamples = 53\\nvalue = [47, 6]\\nclass = 0'),\n",
       " Text(3002.0811808118083, 105.69999999999999, 'monthly_charges <= 95.225\\ngini = 0.469\\nsamples = 8\\nvalue = [5, 3]\\nclass = 0'),\n",
       " Text(2989.7269372693727, 63.41999999999996, 'gini = 0.0\\nsamples = 5\\nvalue = [5, 0]\\nclass = 0'),\n",
       " Text(3014.435424354244, 63.41999999999996, 'gini = 0.0\\nsamples = 3\\nvalue = [0, 3]\\nclass = 1'),\n",
       " Text(3051.4981549815498, 105.69999999999999, 'monthly_charges <= 107.125\\ngini = 0.124\\nsamples = 45\\nvalue = [42, 3]\\nclass = 0'),\n",
       " Text(3039.1439114391146, 63.41999999999996, 'gini = 0.0\\nsamples = 29\\nvalue = [29, 0]\\nclass = 0'),\n",
       " Text(3063.8523985239854, 63.41999999999996, 'multiple_lines_Yes <= 0.5\\ngini = 0.305\\nsamples = 16\\nvalue = [13, 3]\\nclass = 0'),\n",
       " Text(3051.4981549815498, 21.139999999999986, 'gini = 0.0\\nsamples = 1\\nvalue = [0, 1]\\nclass = 1'),\n",
       " Text(3076.206642066421, 21.139999999999986, 'gini = 0.231\\nsamples = 15\\nvalue = [13, 2]\\nclass = 0'),\n",
       " Text(2983.549815498155, 190.26, 'gini = 0.0\\nsamples = 2\\nvalue = [0, 2]\\nclass = 1'),\n",
       " Text(3207.470479704797, 232.53999999999996, 'gender_Male <= 0.5\\ngini = 0.159\\nsamples = 230\\nvalue = [210, 20]\\nclass = 0'),\n",
       " Text(3137.977859778598, 190.26, 'total_charges <= 8105.025\\ngini = 0.036\\nsamples = 110\\nvalue = [108, 2]\\nclass = 0'),\n",
       " Text(3113.2693726937273, 147.97999999999996, 'tenure <= 67.5\\ngini = 0.021\\nsamples = 94\\nvalue = [93, 1]\\nclass = 0'),\n",
       " Text(3100.9151291512917, 105.69999999999999, 'tenure <= 66.5\\ngini = 0.056\\nsamples = 35\\nvalue = [34, 1]\\nclass = 0'),\n",
       " Text(3088.560885608856, 63.41999999999996, 'gini = 0.0\\nsamples = 25\\nvalue = [25, 0]\\nclass = 0'),\n",
       " Text(3113.2693726937273, 63.41999999999996, 'contract_type_Two year <= 0.5\\ngini = 0.18\\nsamples = 10\\nvalue = [9, 1]\\nclass = 0'),\n",
       " Text(3100.9151291512917, 21.139999999999986, 'gini = 0.0\\nsamples = 7\\nvalue = [7, 0]\\nclass = 0'),\n",
       " Text(3125.6236162361624, 21.139999999999986, 'gini = 0.444\\nsamples = 3\\nvalue = [2, 1]\\nclass = 0'),\n",
       " Text(3125.6236162361624, 105.69999999999999, 'gini = 0.0\\nsamples = 59\\nvalue = [59, 0]\\nclass = 0'),\n",
       " Text(3162.6863468634688, 147.97999999999996, 'contract_type_One year <= 0.5\\ngini = 0.117\\nsamples = 16\\nvalue = [15, 1]\\nclass = 0'),\n",
       " Text(3150.332103321033, 105.69999999999999, 'gini = 0.0\\nsamples = 15\\nvalue = [15, 0]\\nclass = 0'),\n",
       " Text(3175.0405904059044, 105.69999999999999, 'gini = 0.0\\nsamples = 1\\nvalue = [0, 1]\\nclass = 1'),\n",
       " Text(3276.9630996309966, 190.26, 'total_charges <= 7805.325\\ngini = 0.255\\nsamples = 120\\nvalue = [102, 18]\\nclass = 0'),\n",
       " Text(3230.6346863468634, 147.97999999999996, 'total_charges <= 7677.875\\ngini = 0.32\\nsamples = 85\\nvalue = [68, 17]\\nclass = 0'),\n",
       " Text(3199.749077490775, 105.69999999999999, 'monthly_charges <= 106.425\\ngini = 0.26\\nsamples = 78\\nvalue = [66, 12]\\nclass = 0'),\n",
       " Text(3175.0405904059044, 63.41999999999996, 'payment_type_id <= 2.0\\ngini = 0.131\\nsamples = 57\\nvalue = [53, 4]\\nclass = 0'),\n",
       " Text(3162.6863468634688, 21.139999999999986, 'gini = 0.32\\nsamples = 15\\nvalue = [12, 3]\\nclass = 0'),\n",
       " Text(3187.3948339483395, 21.139999999999986, 'gini = 0.046\\nsamples = 42\\nvalue = [41, 1]\\nclass = 0'),\n",
       " Text(3224.457564575646, 63.41999999999996, 'total_charges <= 7474.8\\ngini = 0.472\\nsamples = 21\\nvalue = [13, 8]\\nclass = 0'),\n",
       " Text(3212.1033210332102, 21.139999999999986, 'gini = 0.337\\nsamples = 14\\nvalue = [11, 3]\\nclass = 0'),\n",
       " Text(3236.8118081180814, 21.139999999999986, 'gini = 0.408\\nsamples = 7\\nvalue = [2, 5]\\nclass = 1'),\n",
       " Text(3261.520295202952, 105.69999999999999, 'tenure <= 71.5\\ngini = 0.408\\nsamples = 7\\nvalue = [2, 5]\\nclass = 1'),\n",
       " Text(3249.1660516605166, 63.41999999999996, 'gini = 0.0\\nsamples = 4\\nvalue = [0, 4]\\nclass = 1'),\n",
       " Text(3273.874538745388, 63.41999999999996, 'total_charges <= 7704.725\\ngini = 0.444\\nsamples = 3\\nvalue = [2, 1]\\nclass = 0'),\n",
       " Text(3261.520295202952, 21.139999999999986, 'gini = 0.0\\nsamples = 1\\nvalue = [0, 1]\\nclass = 1'),\n",
       " Text(3286.228782287823, 21.139999999999986, 'gini = 0.0\\nsamples = 2\\nvalue = [2, 0]\\nclass = 0'),\n",
       " Text(3323.2915129151293, 147.97999999999996, 'contract_type_id <= 2.5\\ngini = 0.056\\nsamples = 35\\nvalue = [34, 1]\\nclass = 0'),\n",
       " Text(3310.9372693726937, 105.69999999999999, 'payment_type_id <= 3.5\\ngini = 0.375\\nsamples = 4\\nvalue = [3, 1]\\nclass = 0'),\n",
       " Text(3298.5830258302585, 63.41999999999996, 'gini = 0.0\\nsamples = 3\\nvalue = [3, 0]\\nclass = 0'),\n",
       " Text(3323.2915129151293, 63.41999999999996, 'gini = 0.0\\nsamples = 1\\nvalue = [0, 1]\\nclass = 1'),\n",
       " Text(3335.645756457565, 105.69999999999999, 'gini = 0.0\\nsamples = 31\\nvalue = [31, 0]\\nclass = 0')]"
      ]
     },
     "execution_count": 97,
     "metadata": {},
     "output_type": "execute_result"
    },
    {
     "data": {
      "image/png": "[encoded data removed]",
      "text/plain": [
       "<Figure size 4320x504 with 1 Axes>"
      ]
     },
     "metadata": {
      "needs_background": "light"
     },
     "output_type": "display_data"
    }
   ],
   "source": [
    "clf_4 = DecisionTreeClassifier(max_depth=8, random_state=123)\n",
    "clf_4 = clf_4.fit(X_train, y_train)\n",
    "plt.figure(figsize=(60, 7))\n",
    "plot_tree(clf_4, feature_names=X_train.columns, class_names = clf.classes_.astype(str), rounded=True)"
   ]
  },
  {
   "cell_type": "code",
   "execution_count": 98,
   "id": "0b156b38",
   "metadata": {},
   "outputs": [
    {
     "data": {
      "text/plain": [
       "(array([0, 0, 0, 0, 0], dtype=uint8),\n",
       " array([[0.96335079, 0.03664921],\n",
       "        [0.96335079, 0.03664921],\n",
       "        [0.93706294, 0.06293706],\n",
       "        [1.        , 0.        ],\n",
       "        [0.96335079, 0.03664921]]))"
      ]
     },
     "execution_count": 98,
     "metadata": {},
     "output_type": "execute_result"
    }
   ],
   "source": [
    "y_pred = clf_4.predict(X_train)\n",
    "y_pred_proba = clf_4.predict_proba(X_train)\n",
    "\n",
    "y_pred[0:5], y_pred_proba[0:5]"
   ]
  },
  {
   "cell_type": "code",
   "execution_count": 99,
   "id": "43d0fd54",
   "metadata": {},
   "outputs": [
    {
     "name": "stdout",
     "output_type": "stream",
     "text": [
      "Accuracy of Decision Tree classifier on training set: 0.85\n"
     ]
    }
   ],
   "source": [
    "print('Accuracy of Decision Tree classifier on training set: {:.2f}'\n",
    "      .format(clf_4.score(X_train, y_train)))"
   ]
  },
  {
   "cell_type": "code",
   "execution_count": 100,
   "id": "08cd2aae",
   "metadata": {},
   "outputs": [
    {
     "name": "stdout",
     "output_type": "stream",
     "text": [
      "              precision    recall  f1-score   support\n",
      "\n",
      "           0       0.90      0.90      0.90      2891\n",
      "           1       0.72      0.72      0.72      1046\n",
      "\n",
      "    accuracy                           0.85      3937\n",
      "   macro avg       0.81      0.81      0.81      3937\n",
      "weighted avg       0.85      0.85      0.85      3937\n",
      "\n"
     ]
    }
   ],
   "source": [
    "print(classification_report(y_train, y_pred))"
   ]
  },
  {
   "cell_type": "code",
   "execution_count": 101,
   "id": "d9098860",
   "metadata": {},
   "outputs": [
    {
     "name": "stdout",
     "output_type": "stream",
     "text": [
      "Accuracy of Decision Tree classifier on validate set: 0.76\n"
     ]
    }
   ],
   "source": [
    "print('Accuracy of Decision Tree classifier on validate set: {:.2f}'\n",
    "     .format(clf_4.score(X_validate, y_validate)))"
   ]
  },
  {
   "cell_type": "markdown",
   "id": "2213f6db",
   "metadata": {},
   "source": [
    "The accuracy on this model is 85%, but a 9% difference in the accuracy on the validate set. Because of this difference, this model is likely overfitting and max_depth should be lowered to avoid this.\n"
   ]
  },
  {
   "cell_type": "code",
   "execution_count": 102,
   "id": "a940fb35",
   "metadata": {},
   "outputs": [
    {
     "name": "stdout",
     "output_type": "stream",
     "text": [
      "              precision    recall  f1-score   support\n",
      "\n",
      "           0       0.85      0.81      0.83      1239\n",
      "           1       0.54      0.59      0.56       449\n",
      "\n",
      "    accuracy                           0.76      1688\n",
      "   macro avg       0.69      0.70      0.70      1688\n",
      "weighted avg       0.76      0.76      0.76      1688\n",
      "\n"
     ]
    }
   ],
   "source": [
    "y_pred = clf_4.predict(X_validate)\n",
    "\n",
    "print(classification_report(y_validate, y_pred))"
   ]
  },
  {
   "cell_type": "code",
   "execution_count": 103,
   "id": "06347694",
   "metadata": {},
   "outputs": [],
   "source": [
    "### Model 5"
   ]
  },
  {
   "cell_type": "code",
   "execution_count": 104,
   "id": "cf82d10c",
   "metadata": {},
   "outputs": [
    {
     "data": {
      "text/plain": [
       "[Text(379.32375, 348.81, 'contract_type_id <= 1.5\\ngini = 0.39\\nsamples = 3937\\nvalue = [2891, 1046]\\nclass = 0'),\n",
       " Text(193.44, 285.39, 'internet_service_type_Fiber optic <= 0.5\\ngini = 0.49\\nsamples = 2165\\nvalue = [1238, 927]\\nclass = 0'),\n",
       " Text(96.72, 221.97, 'tenure <= 5.5\\ngini = 0.394\\nsamples = 999\\nvalue = [730, 269]\\nclass = 0'),\n",
       " Text(48.36, 158.55, 'internet_service_type_id <= 2.0\\ngini = 0.486\\nsamples = 439\\nvalue = [256, 183]\\nclass = 0'),\n",
       " Text(24.18, 95.13, 'senior_citizen <= 0.5\\ngini = 0.5\\nsamples = 266\\nvalue = [129, 137]\\nclass = 1'),\n",
       " Text(12.09, 31.710000000000036, 'gini = 0.5\\nsamples = 238\\nvalue = [122, 116]\\nclass = 0'),\n",
       " Text(36.269999999999996, 31.710000000000036, 'gini = 0.375\\nsamples = 28\\nvalue = [7, 21]\\nclass = 1'),\n",
       " Text(72.53999999999999, 95.13, 'total_charges <= 20.225\\ngini = 0.39\\nsamples = 173\\nvalue = [127, 46]\\nclass = 0'),\n",
       " Text(60.45, 31.710000000000036, 'gini = 0.484\\nsamples = 68\\nvalue = [40, 28]\\nclass = 0'),\n",
       " Text(84.63, 31.710000000000036, 'gini = 0.284\\nsamples = 105\\nvalue = [87, 18]\\nclass = 0'),\n",
       " Text(145.07999999999998, 158.55, 'phone_service_Yes <= 0.5\\ngini = 0.26\\nsamples = 560\\nvalue = [474, 86]\\nclass = 0'),\n",
       " Text(120.9, 95.13, 'monthly_charges <= 52.55\\ngini = 0.419\\nsamples = 114\\nvalue = [80, 34]\\nclass = 0'),\n",
       " Text(108.81, 31.710000000000036, 'gini = 0.38\\nsamples = 102\\nvalue = [76, 26]\\nclass = 0'),\n",
       " Text(132.99, 31.710000000000036, 'gini = 0.444\\nsamples = 12\\nvalue = [4, 8]\\nclass = 1'),\n",
       " Text(169.26, 95.13, 'tenure <= 15.5\\ngini = 0.206\\nsamples = 446\\nvalue = [394, 52]\\nclass = 0'),\n",
       " Text(157.17, 31.710000000000036, 'gini = 0.269\\nsamples = 206\\nvalue = [173, 33]\\nclass = 0'),\n",
       " Text(181.35, 31.710000000000036, 'gini = 0.146\\nsamples = 240\\nvalue = [221, 19]\\nclass = 0'),\n",
       " Text(290.15999999999997, 221.97, 'total_charges <= 1486.825\\ngini = 0.492\\nsamples = 1166\\nvalue = [508, 658]\\nclass = 1'),\n",
       " Text(241.8, 158.55, 'total_charges <= 124.475\\ngini = 0.409\\nsamples = 587\\nvalue = [168, 419]\\nclass = 1'),\n",
       " Text(217.62, 95.13, 'tech_support_Yes <= 0.5\\ngini = 0.203\\nsamples = 131\\nvalue = [15, 116]\\nclass = 1'),\n",
       " Text(205.53, 31.710000000000036, 'gini = 0.174\\nsamples = 125\\nvalue = [12, 113]\\nclass = 1'),\n",
       " Text(229.71, 31.710000000000036, 'gini = 0.5\\nsamples = 6\\nvalue = [3, 3]\\nclass = 0'),\n",
       " Text(265.98, 95.13, 'monthly_charges <= 74.175\\ngini = 0.446\\nsamples = 456\\nvalue = [153, 303]\\nclass = 1'),\n",
       " Text(253.89, 31.710000000000036, 'gini = 0.5\\nsamples = 85\\nvalue = [43, 42]\\nclass = 0'),\n",
       " Text(278.07, 31.710000000000036, 'gini = 0.417\\nsamples = 371\\nvalue = [110, 261]\\nclass = 1'),\n",
       " Text(338.52, 158.55, 'tenure <= 53.5\\ngini = 0.485\\nsamples = 579\\nvalue = [340, 239]\\nclass = 0'),\n",
       " Text(314.34, 95.13, 'multiple_lines_Yes <= 0.5\\ngini = 0.495\\nsamples = 471\\nvalue = [258, 213]\\nclass = 0'),\n",
       " Text(302.25, 31.710000000000036, 'gini = 0.456\\nsamples = 148\\nvalue = [96, 52]\\nclass = 0'),\n",
       " Text(326.43, 31.710000000000036, 'gini = 0.5\\nsamples = 323\\nvalue = [162, 161]\\nclass = 0'),\n",
       " Text(362.7, 95.13, 'monthly_charges <= 96.425\\ngini = 0.366\\nsamples = 108\\nvalue = [82, 26]\\nclass = 0'),\n",
       " Text(350.61, 31.710000000000036, 'gini = 0.241\\nsamples = 50\\nvalue = [43, 7]\\nclass = 0'),\n",
       " Text(374.79, 31.710000000000036, 'gini = 0.441\\nsamples = 58\\nvalue = [39, 19]\\nclass = 0'),\n",
       " Text(565.2075, 285.39, 'monthly_charges <= 93.775\\ngini = 0.125\\nsamples = 1772\\nvalue = [1653, 119]\\nclass = 0'),\n",
       " Text(483.6, 221.97, 'contract_type_id <= 2.5\\ngini = 0.072\\nsamples = 1328\\nvalue = [1278, 50]\\nclass = 0'),\n",
       " Text(435.24, 158.55, 'streaming_movies_Yes <= 0.5\\ngini = 0.121\\nsamples = 587\\nvalue = [549, 38]\\nclass = 0'),\n",
       " Text(411.06, 95.13, 'payment_type_Electronic check <= 0.5\\ngini = 0.08\\nsamples = 433\\nvalue = [415, 18]\\nclass = 0'),\n",
       " Text(398.96999999999997, 31.710000000000036, 'gini = 0.058\\nsamples = 369\\nvalue = [358, 11]\\nclass = 0'),\n",
       " Text(423.15, 31.710000000000036, 'gini = 0.195\\nsamples = 64\\nvalue = [57, 7]\\nclass = 0'),\n",
       " Text(459.42, 95.13, 'total_charges <= 6018.45\\ngini = 0.226\\nsamples = 154\\nvalue = [134, 20]\\nclass = 0'),\n",
       " Text(447.33, 31.710000000000036, 'gini = 0.218\\nsamples = 153\\nvalue = [134, 19]\\nclass = 0'),\n",
       " Text(471.51, 31.710000000000036, 'gini = 0.0\\nsamples = 1\\nvalue = [0, 1]\\nclass = 1'),\n",
       " Text(531.96, 158.55, 'senior_citizen <= 0.5\\ngini = 0.032\\nsamples = 741\\nvalue = [729, 12]\\nclass = 0'),\n",
       " Text(507.78, 95.13, 'payment_type_Electronic check <= 0.5\\ngini = 0.023\\nsamples = 697\\nvalue = [689, 8]\\nclass = 0'),\n",
       " Text(495.69, 31.710000000000036, 'gini = 0.015\\nsamples = 655\\nvalue = [650, 5]\\nclass = 0'),\n",
       " Text(519.87, 31.710000000000036, 'gini = 0.133\\nsamples = 42\\nvalue = [39, 3]\\nclass = 0'),\n",
       " Text(556.14, 95.13, 'dependents_Yes <= 0.5\\ngini = 0.165\\nsamples = 44\\nvalue = [40, 4]\\nclass = 0'),\n",
       " Text(544.05, 31.710000000000036, 'gini = 0.1\\nsamples = 38\\nvalue = [36, 2]\\nclass = 0'),\n",
       " Text(568.23, 31.710000000000036, 'gini = 0.444\\nsamples = 6\\nvalue = [4, 2]\\nclass = 0'),\n",
       " Text(646.8149999999999, 221.97, 'total_charges <= 6586.2\\ngini = 0.263\\nsamples = 444\\nvalue = [375, 69]\\nclass = 0'),\n",
       " Text(616.59, 158.55, 'total_charges <= 6573.475\\ngini = 0.353\\nsamples = 214\\nvalue = [165, 49]\\nclass = 0'),\n",
       " Text(604.5, 95.13, 'contract_type_One year <= 0.5\\ngini = 0.345\\nsamples = 212\\nvalue = [165, 47]\\nclass = 0'),\n",
       " Text(592.41, 31.710000000000036, 'gini = 0.201\\nsamples = 53\\nvalue = [47, 6]\\nclass = 0'),\n",
       " Text(616.59, 31.710000000000036, 'gini = 0.383\\nsamples = 159\\nvalue = [118, 41]\\nclass = 0'),\n",
       " Text(628.68, 95.13, 'gini = 0.0\\nsamples = 2\\nvalue = [0, 2]\\nclass = 1'),\n",
       " Text(677.04, 158.55, 'gender_Male <= 0.5\\ngini = 0.159\\nsamples = 230\\nvalue = [210, 20]\\nclass = 0'),\n",
       " Text(652.86, 95.13, 'total_charges <= 8105.025\\ngini = 0.036\\nsamples = 110\\nvalue = [108, 2]\\nclass = 0'),\n",
       " Text(640.77, 31.710000000000036, 'gini = 0.021\\nsamples = 94\\nvalue = [93, 1]\\nclass = 0'),\n",
       " Text(664.95, 31.710000000000036, 'gini = 0.117\\nsamples = 16\\nvalue = [15, 1]\\nclass = 0'),\n",
       " Text(701.22, 95.13, 'total_charges <= 7805.325\\ngini = 0.255\\nsamples = 120\\nvalue = [102, 18]\\nclass = 0'),\n",
       " Text(689.13, 31.710000000000036, 'gini = 0.32\\nsamples = 85\\nvalue = [68, 17]\\nclass = 0'),\n",
       " Text(713.31, 31.710000000000036, 'gini = 0.056\\nsamples = 35\\nvalue = [34, 1]\\nclass = 0')]"
      ]
     },
     "execution_count": 104,
     "metadata": {},
     "output_type": "execute_result"
    },
    {
     "data": {
      "image/png": "[encoded data removed]",
      "text/plain": [
       "<Figure size 936x504 with 1 Axes>"
      ]
     },
     "metadata": {
      "needs_background": "light"
     },
     "output_type": "display_data"
    }
   ],
   "source": [
    "clf_5 = DecisionTreeClassifier(max_depth=5, random_state=123)\n",
    "clf_5 = clf_5.fit(X_train, y_train)\n",
    "plt.figure(figsize=(13, 7))\n",
    "plot_tree(clf_5, feature_names=X_train.columns, class_names = clf.classes_.astype(str), rounded=True)"
   ]
  },
  {
   "cell_type": "code",
   "execution_count": 105,
   "id": "8f15fb4f",
   "metadata": {},
   "outputs": [
    {
     "data": {
      "text/plain": [
       "(array([0, 0, 0, 0, 0], dtype=uint8),\n",
       " array([[0.9701897 , 0.0298103 ],\n",
       "        [0.9701897 , 0.0298103 ],\n",
       "        [0.92083333, 0.07916667],\n",
       "        [0.58823529, 0.41176471],\n",
       "        [0.9701897 , 0.0298103 ]]))"
      ]
     },
     "execution_count": 105,
     "metadata": {},
     "output_type": "execute_result"
    }
   ],
   "source": [
    "y_pred = clf_5.predict(X_train)\n",
    "y_pred_proba = clf_5.predict_proba(X_train)\n",
    "\n",
    "y_pred[0:5], y_pred_proba[0:5]"
   ]
  },
  {
   "cell_type": "code",
   "execution_count": 106,
   "id": "0bfab70e",
   "metadata": {},
   "outputs": [
    {
     "name": "stdout",
     "output_type": "stream",
     "text": [
      "Accuracy of Decision Tree classifier on training set: 0.80\n"
     ]
    }
   ],
   "source": [
    "print('Accuracy of Decision Tree classifier on training set: {:.2f}'\n",
    "      .format(clf_5.score(X_train, y_train)))"
   ]
  },
  {
   "cell_type": "code",
   "execution_count": 107,
   "id": "c2b83250",
   "metadata": {},
   "outputs": [
    {
     "name": "stdout",
     "output_type": "stream",
     "text": [
      "              precision    recall  f1-score   support\n",
      "\n",
      "           0       0.81      0.95      0.88      2891\n",
      "           1       0.75      0.39      0.51      1046\n",
      "\n",
      "    accuracy                           0.80      3937\n",
      "   macro avg       0.78      0.67      0.69      3937\n",
      "weighted avg       0.80      0.80      0.78      3937\n",
      "\n"
     ]
    }
   ],
   "source": [
    "print(classification_report(y_train, y_pred))"
   ]
  },
  {
   "cell_type": "code",
   "execution_count": 108,
   "id": "29bb3765",
   "metadata": {},
   "outputs": [
    {
     "name": "stdout",
     "output_type": "stream",
     "text": [
      "Accuracy of Decision Tree classifier on validate set: 0.77\n"
     ]
    }
   ],
   "source": [
    "print('Accuracy of Decision Tree classifier on validate set: {:.2f}'\n",
    "     .format(clf_5.score(X_validate, y_validate)))"
   ]
  },
  {
   "cell_type": "code",
   "execution_count": 109,
   "id": "feb6ad94",
   "metadata": {},
   "outputs": [
    {
     "name": "stdout",
     "output_type": "stream",
     "text": [
      "              precision    recall  f1-score   support\n",
      "\n",
      "           0       0.80      0.92      0.85      1239\n",
      "           1       0.62      0.37      0.46       449\n",
      "\n",
      "    accuracy                           0.77      1688\n",
      "   macro avg       0.71      0.64      0.66      1688\n",
      "weighted avg       0.75      0.77      0.75      1688\n",
      "\n"
     ]
    }
   ],
   "source": [
    "y_pred = clf_5.predict(X_validate)\n",
    "\n",
    "print(classification_report(y_validate, y_pred))"
   ]
  },
  {
   "cell_type": "markdown",
   "id": "2295d665",
   "metadata": {},
   "source": [
    "Models with max depth of 3, 4, and 5 have the same accuracy on both train and validate. For simplicity, model 2 (max_depth = 3) is prefered. "
   ]
  },
  {
   "cell_type": "markdown",
   "id": "5c2eaca7",
   "metadata": {},
   "source": [
    "Takeaways - I'd like to do this model again and drop the total_charges column. Total_charges is highly dependent on tenure and I believe this is muddling the data. "
   ]
  },
  {
   "cell_type": "code",
   "execution_count": null,
   "id": "d7b6ec96",
   "metadata": {},
   "outputs": [],
   "source": []
  }
 ],
 "metadata": {
  "kernelspec": {
   "display_name": "Python 3 (ipykernel)",
   "language": "python",
   "name": "python3"
  },
  "language_info": {
   "codemirror_mode": {
    "name": "ipython",
    "version": 3
   },
   "file_extension": ".py",
   "mimetype": "text/x-python",
   "name": "python",
   "nbconvert_exporter": "python",
   "pygments_lexer": "ipython3",
   "version": "3.9.7"
  }
 },
 "nbformat": 4,
 "nbformat_minor": 5
}
