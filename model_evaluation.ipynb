{
 "cells": [
  {
   "cell_type": "markdown",
   "id": "2c5a4a1d",
   "metadata": {},
   "source": [
    "## Model Evaluation Exercises"
   ]
  },
  {
   "cell_type": "markdown",
   "id": "0353c59a",
   "metadata": {},
   "source": [
    "Given the following confusion matrix, evaluate (by hand) the model's performance.\n",
    "\n",
    "\n",
    "|               | pred dog   | pred cat   |\n",
    "|:------------  |-----------:|-----------:|\n",
    "| actual dog    |         46 |         7  |\n",
    "| actual cat    |         13 |         34 |\n",
    "In the context of this problem, what is a false positive?\n",
    "In the context of this problem, what is a false negative?\n",
    "How would you describe this model?"
   ]
  },
  {
   "cell_type": "markdown",
   "id": "25cc6c29",
   "metadata": {},
   "source": [
    "positive - is a dog\n",
    "\n",
    "negative - is a cat\n",
    "\n",
    "true pos- predicted dog, (correct) is a dog <br>\n",
    "false pos- predicted dog, (incorrect) is a cat <br>\n",
    "false neg- predicted cat, (incorrect) is a dog <br>\n",
    "true neg- predicted cat, (correct) is a cat <br>"
   ]
  },
  {
   "cell_type": "code",
   "execution_count": 4,
   "id": "7cd6dce8",
   "metadata": {},
   "outputs": [
    {
     "data": {
      "text/plain": [
       "(0.8, 0.8679245283018868, 0.7796610169491526)"
      ]
     },
     "execution_count": 4,
     "metadata": {},
     "output_type": "execute_result"
    }
   ],
   "source": [
    "true_pos = 46\n",
    "false_pos = 13\n",
    "false_neg = 7\n",
    "true_neg = 34\n",
    "\n",
    "Accuracy = (true_pos + true_neg)/(true_pos + false_pos + false_neg + true_neg)\n",
    "\n",
    "Recall = true_pos/(true_pos + false_neg)\n",
    "\n",
    "Precision = true_pos/(true_pos + false_pos)\n",
    "\n",
    "Accuracy, Recall, Precision\n",
    "\n",
    "# This model is tailored to recall with reducing false negatives, \n",
    "# but at the expense of more false positives"
   ]
  },
  {
   "cell_type": "markdown",
   "id": "d2143d94",
   "metadata": {},
   "source": [
    "You are working as a datascientist working for Codeup Cody Creator (C3 for short), a rubber-duck manufacturing plant.\n",
    "\n",
    "Unfortunately, some of the rubber ducks that are produced will have defects. Your team has built several models that try to predict those defects, and the data from their predictions can be found here.\n",
    "\n",
    "Use the predictions dataset and pandas to help answer the following questions:\n",
    "\n",
    "An internal team wants to investigate the cause of the manufacturing defects. They tell you that they want to identify as many of the ducks that have a defect as possible. Which evaluation metric would be appropriate here? Which model would be the best fit for this use case?\n",
    "Recently several stories in the local news have come out highlighting customers who received a rubber duck with a defect, and portraying C3 in a bad light. The PR team has decided to launch a program that gives customers with a defective duck a vacation to Hawaii. They need you to predict which ducks will have defects, but tell you the really don't want to accidentally give out a vacation package when the duck really doesn't have a defect. Which evaluation metric would be appropriate here? Which model would be the best fit for this use case?\n"
   ]
  },
  {
   "cell_type": "code",
   "execution_count": 48,
   "id": "c48045b0",
   "metadata": {},
   "outputs": [],
   "source": [
    "import pandas as pd"
   ]
  },
  {
   "cell_type": "code",
   "execution_count": 49,
   "id": "bb98abb7",
   "metadata": {},
   "outputs": [
    {
     "data": {
      "text/html": [
       "<div>\n",
       "<style scoped>\n",
       "    .dataframe tbody tr th:only-of-type {\n",
       "        vertical-align: middle;\n",
       "    }\n",
       "\n",
       "    .dataframe tbody tr th {\n",
       "        vertical-align: top;\n",
       "    }\n",
       "\n",
       "    .dataframe thead th {\n",
       "        text-align: right;\n",
       "    }\n",
       "</style>\n",
       "<table border=\"1\" class=\"dataframe\">\n",
       "  <thead>\n",
       "    <tr style=\"text-align: right;\">\n",
       "      <th></th>\n",
       "      <th>actual</th>\n",
       "      <th>model1</th>\n",
       "      <th>model2</th>\n",
       "      <th>model3</th>\n",
       "    </tr>\n",
       "  </thead>\n",
       "  <tbody>\n",
       "    <tr>\n",
       "      <th>0</th>\n",
       "      <td>No Defect</td>\n",
       "      <td>No Defect</td>\n",
       "      <td>Defect</td>\n",
       "      <td>No Defect</td>\n",
       "    </tr>\n",
       "    <tr>\n",
       "      <th>1</th>\n",
       "      <td>No Defect</td>\n",
       "      <td>No Defect</td>\n",
       "      <td>Defect</td>\n",
       "      <td>Defect</td>\n",
       "    </tr>\n",
       "    <tr>\n",
       "      <th>2</th>\n",
       "      <td>No Defect</td>\n",
       "      <td>No Defect</td>\n",
       "      <td>Defect</td>\n",
       "      <td>No Defect</td>\n",
       "    </tr>\n",
       "    <tr>\n",
       "      <th>3</th>\n",
       "      <td>No Defect</td>\n",
       "      <td>Defect</td>\n",
       "      <td>Defect</td>\n",
       "      <td>Defect</td>\n",
       "    </tr>\n",
       "    <tr>\n",
       "      <th>4</th>\n",
       "      <td>No Defect</td>\n",
       "      <td>No Defect</td>\n",
       "      <td>Defect</td>\n",
       "      <td>No Defect</td>\n",
       "    </tr>\n",
       "  </tbody>\n",
       "</table>\n",
       "</div>"
      ],
      "text/plain": [
       "      actual     model1  model2     model3\n",
       "0  No Defect  No Defect  Defect  No Defect\n",
       "1  No Defect  No Defect  Defect     Defect\n",
       "2  No Defect  No Defect  Defect  No Defect\n",
       "3  No Defect     Defect  Defect     Defect\n",
       "4  No Defect  No Defect  Defect  No Defect"
      ]
     },
     "execution_count": 49,
     "metadata": {},
     "output_type": "execute_result"
    }
   ],
   "source": [
    "C3 = pd.read_csv (r'/Users/mindyshiben/codeup-data-science/classification-exercises/c3.csv')\n",
    "C3.head()"
   ]
  },
  {
   "cell_type": "markdown",
   "id": "006a2c24",
   "metadata": {},
   "source": [
    "pos - defect <br> \n",
    "neg - no defect"
   ]
  },
  {
   "cell_type": "code",
   "execution_count": 50,
   "id": "cf72b9c7",
   "metadata": {},
   "outputs": [
    {
     "data": {
      "text/plain": [
       "No Defect    184\n",
       "Defect        16\n",
       "Name: actual, dtype: int64"
      ]
     },
     "execution_count": 50,
     "metadata": {},
     "output_type": "execute_result"
    }
   ],
   "source": [
    "C3.actual.value_counts()"
   ]
  },
  {
   "cell_type": "code",
   "execution_count": 51,
   "id": "ee300028",
   "metadata": {},
   "outputs": [
    {
     "data": {
      "text/plain": [
       "190"
      ]
     },
     "execution_count": 51,
     "metadata": {},
     "output_type": "execute_result"
    }
   ],
   "source": [
    "(C3.model1 == 'No Defect').sum()"
   ]
  },
  {
   "cell_type": "code",
   "execution_count": 52,
   "id": "88dd7620",
   "metadata": {},
   "outputs": [
    {
     "data": {
      "text/plain": [
       "No Defect    190\n",
       "Defect        10\n",
       "Name: model1, dtype: int64"
      ]
     },
     "execution_count": 52,
     "metadata": {},
     "output_type": "execute_result"
    }
   ],
   "source": [
    "C3.model1.value_counts()"
   ]
  },
  {
   "cell_type": "code",
   "execution_count": 53,
   "id": "983bfa51",
   "metadata": {},
   "outputs": [
    {
     "data": {
      "text/html": [
       "<div>\n",
       "<style scoped>\n",
       "    .dataframe tbody tr th:only-of-type {\n",
       "        vertical-align: middle;\n",
       "    }\n",
       "\n",
       "    .dataframe tbody tr th {\n",
       "        vertical-align: top;\n",
       "    }\n",
       "\n",
       "    .dataframe thead th {\n",
       "        text-align: right;\n",
       "    }\n",
       "</style>\n",
       "<table border=\"1\" class=\"dataframe\">\n",
       "  <thead>\n",
       "    <tr style=\"text-align: right;\">\n",
       "      <th></th>\n",
       "      <th>actual</th>\n",
       "      <th>model1</th>\n",
       "      <th>model2</th>\n",
       "      <th>model3</th>\n",
       "    </tr>\n",
       "  </thead>\n",
       "  <tbody>\n",
       "    <tr>\n",
       "      <th>13</th>\n",
       "      <td>Defect</td>\n",
       "      <td>No Defect</td>\n",
       "      <td>Defect</td>\n",
       "      <td>Defect</td>\n",
       "    </tr>\n",
       "    <tr>\n",
       "      <th>30</th>\n",
       "      <td>Defect</td>\n",
       "      <td>Defect</td>\n",
       "      <td>No Defect</td>\n",
       "      <td>Defect</td>\n",
       "    </tr>\n",
       "    <tr>\n",
       "      <th>65</th>\n",
       "      <td>Defect</td>\n",
       "      <td>Defect</td>\n",
       "      <td>Defect</td>\n",
       "      <td>Defect</td>\n",
       "    </tr>\n",
       "    <tr>\n",
       "      <th>70</th>\n",
       "      <td>Defect</td>\n",
       "      <td>Defect</td>\n",
       "      <td>Defect</td>\n",
       "      <td>Defect</td>\n",
       "    </tr>\n",
       "    <tr>\n",
       "      <th>74</th>\n",
       "      <td>Defect</td>\n",
       "      <td>No Defect</td>\n",
       "      <td>No Defect</td>\n",
       "      <td>Defect</td>\n",
       "    </tr>\n",
       "    <tr>\n",
       "      <th>87</th>\n",
       "      <td>Defect</td>\n",
       "      <td>No Defect</td>\n",
       "      <td>Defect</td>\n",
       "      <td>Defect</td>\n",
       "    </tr>\n",
       "    <tr>\n",
       "      <th>118</th>\n",
       "      <td>Defect</td>\n",
       "      <td>No Defect</td>\n",
       "      <td>Defect</td>\n",
       "      <td>No Defect</td>\n",
       "    </tr>\n",
       "    <tr>\n",
       "      <th>135</th>\n",
       "      <td>Defect</td>\n",
       "      <td>Defect</td>\n",
       "      <td>No Defect</td>\n",
       "      <td>Defect</td>\n",
       "    </tr>\n",
       "    <tr>\n",
       "      <th>140</th>\n",
       "      <td>Defect</td>\n",
       "      <td>No Defect</td>\n",
       "      <td>Defect</td>\n",
       "      <td>Defect</td>\n",
       "    </tr>\n",
       "    <tr>\n",
       "      <th>147</th>\n",
       "      <td>Defect</td>\n",
       "      <td>Defect</td>\n",
       "      <td>No Defect</td>\n",
       "      <td>Defect</td>\n",
       "    </tr>\n",
       "    <tr>\n",
       "      <th>163</th>\n",
       "      <td>Defect</td>\n",
       "      <td>Defect</td>\n",
       "      <td>Defect</td>\n",
       "      <td>Defect</td>\n",
       "    </tr>\n",
       "    <tr>\n",
       "      <th>171</th>\n",
       "      <td>Defect</td>\n",
       "      <td>No Defect</td>\n",
       "      <td>Defect</td>\n",
       "      <td>Defect</td>\n",
       "    </tr>\n",
       "    <tr>\n",
       "      <th>176</th>\n",
       "      <td>Defect</td>\n",
       "      <td>No Defect</td>\n",
       "      <td>Defect</td>\n",
       "      <td>Defect</td>\n",
       "    </tr>\n",
       "    <tr>\n",
       "      <th>186</th>\n",
       "      <td>Defect</td>\n",
       "      <td>No Defect</td>\n",
       "      <td>No Defect</td>\n",
       "      <td>No Defect</td>\n",
       "    </tr>\n",
       "    <tr>\n",
       "      <th>194</th>\n",
       "      <td>Defect</td>\n",
       "      <td>Defect</td>\n",
       "      <td>No Defect</td>\n",
       "      <td>Defect</td>\n",
       "    </tr>\n",
       "    <tr>\n",
       "      <th>196</th>\n",
       "      <td>Defect</td>\n",
       "      <td>Defect</td>\n",
       "      <td>No Defect</td>\n",
       "      <td>No Defect</td>\n",
       "    </tr>\n",
       "  </tbody>\n",
       "</table>\n",
       "</div>"
      ],
      "text/plain": [
       "     actual     model1     model2     model3\n",
       "13   Defect  No Defect     Defect     Defect\n",
       "30   Defect     Defect  No Defect     Defect\n",
       "65   Defect     Defect     Defect     Defect\n",
       "70   Defect     Defect     Defect     Defect\n",
       "74   Defect  No Defect  No Defect     Defect\n",
       "87   Defect  No Defect     Defect     Defect\n",
       "118  Defect  No Defect     Defect  No Defect\n",
       "135  Defect     Defect  No Defect     Defect\n",
       "140  Defect  No Defect     Defect     Defect\n",
       "147  Defect     Defect  No Defect     Defect\n",
       "163  Defect     Defect     Defect     Defect\n",
       "171  Defect  No Defect     Defect     Defect\n",
       "176  Defect  No Defect     Defect     Defect\n",
       "186  Defect  No Defect  No Defect  No Defect\n",
       "194  Defect     Defect  No Defect     Defect\n",
       "196  Defect     Defect  No Defect  No Defect"
      ]
     },
     "execution_count": 53,
     "metadata": {},
     "output_type": "execute_result"
    }
   ],
   "source": [
    "subset = C3[C3.actual == 'Defect']\n",
    "subset"
   ]
  },
  {
   "cell_type": "code",
   "execution_count": 56,
   "id": "9b1ccc28",
   "metadata": {},
   "outputs": [
    {
     "data": {
      "text/plain": [
       "(0.5, 0.5625, 0.8125)"
      ]
     },
     "execution_count": 56,
     "metadata": {},
     "output_type": "execute_result"
    }
   ],
   "source": [
    "model1_recall = (subset.actual == subset.model1).mean()\n",
    "model2_recall = (subset.actual == subset.model2).mean()\n",
    "model3_recall = (subset.actual == subset.model3).mean()\n",
    "\n",
    "model1_recall, model2_recall, model3_recall"
   ]
  },
  {
   "cell_type": "markdown",
   "id": "d10d07e0",
   "metadata": {},
   "source": [
    "Based on calculating the recall of model 1, 2, and 3, model 3 is the superior model for Quality Control to avoid false negatives (aka defective ducks that are not detected).<br>\n",
    "Model 3 is the best model here"
   ]
  },
  {
   "cell_type": "markdown",
   "id": "790826e7",
   "metadata": {},
   "source": [
    "### Part 2\n",
    "The PR team has decided to launch a program that gives customers with a defective duck a vacation to Hawaii\n",
    "They need you to predict which ducks will have defects, but tell you the really don't want to accidentally give out a vacation package when the duck really doesn't have a defect.\n",
    "Which evaluation metric would be appropriate here? Which model would be the best fit for this use case?"
   ]
  },
  {
   "cell_type": "code",
   "execution_count": 62,
   "id": "dd7409e9",
   "metadata": {},
   "outputs": [
    {
     "data": {
      "text/plain": [
       "0.8"
      ]
     },
     "execution_count": 62,
     "metadata": {},
     "output_type": "execute_result"
    }
   ],
   "source": [
    "# to minimize the False positives, looking for highest precision\n",
    "\n",
    "subset = C3[C3.model1 == 'Defect']\n",
    "model_1_p = (subset.model1 == subset.actual).mean()\n",
    "\n",
    "model_1_p"
   ]
  },
  {
   "cell_type": "code",
   "execution_count": 63,
   "id": "d93e9340",
   "metadata": {},
   "outputs": [
    {
     "data": {
      "text/plain": [
       "0.1"
      ]
     },
     "execution_count": 63,
     "metadata": {},
     "output_type": "execute_result"
    }
   ],
   "source": [
    "subset = C3[C3.model2 == 'Defect']\n",
    "model_2_p = (subset.model2 == subset.actual).mean()\n",
    "\n",
    "model_2_p"
   ]
  },
  {
   "cell_type": "code",
   "execution_count": 64,
   "id": "d108ae35",
   "metadata": {},
   "outputs": [
    {
     "data": {
      "text/plain": [
       "0.13131313131313133"
      ]
     },
     "execution_count": 64,
     "metadata": {},
     "output_type": "execute_result"
    }
   ],
   "source": [
    "subset = C3[C3.model3 == 'Defect']\n",
    "model_3_p = (subset.model3 == subset.actual).mean()\n",
    "\n",
    "model_3_p"
   ]
  },
  {
   "cell_type": "markdown",
   "id": "799f22ba",
   "metadata": {},
   "source": [
    "Takeaways:\n",
    "\n",
    "Markeing should use model 1 to have the best precision\n",
    "as it will minimize the false positive predictions of defects (ducks that are without any defects, but are predicted to have defects)"
   ]
  },
  {
   "cell_type": "markdown",
   "id": "47ace2ce",
   "metadata": {},
   "source": [
    "### Exercise 4\n",
    "You are working as a data scientist for Gives You Paws ™, a subscription based service that shows you cute pictures of dogs or cats (or both for an additional fee).\n",
    "\n",
    "At Gives You Paws, anyone can upload pictures of their cats or dogs. The photos are then put through a two step process. First an automated algorithm tags pictures as either a cat or a dog (Phase I). Next, the photos that have been initially identified are put through another round of review, possibly with some human oversight, before being presented to the users (Phase II).\n",
    "\n",
    "Several models have already been developed with the data, and you can find their results here.\n",
    "\n",
    "Given this dataset, use pandas to create a baseline model (i.e. a model that just predicts the most common class) and answer the following questions:\n",
    "\n",
    "In terms of accuracy, how do the various models compare to the baseline model? Are any of the models better than the baseline?\n",
    "Suppose you are working on a team that solely deals with dog pictures. Which of these models would you recomend for Phase I? For Phase II?\n",
    "Suppose you are working on a team that solely deals with cat pictures. Which of these models would you recomend for Phase I? For Phase II?"
   ]
  },
  {
   "cell_type": "code",
   "execution_count": 65,
   "id": "897195f6",
   "metadata": {},
   "outputs": [
    {
     "data": {
      "text/html": [
       "<div>\n",
       "<style scoped>\n",
       "    .dataframe tbody tr th:only-of-type {\n",
       "        vertical-align: middle;\n",
       "    }\n",
       "\n",
       "    .dataframe tbody tr th {\n",
       "        vertical-align: top;\n",
       "    }\n",
       "\n",
       "    .dataframe thead th {\n",
       "        text-align: right;\n",
       "    }\n",
       "</style>\n",
       "<table border=\"1\" class=\"dataframe\">\n",
       "  <thead>\n",
       "    <tr style=\"text-align: right;\">\n",
       "      <th></th>\n",
       "      <th>actual</th>\n",
       "      <th>model1</th>\n",
       "      <th>model2</th>\n",
       "      <th>model3</th>\n",
       "      <th>model4</th>\n",
       "    </tr>\n",
       "  </thead>\n",
       "  <tbody>\n",
       "    <tr>\n",
       "      <th>0</th>\n",
       "      <td>cat</td>\n",
       "      <td>cat</td>\n",
       "      <td>dog</td>\n",
       "      <td>cat</td>\n",
       "      <td>dog</td>\n",
       "    </tr>\n",
       "    <tr>\n",
       "      <th>1</th>\n",
       "      <td>dog</td>\n",
       "      <td>dog</td>\n",
       "      <td>cat</td>\n",
       "      <td>cat</td>\n",
       "      <td>dog</td>\n",
       "    </tr>\n",
       "    <tr>\n",
       "      <th>2</th>\n",
       "      <td>dog</td>\n",
       "      <td>cat</td>\n",
       "      <td>cat</td>\n",
       "      <td>cat</td>\n",
       "      <td>dog</td>\n",
       "    </tr>\n",
       "    <tr>\n",
       "      <th>3</th>\n",
       "      <td>dog</td>\n",
       "      <td>dog</td>\n",
       "      <td>dog</td>\n",
       "      <td>cat</td>\n",
       "      <td>dog</td>\n",
       "    </tr>\n",
       "    <tr>\n",
       "      <th>4</th>\n",
       "      <td>cat</td>\n",
       "      <td>cat</td>\n",
       "      <td>cat</td>\n",
       "      <td>dog</td>\n",
       "      <td>dog</td>\n",
       "    </tr>\n",
       "  </tbody>\n",
       "</table>\n",
       "</div>"
      ],
      "text/plain": [
       "  actual model1 model2 model3 model4\n",
       "0    cat    cat    dog    cat    dog\n",
       "1    dog    dog    cat    cat    dog\n",
       "2    dog    cat    cat    cat    dog\n",
       "3    dog    dog    dog    cat    dog\n",
       "4    cat    cat    cat    dog    dog"
      ]
     },
     "execution_count": 65,
     "metadata": {},
     "output_type": "execute_result"
    }
   ],
   "source": [
    "df = pd.read_csv(\"https://ds.codeup.com/data/gives_you_paws.csv\")\n",
    "df.head()"
   ]
  },
  {
   "cell_type": "code",
   "execution_count": 66,
   "id": "dfed0c95",
   "metadata": {},
   "outputs": [
    {
     "data": {
      "text/plain": [
       "dog    3254\n",
       "cat    1746\n",
       "Name: actual, dtype: int64"
      ]
     },
     "execution_count": 66,
     "metadata": {},
     "output_type": "execute_result"
    }
   ],
   "source": [
    "df.actual.value_counts()"
   ]
  },
  {
   "cell_type": "markdown",
   "id": "ea26c64f",
   "metadata": {},
   "source": [
    "Baseline (most common class), is a dog"
   ]
  },
  {
   "cell_type": "code",
   "execution_count": 82,
   "id": "9f27adce",
   "metadata": {},
   "outputs": [],
   "source": [
    "df['baseline'] = 'dog'"
   ]
  },
  {
   "cell_type": "code",
   "execution_count": 83,
   "id": "4295fd0b",
   "metadata": {},
   "outputs": [
    {
     "data": {
      "text/plain": [
       "0       dog\n",
       "1       dog\n",
       "2       dog\n",
       "3       dog\n",
       "4       dog\n",
       "       ... \n",
       "4995    dog\n",
       "4996    dog\n",
       "4997    dog\n",
       "4998    dog\n",
       "4999    dog\n",
       "Name: baseline, Length: 5000, dtype: object"
      ]
     },
     "execution_count": 83,
     "metadata": {},
     "output_type": "execute_result"
    }
   ],
   "source": [
    "df.baseline"
   ]
  },
  {
   "cell_type": "code",
   "execution_count": 90,
   "id": "f4e6a3ff",
   "metadata": {},
   "outputs": [
    {
     "data": {
      "text/plain": [
       "(0.6508, 0.8074, 0.6304, 0.5096, 0.7426)"
      ]
     },
     "execution_count": 90,
     "metadata": {},
     "output_type": "execute_result"
    }
   ],
   "source": [
    "b_accuracy = (df['actual'] == df['baseline']).mean()\n",
    "m1_accuracy = (df['actual'] == df['model1']).mean()\n",
    "m2_accuracy = (df['actual'] == df['model2']).mean()\n",
    "m3_accuracy = (df['actual'] == df['model3']).mean()\n",
    "m4_accuracy = (df['actual'] == df['model4']).mean()\n",
    "\n",
    "b_accuracy, m1_accuracy, m2_accuracy, m3_accuracy, m4_accuracy"
   ]
  },
  {
   "cell_type": "markdown",
   "id": "8f38e124",
   "metadata": {},
   "source": [
    "Model 1 has the best accuracy predicting dog. Both model 1 and model 4 have better accuracy than the baseline."
   ]
  },
  {
   "cell_type": "markdown",
   "id": "748bd7f0",
   "metadata": {},
   "source": [
    "Suppose you are working on a team that solely deals with dog pictures. Which of these models would you recomend for Phase I? For Phase II?"
   ]
  },
  {
   "cell_type": "markdown",
   "id": "f0625f12",
   "metadata": {},
   "source": [
    "we should model for recall and minimize false negatives as we want to identify as many dogs as possible. We are not concerned with false positives as we know we are working with only dog pictures."
   ]
  },
  {
   "cell_type": "code",
   "execution_count": 93,
   "id": "c298b738",
   "metadata": {},
   "outputs": [
    {
     "data": {
      "text/plain": [
       "(0.803318992009834,\n",
       " 0.49078057775046097,\n",
       " 0.5086047940995697,\n",
       " 0.9557467732022127)"
      ]
     },
     "execution_count": 93,
     "metadata": {},
     "output_type": "execute_result"
    }
   ],
   "source": [
    "subset = df[df.actual == 'dog']\n",
    "m1_recall = (subset.actual == subset.model1).mean()\n",
    "m2_recall = (subset.actual == subset.model2).mean()\n",
    "m3_recall = (subset.actual == subset.model3).mean()\n",
    "m4_recall = (subset.actual == subset.model4).mean()\n",
    "m1_recall, m2_recall, m3_recall, m4_recall"
   ]
  },
  {
   "cell_type": "markdown",
   "id": "94258318",
   "metadata": {},
   "source": [
    "Model 4 would be best in this case to identify as many dogs as possible (optimizing for recall)"
   ]
  },
  {
   "cell_type": "markdown",
   "id": "f4850db1",
   "metadata": {},
   "source": [
    "Phase 2: Photos that have been initially identified are put through another round of review\n",
    "For this round we'll use precision to minimize false positives"
   ]
  },
  {
   "cell_type": "code",
   "execution_count": 94,
   "id": "c983a0c6",
   "metadata": {},
   "outputs": [
    {
     "data": {
      "text/plain": [
       "(0.8900238338440586,\n",
       " 0.8931767337807607,\n",
       " 0.6598883572567783,\n",
       " 0.7312485304490948)"
      ]
     },
     "execution_count": 94,
     "metadata": {},
     "output_type": "execute_result"
    }
   ],
   "source": [
    "subset1 = df[df.model1 == 'dog']\n",
    "subset2 = df[df.model2 == 'dog']\n",
    "subset3 = df[df.model3 == 'dog']\n",
    "subset4 = df[df.model4 == 'dog']\n",
    "\n",
    "m1_p = (subset1.actual == subset1.model1).mean()\n",
    "m2_p = (subset2.actual == subset2.model2).mean()\n",
    "m3_p = (subset3.actual == subset3.model3).mean()\n",
    "m4_p = (subset4.actual == subset4.model4).mean()\n",
    "\n",
    "m1_p, m2_p, m3_p, m4_p"
   ]
  },
  {
   "cell_type": "markdown",
   "id": "8f5bd331",
   "metadata": {},
   "source": [
    "Model 2 would be the best choice in round 2 (optimizing for precision)"
   ]
  },
  {
   "cell_type": "markdown",
   "id": "0a940b20",
   "metadata": {},
   "source": [
    "Suppose you are working on a team that solely deals with cat pictures. Which of these models would you recomend for Phase I? For Phase II?"
   ]
  },
  {
   "cell_type": "markdown",
   "id": "bbe0a3bb",
   "metadata": {},
   "source": [
    "positive- cat <br>\n",
    "negative- dog"
   ]
  },
  {
   "cell_type": "code",
   "execution_count": 95,
   "id": "d7ae49da",
   "metadata": {},
   "outputs": [
    {
     "data": {
      "text/plain": [
       "(0.3492, 0.8074, 0.6304, 0.5096, 0.7426)"
      ]
     },
     "execution_count": 95,
     "metadata": {},
     "output_type": "execute_result"
    }
   ],
   "source": [
    "df['baseline_cat'] = 'cat'\n",
    "\n",
    "b_accuracy = (df['actual'] == df['baseline_cat']).mean()\n",
    "m1_accuracy = (df['actual'] == df['model1']).mean()\n",
    "m2_accuracy = (df['actual'] == df['model2']).mean()\n",
    "m3_accuracy = (df['actual'] == df['model3']).mean()\n",
    "m4_accuracy = (df['actual'] == df['model4']).mean()\n",
    "\n",
    "b_accuracy, m1_accuracy, m2_accuracy, m3_accuracy, m4_accuracy"
   ]
  },
  {
   "cell_type": "code",
   "execution_count": 96,
   "id": "ced7f04f",
   "metadata": {},
   "outputs": [
    {
     "data": {
      "text/plain": [
       "(0.8150057273768614,\n",
       " 0.8906071019473081,\n",
       " 0.5114547537227949,\n",
       " 0.34536082474226804)"
      ]
     },
     "execution_count": 96,
     "metadata": {},
     "output_type": "execute_result"
    }
   ],
   "source": [
    "subset = df[df.actual == 'cat']\n",
    "m1_recall = (subset.actual == subset.model1).mean()\n",
    "m2_recall = (subset.actual == subset.model2).mean()\n",
    "m3_recall = (subset.actual == subset.model3).mean()\n",
    "m4_recall = (subset.actual == subset.model4).mean()\n",
    "m1_recall, m2_recall, m3_recall, m4_recall"
   ]
  },
  {
   "cell_type": "markdown",
   "id": "633bba01",
   "metadata": {},
   "source": [
    "Model 2 will be best model for recall (phase 1)"
   ]
  },
  {
   "cell_type": "code",
   "execution_count": 97,
   "id": "c75eab85",
   "metadata": {},
   "outputs": [
    {
     "data": {
      "text/plain": [
       "(0.6897721764420747, 0.4841220423412204, 0.358346709470305, 0.8072289156626506)"
      ]
     },
     "execution_count": 97,
     "metadata": {},
     "output_type": "execute_result"
    }
   ],
   "source": [
    "subset1 = df[df.model1 == 'cat']\n",
    "subset2 = df[df.model2 == 'cat']\n",
    "subset3 = df[df.model3 == 'cat']\n",
    "subset4 = df[df.model4 == 'cat']\n",
    "\n",
    "m1_p = (subset1.actual == subset1.model1).mean()\n",
    "m2_p = (subset2.actual == subset2.model2).mean()\n",
    "m3_p = (subset3.actual == subset3.model3).mean()\n",
    "m4_p = (subset4.actual == subset4.model4).mean()\n",
    "\n",
    "m1_p, m2_p, m3_p, m4_p"
   ]
  },
  {
   "cell_type": "markdown",
   "id": "1058b789",
   "metadata": {},
   "source": [
    "Model 4 will be best to optimize precision"
   ]
  },
  {
   "cell_type": "code",
   "execution_count": null,
   "id": "65214a63",
   "metadata": {},
   "outputs": [],
   "source": []
  }
 ],
 "metadata": {
  "kernelspec": {
   "display_name": "Python 3 (ipykernel)",
   "language": "python",
   "name": "python3"
  },
  "language_info": {
   "codemirror_mode": {
    "name": "ipython",
    "version": 3
   },
   "file_extension": ".py",
   "mimetype": "text/x-python",
   "name": "python",
   "nbconvert_exporter": "python",
   "pygments_lexer": "ipython3",
   "version": "3.9.7"
  }
 },
 "nbformat": 4,
 "nbformat_minor": 5
}
