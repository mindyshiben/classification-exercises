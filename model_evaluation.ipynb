{
 "cells": [
  {
   "cell_type": "markdown",
   "id": "eab0bccf",
   "metadata": {},
   "source": [
    "Given the following confusion matrix, evaluate (by hand) the model's performance.\n",
    "\n",
    "\n",
    "|               | pred dog   | pred cat   |\n",
    "|:------------  |-----------:|-----------:|\n",
    "| actual dog    |         46 |         7  |\n",
    "| actual cat    |         13 |         34 |\n",
    "In the context of this problem, what is a false positive?\n",
    "In the context of this problem, what is a false negative?\n",
    "How would you describe this model?"
   ]
  },
  {
   "cell_type": "markdown",
   "id": "a4b55344",
   "metadata": {},
   "source": [
    "positive - is a dog\n",
    "\n",
    "negative - is a cat\n",
    "\n",
    "true pos- predicted dog, (correct) is a dog\n",
    "false pos- predicted dog, (incorrect) is a cat\n",
    "false neg- predicted cat, (incorrect) is a dog\n",
    "true neg- predicted cat, (correct) is a cat"
   ]
  },
  {
   "cell_type": "code",
   "execution_count": 4,
   "id": "9f6b2a5a",
   "metadata": {},
   "outputs": [
    {
     "data": {
      "text/plain": [
       "(0.8, 0.8679245283018868, 0.7796610169491526)"
      ]
     },
     "execution_count": 4,
     "metadata": {},
     "output_type": "execute_result"
    }
   ],
   "source": [
    "true_pos = 46\n",
    "false_pos = 13\n",
    "false_neg = 7\n",
    "true_neg = 34\n",
    "\n",
    "Accuracy = (true_pos + true_neg)/(true_pos + false_pos + false_neg + true_neg)\n",
    "\n",
    "Recall = true_pos/(true_pos + false_neg)\n",
    "\n",
    "Precision = true_pos/(true_pos + false_pos)\n",
    "\n",
    "Accuracy, Recall, Precision\n",
    "\n",
    "# This model is tailored to recall with reducing false negatives, \n",
    "# but at the expense of more false positives"
   ]
  },
  {
   "cell_type": "markdown",
   "id": "583d62d3",
   "metadata": {},
   "source": [
    "You are working as a datascientist working for Codeup Cody Creator (C3 for short), a rubber-duck manufacturing plant.\n",
    "\n",
    "Unfortunately, some of the rubber ducks that are produced will have defects. Your team has built several models that try to predict those defects, and the data from their predictions can be found here.\n",
    "\n",
    "Use the predictions dataset and pandas to help answer the following questions:\n",
    "\n",
    "An internal team wants to investigate the cause of the manufacturing defects. They tell you that they want to identify as many of the ducks that have a defect as possible. Which evaluation metric would be appropriate here? Which model would be the best fit for this use case?\n",
    "Recently several stories in the local news have come out highlighting customers who received a rubber duck with a defect, and portraying C3 in a bad light. The PR team has decided to launch a program that gives customers with a defective duck a vacation to Hawaii. They need you to predict which ducks will have defects, but tell you the really don't want to accidentally give out a vacation package when the duck really doesn't have a defect. Which evaluation metric would be appropriate here? Which model would be the best fit for this use case?\n"
   ]
  },
  {
   "cell_type": "code",
   "execution_count": 5,
   "id": "8d3f6671",
   "metadata": {},
   "outputs": [],
   "source": [
    "import pandas as pd"
   ]
  },
  {
   "cell_type": "code",
   "execution_count": 8,
   "id": "bef64375",
   "metadata": {},
   "outputs": [
    {
     "data": {
      "text/html": [
       "<div>\n",
       "<style scoped>\n",
       "    .dataframe tbody tr th:only-of-type {\n",
       "        vertical-align: middle;\n",
       "    }\n",
       "\n",
       "    .dataframe tbody tr th {\n",
       "        vertical-align: top;\n",
       "    }\n",
       "\n",
       "    .dataframe thead th {\n",
       "        text-align: right;\n",
       "    }\n",
       "</style>\n",
       "<table border=\"1\" class=\"dataframe\">\n",
       "  <thead>\n",
       "    <tr style=\"text-align: right;\">\n",
       "      <th></th>\n",
       "      <th>actual</th>\n",
       "      <th>model1</th>\n",
       "      <th>model2</th>\n",
       "      <th>model3</th>\n",
       "    </tr>\n",
       "  </thead>\n",
       "  <tbody>\n",
       "    <tr>\n",
       "      <th>0</th>\n",
       "      <td>No Defect</td>\n",
       "      <td>No Defect</td>\n",
       "      <td>Defect</td>\n",
       "      <td>No Defect</td>\n",
       "    </tr>\n",
       "    <tr>\n",
       "      <th>1</th>\n",
       "      <td>No Defect</td>\n",
       "      <td>No Defect</td>\n",
       "      <td>Defect</td>\n",
       "      <td>Defect</td>\n",
       "    </tr>\n",
       "    <tr>\n",
       "      <th>2</th>\n",
       "      <td>No Defect</td>\n",
       "      <td>No Defect</td>\n",
       "      <td>Defect</td>\n",
       "      <td>No Defect</td>\n",
       "    </tr>\n",
       "    <tr>\n",
       "      <th>3</th>\n",
       "      <td>No Defect</td>\n",
       "      <td>Defect</td>\n",
       "      <td>Defect</td>\n",
       "      <td>Defect</td>\n",
       "    </tr>\n",
       "    <tr>\n",
       "      <th>4</th>\n",
       "      <td>No Defect</td>\n",
       "      <td>No Defect</td>\n",
       "      <td>Defect</td>\n",
       "      <td>No Defect</td>\n",
       "    </tr>\n",
       "  </tbody>\n",
       "</table>\n",
       "</div>"
      ],
      "text/plain": [
       "      actual     model1  model2     model3\n",
       "0  No Defect  No Defect  Defect  No Defect\n",
       "1  No Defect  No Defect  Defect     Defect\n",
       "2  No Defect  No Defect  Defect  No Defect\n",
       "3  No Defect     Defect  Defect     Defect\n",
       "4  No Defect  No Defect  Defect  No Defect"
      ]
     },
     "execution_count": 8,
     "metadata": {},
     "output_type": "execute_result"
    }
   ],
   "source": [
    "C3 = pd.read_csv (r'/Users/mindyshiben/codeup-data-science/classification-exercises/c3.csv')\n",
    "C3.head()"
   ]
  },
  {
   "cell_type": "code",
   "execution_count": 9,
   "id": "17eec371",
   "metadata": {},
   "outputs": [
    {
     "data": {
      "text/plain": [
       "No Defect    184\n",
       "Defect        16\n",
       "Name: actual, dtype: int64"
      ]
     },
     "execution_count": 9,
     "metadata": {},
     "output_type": "execute_result"
    }
   ],
   "source": [
    "C3.actual.value_counts()"
   ]
  },
  {
   "cell_type": "code",
   "execution_count": 33,
   "id": "3cf772b8",
   "metadata": {},
   "outputs": [
    {
     "data": {
      "text/plain": [
       "190"
      ]
     },
     "execution_count": 33,
     "metadata": {},
     "output_type": "execute_result"
    }
   ],
   "source": [
    "(C3.model1 == 'No Defect').sum()"
   ]
  },
  {
   "cell_type": "code",
   "execution_count": 10,
   "id": "895befdc",
   "metadata": {},
   "outputs": [
    {
     "data": {
      "text/plain": [
       "No Defect    190\n",
       "Defect        10\n",
       "Name: model1, dtype: int64"
      ]
     },
     "execution_count": 10,
     "metadata": {},
     "output_type": "execute_result"
    }
   ],
   "source": [
    "C3.model1.value_counts()"
   ]
  },
  {
   "cell_type": "code",
   "execution_count": 46,
   "id": "9388be5d",
   "metadata": {},
   "outputs": [
    {
     "data": {
      "text/plain": [
       "(0.97, 1.0, 0.625)"
      ]
     },
     "execution_count": 46,
     "metadata": {},
     "output_type": "execute_result"
    }
   ],
   "source": [
    "# pos - defect\n",
    "# neg - no defect\n",
    "\n",
    "# model1-\n",
    "\n",
    "true_pos = 10\n",
    "false_pos = 6\n",
    "false_neg = 0\n",
    "true_neg = 184\n",
    "\n",
    "Accuracy = (true_pos + true_neg)/(true_pos + false_pos + false_neg + true_neg)\n",
    "Recall = true_pos/(true_pos + false_neg)\n",
    "Precision = true_pos/(true_pos + false_pos)\n",
    "\n",
    "Accuracy, Recall, Precision"
   ]
  },
  {
   "cell_type": "code",
   "execution_count": 42,
   "id": "ad31a6d4",
   "metadata": {},
   "outputs": [
    {
     "data": {
      "text/plain": [
       "No Defect    184\n",
       "Defect        16\n",
       "Name: actual, dtype: int64"
      ]
     },
     "execution_count": 42,
     "metadata": {},
     "output_type": "execute_result"
    }
   ],
   "source": [
    "C3.actual.value_counts()"
   ]
  },
  {
   "cell_type": "code",
   "execution_count": 35,
   "id": "3a592122",
   "metadata": {},
   "outputs": [
    {
     "data": {
      "text/plain": [
       "No Defect    110\n",
       "Defect        90\n",
       "Name: model2, dtype: int64"
      ]
     },
     "execution_count": 35,
     "metadata": {},
     "output_type": "execute_result"
    }
   ],
   "source": [
    "C3.model2.value_counts()"
   ]
  },
  {
   "cell_type": "code",
   "execution_count": 43,
   "id": "2408f09d",
   "metadata": {},
   "outputs": [
    {
     "data": {
      "text/plain": [
       "(0.63, 1.0, 0.17777777777777778)"
      ]
     },
     "execution_count": 43,
     "metadata": {},
     "output_type": "execute_result"
    }
   ],
   "source": [
    "# pos - defect\n",
    "# neg - no defect\n",
    "\n",
    "# model2-\n",
    "\n",
    "true_pos = 16\n",
    "false_pos = (184 - 110)\n",
    "false_neg = 0\n",
    "true_neg = 110\n",
    "\n",
    "Accuracy = (true_pos + true_neg)/(true_pos + false_pos + false_neg + true_neg)\n",
    "Recall = (true_pos)/(true_pos + false_neg)\n",
    "Precision = (true_pos)/(true_pos + false_pos)\n",
    "\n",
    "Accuracy, Recall, Precision"
   ]
  },
  {
   "cell_type": "code",
   "execution_count": 44,
   "id": "2312a5ad",
   "metadata": {},
   "outputs": [
    {
     "data": {
      "text/plain": [
       "No Defect    184\n",
       "Defect        16\n",
       "Name: actual, dtype: int64"
      ]
     },
     "execution_count": 44,
     "metadata": {},
     "output_type": "execute_result"
    }
   ],
   "source": [
    "C3.actual.value_counts()"
   ]
  },
  {
   "cell_type": "code",
   "execution_count": 36,
   "id": "7a8bf98d",
   "metadata": {},
   "outputs": [
    {
     "data": {
      "text/plain": [
       "No Defect    101\n",
       "Defect        99\n",
       "Name: model3, dtype: int64"
      ]
     },
     "execution_count": 36,
     "metadata": {},
     "output_type": "execute_result"
    }
   ],
   "source": [
    "C3.model3.value_counts()"
   ]
  },
  {
   "cell_type": "code",
   "execution_count": 45,
   "id": "de9cfd80",
   "metadata": {},
   "outputs": [
    {
     "data": {
      "text/plain": [
       "(0.5489130434782609, 1.0, 0.16161616161616163)"
      ]
     },
     "execution_count": 45,
     "metadata": {},
     "output_type": "execute_result"
    }
   ],
   "source": [
    "# pos - defect\n",
    "# neg - no defect\n",
    "\n",
    "# model3-\n",
    "\n",
    "true_pos = 16\n",
    "false_pos = (184 - 101)\n",
    "false_neg = 0\n",
    "true_neg = (184 - 99)\n",
    "\n",
    "Accuracy = (true_pos + true_neg)/(true_pos + false_pos + false_neg + true_neg)\n",
    "Recall = true_pos/(true_pos + false_neg)\n",
    "Precision = true_pos/(true_pos + false_pos)\n",
    "\n",
    "Accuracy, Recall, Precision"
   ]
  },
  {
   "cell_type": "code",
   "execution_count": null,
   "id": "c4572d5c",
   "metadata": {},
   "outputs": [],
   "source": [
    "# They tell you that they want to identify as many of the ducks that have a defect as possible. \n",
    "# Which evaluation metric would be appropriate here? \n",
    "# Which model would be the best fit for this use case? \n",
    "\n"
   ]
  }
 ],
 "metadata": {
  "kernelspec": {
   "display_name": "Python 3 (ipykernel)",
   "language": "python",
   "name": "python3"
  },
  "language_info": {
   "codemirror_mode": {
    "name": "ipython",
    "version": 3
   },
   "file_extension": ".py",
   "mimetype": "text/x-python",
   "name": "python",
   "nbconvert_exporter": "python",
   "pygments_lexer": "ipython3",
   "version": "3.9.7"
  }
 },
 "nbformat": 4,
 "nbformat_minor": 5
}
